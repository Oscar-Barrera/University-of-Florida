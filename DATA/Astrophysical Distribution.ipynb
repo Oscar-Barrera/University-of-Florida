{
 "cells": [
  {
   "cell_type": "code",
   "execution_count": 1,
   "id": "efficient-charity",
   "metadata": {
    "scrolled": false
   },
   "outputs": [],
   "source": [
    "import csv\n",
    "import pandas as pd\n",
    "import numpy as np\n",
    "import matplotlib.pyplot as plt\n",
    "%matplotlib inline"
   ]
  },
  {
   "cell_type": "code",
   "execution_count": 30,
   "id": "comparative-balloon",
   "metadata": {},
   "outputs": [
    {
     "data": {
      "text/html": [
       "<div>\n",
       "<style scoped>\n",
       "    .dataframe tbody tr th:only-of-type {\n",
       "        vertical-align: middle;\n",
       "    }\n",
       "\n",
       "    .dataframe tbody tr th {\n",
       "        vertical-align: top;\n",
       "    }\n",
       "\n",
       "    .dataframe thead th {\n",
       "        text-align: right;\n",
       "    }\n",
       "</style>\n",
       "<table border=\"1\" class=\"dataframe\">\n",
       "  <thead>\n",
       "    <tr style=\"text-align: right;\">\n",
       "      <th></th>\n",
       "      <th>#</th>\n",
       "      <th>m1</th>\n",
       "      <th>m2</th>\n",
       "      <th>DL</th>\n",
       "      <th>z</th>\n",
       "      <th>dec</th>\n",
       "      <th>ra</th>\n",
       "      <th>psi</th>\n",
       "      <th>iota</th>\n",
       "      <th>snrL</th>\n",
       "      <th>snrH</th>\n",
       "      <th>snrA</th>\n",
       "      <th>s1x</th>\n",
       "      <th>s1y</th>\n",
       "      <th>s1z</th>\n",
       "      <th>s2x</th>\n",
       "      <th>s2y</th>\n",
       "      <th>s2z</th>\n",
       "      <th>time</th>\n",
       "    </tr>\n",
       "  </thead>\n",
       "  <tbody>\n",
       "    <tr>\n",
       "      <th>0</th>\n",
       "      <td>10.754346</td>\n",
       "      <td>6.924248</td>\n",
       "      <td>1821.831205</td>\n",
       "      <td>0.344117</td>\n",
       "      <td>2.316583</td>\n",
       "      <td>2.072145</td>\n",
       "      <td>3.122644</td>\n",
       "      <td>0.829842</td>\n",
       "      <td>1.393203</td>\n",
       "      <td>3.022912</td>\n",
       "      <td>1.393203</td>\n",
       "      <td>0.0</td>\n",
       "      <td>0.0</td>\n",
       "      <td>-0.081340</td>\n",
       "      <td>0.0</td>\n",
       "      <td>0.0</td>\n",
       "      <td>0.010472</td>\n",
       "      <td>1.126259e+09</td>\n",
       "      <td>NaN</td>\n",
       "    </tr>\n",
       "    <tr>\n",
       "      <th>1</th>\n",
       "      <td>7.812071</td>\n",
       "      <td>7.132593</td>\n",
       "      <td>5547.270616</td>\n",
       "      <td>0.867417</td>\n",
       "      <td>1.347378</td>\n",
       "      <td>4.399754</td>\n",
       "      <td>0.862684</td>\n",
       "      <td>1.906980</td>\n",
       "      <td>0.354884</td>\n",
       "      <td>0.646884</td>\n",
       "      <td>0.354884</td>\n",
       "      <td>0.0</td>\n",
       "      <td>0.0</td>\n",
       "      <td>-0.037928</td>\n",
       "      <td>0.0</td>\n",
       "      <td>0.0</td>\n",
       "      <td>-0.243345</td>\n",
       "      <td>1.126259e+09</td>\n",
       "      <td>NaN</td>\n",
       "    </tr>\n",
       "    <tr>\n",
       "      <th>2</th>\n",
       "      <td>22.198376</td>\n",
       "      <td>20.382522</td>\n",
       "      <td>4328.967945</td>\n",
       "      <td>0.708888</td>\n",
       "      <td>2.149625</td>\n",
       "      <td>4.716376</td>\n",
       "      <td>5.135197</td>\n",
       "      <td>2.001950</td>\n",
       "      <td>2.531694</td>\n",
       "      <td>3.199796</td>\n",
       "      <td>2.531694</td>\n",
       "      <td>0.0</td>\n",
       "      <td>0.0</td>\n",
       "      <td>0.149157</td>\n",
       "      <td>0.0</td>\n",
       "      <td>0.0</td>\n",
       "      <td>0.121356</td>\n",
       "      <td>1.126260e+09</td>\n",
       "      <td>NaN</td>\n",
       "    </tr>\n",
       "    <tr>\n",
       "      <th>3</th>\n",
       "      <td>38.427912</td>\n",
       "      <td>34.749422</td>\n",
       "      <td>4720.539543</td>\n",
       "      <td>0.760779</td>\n",
       "      <td>0.956774</td>\n",
       "      <td>4.317055</td>\n",
       "      <td>1.543871</td>\n",
       "      <td>2.443832</td>\n",
       "      <td>2.929149</td>\n",
       "      <td>3.940365</td>\n",
       "      <td>2.929149</td>\n",
       "      <td>0.0</td>\n",
       "      <td>0.0</td>\n",
       "      <td>-0.062970</td>\n",
       "      <td>0.0</td>\n",
       "      <td>0.0</td>\n",
       "      <td>-0.024014</td>\n",
       "      <td>1.126260e+09</td>\n",
       "      <td>NaN</td>\n",
       "    </tr>\n",
       "    <tr>\n",
       "      <th>4</th>\n",
       "      <td>37.337988</td>\n",
       "      <td>22.291062</td>\n",
       "      <td>6078.020101</td>\n",
       "      <td>0.934093</td>\n",
       "      <td>1.690984</td>\n",
       "      <td>6.184412</td>\n",
       "      <td>1.372890</td>\n",
       "      <td>1.834539</td>\n",
       "      <td>1.032862</td>\n",
       "      <td>1.267282</td>\n",
       "      <td>1.032862</td>\n",
       "      <td>0.0</td>\n",
       "      <td>0.0</td>\n",
       "      <td>0.080859</td>\n",
       "      <td>0.0</td>\n",
       "      <td>0.0</td>\n",
       "      <td>0.216289</td>\n",
       "      <td>1.126260e+09</td>\n",
       "      <td>NaN</td>\n",
       "    </tr>\n",
       "    <tr>\n",
       "      <th>...</th>\n",
       "      <td>...</td>\n",
       "      <td>...</td>\n",
       "      <td>...</td>\n",
       "      <td>...</td>\n",
       "      <td>...</td>\n",
       "      <td>...</td>\n",
       "      <td>...</td>\n",
       "      <td>...</td>\n",
       "      <td>...</td>\n",
       "      <td>...</td>\n",
       "      <td>...</td>\n",
       "      <td>...</td>\n",
       "      <td>...</td>\n",
       "      <td>...</td>\n",
       "      <td>...</td>\n",
       "      <td>...</td>\n",
       "      <td>...</td>\n",
       "      <td>...</td>\n",
       "      <td>...</td>\n",
       "    </tr>\n",
       "    <tr>\n",
       "      <th>237189</th>\n",
       "      <td>12.579763</td>\n",
       "      <td>10.603938</td>\n",
       "      <td>1674.610824</td>\n",
       "      <td>0.320067</td>\n",
       "      <td>0.698481</td>\n",
       "      <td>5.650823</td>\n",
       "      <td>4.453942</td>\n",
       "      <td>2.256148</td>\n",
       "      <td>1.394353</td>\n",
       "      <td>3.735690</td>\n",
       "      <td>1.394353</td>\n",
       "      <td>0.0</td>\n",
       "      <td>0.0</td>\n",
       "      <td>-0.201226</td>\n",
       "      <td>0.0</td>\n",
       "      <td>0.0</td>\n",
       "      <td>0.273714</td>\n",
       "      <td>1.131003e+09</td>\n",
       "      <td>NaN</td>\n",
       "    </tr>\n",
       "    <tr>\n",
       "      <th>237190</th>\n",
       "      <td>8.792729</td>\n",
       "      <td>7.589753</td>\n",
       "      <td>1094.047180</td>\n",
       "      <td>0.220488</td>\n",
       "      <td>1.562015</td>\n",
       "      <td>0.466145</td>\n",
       "      <td>3.275804</td>\n",
       "      <td>1.535036</td>\n",
       "      <td>1.585401</td>\n",
       "      <td>1.611972</td>\n",
       "      <td>1.585401</td>\n",
       "      <td>0.0</td>\n",
       "      <td>0.0</td>\n",
       "      <td>0.151476</td>\n",
       "      <td>0.0</td>\n",
       "      <td>0.0</td>\n",
       "      <td>-0.102526</td>\n",
       "      <td>1.131003e+09</td>\n",
       "      <td>NaN</td>\n",
       "    </tr>\n",
       "    <tr>\n",
       "      <th>237191</th>\n",
       "      <td>7.258747</td>\n",
       "      <td>6.460710</td>\n",
       "      <td>4916.126322</td>\n",
       "      <td>0.786346</td>\n",
       "      <td>0.635515</td>\n",
       "      <td>0.409197</td>\n",
       "      <td>1.905166</td>\n",
       "      <td>1.886050</td>\n",
       "      <td>0.669399</td>\n",
       "      <td>1.109314</td>\n",
       "      <td>0.669399</td>\n",
       "      <td>0.0</td>\n",
       "      <td>0.0</td>\n",
       "      <td>0.041788</td>\n",
       "      <td>0.0</td>\n",
       "      <td>0.0</td>\n",
       "      <td>0.135590</td>\n",
       "      <td>1.131003e+09</td>\n",
       "      <td>NaN</td>\n",
       "    </tr>\n",
       "    <tr>\n",
       "      <th>237192</th>\n",
       "      <td>14.241776</td>\n",
       "      <td>11.549161</td>\n",
       "      <td>5802.693180</td>\n",
       "      <td>0.899663</td>\n",
       "      <td>2.660828</td>\n",
       "      <td>2.590238</td>\n",
       "      <td>4.330495</td>\n",
       "      <td>1.591412</td>\n",
       "      <td>0.099082</td>\n",
       "      <td>0.575642</td>\n",
       "      <td>0.099082</td>\n",
       "      <td>0.0</td>\n",
       "      <td>0.0</td>\n",
       "      <td>0.213563</td>\n",
       "      <td>0.0</td>\n",
       "      <td>0.0</td>\n",
       "      <td>0.147064</td>\n",
       "      <td>1.131003e+09</td>\n",
       "      <td>NaN</td>\n",
       "    </tr>\n",
       "    <tr>\n",
       "      <th>237193</th>\n",
       "      <td>6.158770</td>\n",
       "      <td>5.700506</td>\n",
       "      <td>3936.386632</td>\n",
       "      <td>0.655819</td>\n",
       "      <td>1.411424</td>\n",
       "      <td>4.693630</td>\n",
       "      <td>5.246540</td>\n",
       "      <td>1.657152</td>\n",
       "      <td>0.392819</td>\n",
       "      <td>0.771341</td>\n",
       "      <td>0.392819</td>\n",
       "      <td>0.0</td>\n",
       "      <td>0.0</td>\n",
       "      <td>-0.126707</td>\n",
       "      <td>0.0</td>\n",
       "      <td>0.0</td>\n",
       "      <td>-0.255118</td>\n",
       "      <td>1.131003e+09</td>\n",
       "      <td>NaN</td>\n",
       "    </tr>\n",
       "  </tbody>\n",
       "</table>\n",
       "<p>237194 rows × 19 columns</p>\n",
       "</div>"
      ],
      "text/plain": [
       "                #         m1           m2        DL         z       dec  \\\n",
       "0       10.754346   6.924248  1821.831205  0.344117  2.316583  2.072145   \n",
       "1        7.812071   7.132593  5547.270616  0.867417  1.347378  4.399754   \n",
       "2       22.198376  20.382522  4328.967945  0.708888  2.149625  4.716376   \n",
       "3       38.427912  34.749422  4720.539543  0.760779  0.956774  4.317055   \n",
       "4       37.337988  22.291062  6078.020101  0.934093  1.690984  6.184412   \n",
       "...           ...        ...          ...       ...       ...       ...   \n",
       "237189  12.579763  10.603938  1674.610824  0.320067  0.698481  5.650823   \n",
       "237190   8.792729   7.589753  1094.047180  0.220488  1.562015  0.466145   \n",
       "237191   7.258747   6.460710  4916.126322  0.786346  0.635515  0.409197   \n",
       "237192  14.241776  11.549161  5802.693180  0.899663  2.660828  2.590238   \n",
       "237193   6.158770   5.700506  3936.386632  0.655819  1.411424  4.693630   \n",
       "\n",
       "              ra       psi      iota      snrL      snrH  snrA  s1x       s1y  \\\n",
       "0       3.122644  0.829842  1.393203  3.022912  1.393203   0.0  0.0 -0.081340   \n",
       "1       0.862684  1.906980  0.354884  0.646884  0.354884   0.0  0.0 -0.037928   \n",
       "2       5.135197  2.001950  2.531694  3.199796  2.531694   0.0  0.0  0.149157   \n",
       "3       1.543871  2.443832  2.929149  3.940365  2.929149   0.0  0.0 -0.062970   \n",
       "4       1.372890  1.834539  1.032862  1.267282  1.032862   0.0  0.0  0.080859   \n",
       "...          ...       ...       ...       ...       ...   ...  ...       ...   \n",
       "237189  4.453942  2.256148  1.394353  3.735690  1.394353   0.0  0.0 -0.201226   \n",
       "237190  3.275804  1.535036  1.585401  1.611972  1.585401   0.0  0.0  0.151476   \n",
       "237191  1.905166  1.886050  0.669399  1.109314  0.669399   0.0  0.0  0.041788   \n",
       "237192  4.330495  1.591412  0.099082  0.575642  0.099082   0.0  0.0  0.213563   \n",
       "237193  5.246540  1.657152  0.392819  0.771341  0.392819   0.0  0.0 -0.126707   \n",
       "\n",
       "        s1z  s2x       s2y           s2z  time  \n",
       "0       0.0  0.0  0.010472  1.126259e+09   NaN  \n",
       "1       0.0  0.0 -0.243345  1.126259e+09   NaN  \n",
       "2       0.0  0.0  0.121356  1.126260e+09   NaN  \n",
       "3       0.0  0.0 -0.024014  1.126260e+09   NaN  \n",
       "4       0.0  0.0  0.216289  1.126260e+09   NaN  \n",
       "...     ...  ...       ...           ...   ...  \n",
       "237189  0.0  0.0  0.273714  1.131003e+09   NaN  \n",
       "237190  0.0  0.0 -0.102526  1.131003e+09   NaN  \n",
       "237191  0.0  0.0  0.135590  1.131003e+09   NaN  \n",
       "237192  0.0  0.0  0.147064  1.131003e+09   NaN  \n",
       "237193  0.0  0.0 -0.255118  1.131003e+09   NaN  \n",
       "\n",
       "[237194 rows x 19 columns]"
      ]
     },
     "execution_count": 30,
     "metadata": {},
     "output_type": "execute_result"
    }
   ],
   "source": [
    "df1 = pd.read_csv('/Users/Oscar/Documents/Research/bbh_pop_samples_z1_more_data_v1.dat', delim_whitespace = True, index_col = None)\n",
    "df1"
   ]
  },
  {
   "cell_type": "code",
   "execution_count": 31,
   "id": "beautiful-leonard",
   "metadata": {
    "scrolled": false
   },
   "outputs": [
    {
     "data": {
      "text/plain": [
       "0         10.754346\n",
       "1          7.812071\n",
       "2         22.198376\n",
       "3         38.427912\n",
       "4         37.337988\n",
       "            ...    \n",
       "237189    12.579763\n",
       "237190     8.792729\n",
       "237191     7.258747\n",
       "237192    14.241776\n",
       "237193     6.158770\n",
       "Name: #, Length: 237194, dtype: float64"
      ]
     },
     "execution_count": 31,
     "metadata": {},
     "output_type": "execute_result"
    }
   ],
   "source": [
    "m1_powerlaw = df1['#']\n",
    "m1_powerlaw"
   ]
  },
  {
   "cell_type": "code",
   "execution_count": 32,
   "id": "confident-somerset",
   "metadata": {},
   "outputs": [
    {
     "data": {
      "text/plain": [
       "0          6.924248\n",
       "1          7.132593\n",
       "2         20.382522\n",
       "3         34.749422\n",
       "4         22.291062\n",
       "            ...    \n",
       "237189    10.603938\n",
       "237190     7.589753\n",
       "237191     6.460710\n",
       "237192    11.549161\n",
       "237193     5.700506\n",
       "Name: m1, Length: 237194, dtype: float64"
      ]
     },
     "execution_count": 32,
     "metadata": {},
     "output_type": "execute_result"
    }
   ],
   "source": [
    "m2_powerlaw = df1['m1']\n",
    "m2_powerlaw"
   ]
  },
  {
   "cell_type": "code",
   "execution_count": 77,
   "id": "isolated-graduation",
   "metadata": {
    "scrolled": true
   },
   "outputs": [
    {
     "data": {
      "text/html": [
       "<div>\n",
       "<style scoped>\n",
       "    .dataframe tbody tr th:only-of-type {\n",
       "        vertical-align: middle;\n",
       "    }\n",
       "\n",
       "    .dataframe tbody tr th {\n",
       "        vertical-align: top;\n",
       "    }\n",
       "\n",
       "    .dataframe thead th {\n",
       "        text-align: right;\n",
       "    }\n",
       "</style>\n",
       "<table border=\"1\" class=\"dataframe\">\n",
       "  <thead>\n",
       "    <tr style=\"text-align: right;\">\n",
       "      <th></th>\n",
       "      <th>0</th>\n",
       "      <th>1</th>\n",
       "      <th>2</th>\n",
       "      <th>3</th>\n",
       "      <th>4</th>\n",
       "      <th>5</th>\n",
       "      <th>6</th>\n",
       "    </tr>\n",
       "  </thead>\n",
       "  <tbody>\n",
       "    <tr>\n",
       "      <th>0</th>\n",
       "      <td>6.089187</td>\n",
       "      <td>2.260648</td>\n",
       "      <td>0.074924</td>\n",
       "      <td>0.898547</td>\n",
       "      <td>0.999864</td>\n",
       "      <td>0.999997</td>\n",
       "      <td>0.999997</td>\n",
       "    </tr>\n",
       "    <tr>\n",
       "      <th>1</th>\n",
       "      <td>7.598025</td>\n",
       "      <td>3.630822</td>\n",
       "      <td>0.024307</td>\n",
       "      <td>0.995990</td>\n",
       "      <td>-0.183449</td>\n",
       "      <td>0.998364</td>\n",
       "      <td>0.998364</td>\n",
       "    </tr>\n",
       "    <tr>\n",
       "      <th>2</th>\n",
       "      <td>77.884473</td>\n",
       "      <td>5.603166</td>\n",
       "      <td>0.966515</td>\n",
       "      <td>0.019070</td>\n",
       "      <td>0.705519</td>\n",
       "      <td>0.706306</td>\n",
       "      <td>0.706306</td>\n",
       "    </tr>\n",
       "    <tr>\n",
       "      <th>3</th>\n",
       "      <td>98.653875</td>\n",
       "      <td>50.224314</td>\n",
       "      <td>0.975636</td>\n",
       "      <td>0.000853</td>\n",
       "      <td>0.218283</td>\n",
       "      <td>0.267537</td>\n",
       "      <td>0.267537</td>\n",
       "    </tr>\n",
       "    <tr>\n",
       "      <th>4</th>\n",
       "      <td>49.559543</td>\n",
       "      <td>2.306441</td>\n",
       "      <td>0.000232</td>\n",
       "      <td>0.911208</td>\n",
       "      <td>-0.352839</td>\n",
       "      <td>0.999998</td>\n",
       "      <td>0.999998</td>\n",
       "    </tr>\n",
       "    <tr>\n",
       "      <th>...</th>\n",
       "      <td>...</td>\n",
       "      <td>...</td>\n",
       "      <td>...</td>\n",
       "      <td>...</td>\n",
       "      <td>...</td>\n",
       "      <td>...</td>\n",
       "      <td>...</td>\n",
       "    </tr>\n",
       "    <tr>\n",
       "      <th>184607</th>\n",
       "      <td>63.744007</td>\n",
       "      <td>12.967955</td>\n",
       "      <td>0.710113</td>\n",
       "      <td>0.085099</td>\n",
       "      <td>-0.291073</td>\n",
       "      <td>0.997405</td>\n",
       "      <td>0.997405</td>\n",
       "    </tr>\n",
       "    <tr>\n",
       "      <th>184608</th>\n",
       "      <td>31.057411</td>\n",
       "      <td>9.528201</td>\n",
       "      <td>0.979382</td>\n",
       "      <td>0.005692</td>\n",
       "      <td>-0.903790</td>\n",
       "      <td>0.999999</td>\n",
       "      <td>0.999999</td>\n",
       "    </tr>\n",
       "    <tr>\n",
       "      <th>184609</th>\n",
       "      <td>26.868682</td>\n",
       "      <td>5.067025</td>\n",
       "      <td>0.627879</td>\n",
       "      <td>0.011754</td>\n",
       "      <td>-0.858989</td>\n",
       "      <td>-0.859164</td>\n",
       "      <td>-0.859164</td>\n",
       "    </tr>\n",
       "    <tr>\n",
       "      <th>184610</th>\n",
       "      <td>30.976045</td>\n",
       "      <td>14.770542</td>\n",
       "      <td>0.943876</td>\n",
       "      <td>0.037692</td>\n",
       "      <td>0.491526</td>\n",
       "      <td>0.990292</td>\n",
       "      <td>0.990292</td>\n",
       "    </tr>\n",
       "    <tr>\n",
       "      <th>184611</th>\n",
       "      <td>11.386635</td>\n",
       "      <td>2.519547</td>\n",
       "      <td>0.064235</td>\n",
       "      <td>0.979648</td>\n",
       "      <td>-0.457014</td>\n",
       "      <td>0.999898</td>\n",
       "      <td>0.999898</td>\n",
       "    </tr>\n",
       "  </tbody>\n",
       "</table>\n",
       "<p>184612 rows × 7 columns</p>\n",
       "</div>"
      ],
      "text/plain": [
       "                0          1         2         3         4         5         6\n",
       "0        6.089187   2.260648  0.074924  0.898547  0.999864  0.999997  0.999997\n",
       "1        7.598025   3.630822  0.024307  0.995990 -0.183449  0.998364  0.998364\n",
       "2       77.884473   5.603166  0.966515  0.019070  0.705519  0.706306  0.706306\n",
       "3       98.653875  50.224314  0.975636  0.000853  0.218283  0.267537  0.267537\n",
       "4       49.559543   2.306441  0.000232  0.911208 -0.352839  0.999998  0.999998\n",
       "...           ...        ...       ...       ...       ...       ...       ...\n",
       "184607  63.744007  12.967955  0.710113  0.085099 -0.291073  0.997405  0.997405\n",
       "184608  31.057411   9.528201  0.979382  0.005692 -0.903790  0.999999  0.999999\n",
       "184609  26.868682   5.067025  0.627879  0.011754 -0.858989 -0.859164 -0.859164\n",
       "184610  30.976045  14.770542  0.943876  0.037692  0.491526  0.990292  0.990292\n",
       "184611  11.386635   2.519547  0.064235  0.979648 -0.457014  0.999898  0.999898\n",
       "\n",
       "[184612 rows x 7 columns]"
      ]
     },
     "execution_count": 77,
     "metadata": {},
     "output_type": "execute_result"
    }
   ],
   "source": [
    "df2 = pd.read_csv('/Users/Oscar/Documents/Research/BBH-params-10Edd.txt', delim_whitespace = True, header = None)\n",
    "df2"
   ]
  },
  {
   "cell_type": "code",
   "execution_count": 78,
   "id": "standard-forty",
   "metadata": {},
   "outputs": [
    {
     "data": {
      "text/plain": [
       "0          6.089187\n",
       "1          7.598025\n",
       "2         77.884473\n",
       "3         98.653875\n",
       "4         49.559543\n",
       "            ...    \n",
       "184607    63.744007\n",
       "184608    31.057411\n",
       "184609    26.868682\n",
       "184610    30.976045\n",
       "184611    11.386635\n",
       "Name: 0, Length: 184612, dtype: float64"
      ]
     },
     "execution_count": 78,
     "metadata": {},
     "output_type": "execute_result"
    }
   ],
   "source": [
    "m1_AGN = df2[0]\n",
    "m1_AGN"
   ]
  },
  {
   "cell_type": "code",
   "execution_count": 79,
   "id": "solid-blanket",
   "metadata": {},
   "outputs": [
    {
     "data": {
      "text/plain": [
       "0          2.260648\n",
       "1          3.630822\n",
       "2          5.603166\n",
       "3         50.224314\n",
       "4          2.306441\n",
       "            ...    \n",
       "184607    12.967955\n",
       "184608     9.528201\n",
       "184609     5.067025\n",
       "184610    14.770542\n",
       "184611     2.519547\n",
       "Name: 1, Length: 184612, dtype: float64"
      ]
     },
     "execution_count": 79,
     "metadata": {},
     "output_type": "execute_result"
    }
   ],
   "source": [
    "m2_AGN = df2[1]\n",
    "m2_AGN"
   ]
  },
  {
   "cell_type": "markdown",
   "id": "surrounded-combat",
   "metadata": {},
   "source": [
    "df = pd.DataFrame(m2_AGN)\n",
    "df.to_excel(excel_writer = \"/Users/Oscar/Documents/Research/m2_AGN.xlsx\") "
   ]
  },
  {
   "cell_type": "code",
   "execution_count": 26,
   "id": "presidential-campaign",
   "metadata": {},
   "outputs": [],
   "source": [
    "data = pd.read_excel (r'/Users/Oscar/Documents/Research/Distributions.xlsx',sheet_name=\"Distribution\" , engine='openpyxl')\n",
    "df = pd.DataFrame(data)"
   ]
  },
  {
   "cell_type": "code",
   "execution_count": 27,
   "id": "knowing-serum",
   "metadata": {
    "scrolled": false
   },
   "outputs": [
    {
     "data": {
      "image/png": "[encoded data removed]",
      "text/plain": [
       "<Figure size 432x288 with 1 Axes>"
      ]
     },
     "metadata": {
      "needs_background": "light"
     },
     "output_type": "display_data"
    }
   ],
   "source": [
    "f = df.m1_powerlaw.plot(kind = 'hist', bins = 250, density = True, color = 'C1', alpha = 0.5)\n",
    "df.m2_powerlaw.plot(kind = 'hist', bins = 250, density = True, color = 'C0', alpha = 0.5)\n",
    "\n",
    "f.set_xlim([0,55])\n",
    "f.legend(labels = ['$M_{1}$ Power Law','$M_{2}$ Power Law'], fontsize = 14)\n",
    "plt.show()"
   ]
  },
  {
   "cell_type": "code",
   "execution_count": 35,
   "id": "theoretical-photography",
   "metadata": {
    "scrolled": false
   },
   "outputs": [
    {
     "data": {
      "image/png": "[encoded data removed]",
      "text/plain": [
       "<Figure size 432x288 with 1 Axes>"
      ]
     },
     "metadata": {
      "needs_background": "light"
     },
     "output_type": "display_data"
    }
   ],
   "source": [
    "m1dist = m1_powerlaw.plot.kde().get_lines()[0].get_xydata()"
   ]
  },
  {
   "cell_type": "code",
   "execution_count": 20,
   "id": "advised-robin",
   "metadata": {},
   "outputs": [
    {
     "data": {
      "image/png": "[encoded data removed]",
      "text/plain": [
       "<Figure size 432x288 with 1 Axes>"
      ]
     },
     "metadata": {
      "needs_background": "light"
     },
     "output_type": "display_data"
    }
   ],
   "source": [
    "m2dist = m2_powerlaw.plot.kde().get_lines()[0].get_xydata()"
   ]
  },
  {
   "cell_type": "code",
   "execution_count": 250,
   "id": "fantastic-headline",
   "metadata": {},
   "outputs": [
    {
     "data": {
      "image/png": "[encoded data removed]",
      "text/plain": [
       "<Figure size 432x288 with 1 Axes>"
      ]
     },
     "metadata": {
      "needs_background": "light"
     },
     "output_type": "display_data"
    }
   ],
   "source": [
    "df.m1_AGN.plot(kind = 'hist', bins =1000, density = True, color = 'C1', alpha = 0.5)\n",
    "plt.legend(labels = ['$M_{1}$ AGN'], fontsize = 14)\n",
    "plt.xlim([0,400])\n",
    "plt.show()"
   ]
  },
  {
   "cell_type": "code",
   "execution_count": 80,
   "id": "objective-script",
   "metadata": {
    "scrolled": true
   },
   "outputs": [
    {
     "data": {
      "image/png": "[encoded data removed]",
      "text/plain": [
       "<Figure size 432x288 with 1 Axes>"
      ]
     },
     "metadata": {
      "needs_background": "light"
     },
     "output_type": "display_data"
    }
   ],
   "source": [
    "m1agndist = m1_AGN.plot.kde().get_lines()[0].get_xydata()"
   ]
  },
  {
   "cell_type": "code",
   "execution_count": 81,
   "id": "happy-temperature",
   "metadata": {},
   "outputs": [
    {
     "data": {
      "image/png": "[encoded data removed]",
      "text/plain": [
       "<Figure size 432x288 with 1 Axes>"
      ]
     },
     "metadata": {
      "needs_background": "light"
     },
     "output_type": "display_data"
    }
   ],
   "source": [
    "m2agndist = m2_AGN.plot.kde().get_lines()[0].get_xydata()"
   ]
  },
  {
   "cell_type": "code",
   "execution_count": 85,
   "id": "living-oriental",
   "metadata": {},
   "outputs": [],
   "source": [
    "df = pd.DataFrame(m1agndist)\n",
    "df.to_excel(excel_writer = \"/Users/Oscar/Documents/Research/m1agndist.xlsx\") \n"
   ]
  },
  {
   "cell_type": "code",
   "execution_count": 243,
   "id": "precise-belle",
   "metadata": {},
   "outputs": [
    {
     "data": {
      "text/plain": [
       "<matplotlib.legend.Legend at 0x1571cbe20>"
      ]
     },
     "execution_count": 243,
     "metadata": {},
     "output_type": "execute_result"
    },
    {
     "data": {
      "image/png": "[encoded data removed]",
      "text/plain": [
       "<Figure size 432x288 with 1 Axes>"
      ]
     },
     "metadata": {
      "needs_background": "light"
     },
     "output_type": "display_data"
    }
   ],
   "source": [
    "df.m2_AGN.plot(kind = 'hist', bins = 500, density = True, color = 'C0', alpha = 0.5)\n",
    "plt.legend(labels = ['$M_{2}$ AGN'], fontsize = 14)"
   ]
  },
  {
   "cell_type": "code",
   "execution_count": 40,
   "id": "continental-johnson",
   "metadata": {},
   "outputs": [
    {
     "data": {
      "text/plain": [
       "<function matplotlib.pyplot.show(close=None, block=None)>"
      ]
     },
     "execution_count": 40,
     "metadata": {},
     "output_type": "execute_result"
    },
    {
     "data": {
      "image/png": "[encoded data removed]",
      "text/plain": [
       "<Figure size 432x288 with 1 Axes>"
      ]
     },
     "metadata": {
      "needs_background": "light"
     },
     "output_type": "display_data"
    }
   ],
   "source": [
    "g = np.arange(0.2,60,0.2)\n",
    "plt.plot(g**(-2.3))\n",
    "plt.xlim([0,60])\n",
    "plt.title('$M^{-2.3}$')\n",
    "plt.show"
   ]
  },
  {
   "cell_type": "code",
   "execution_count": 41,
   "id": "coordinate-terminal",
   "metadata": {},
   "outputs": [
    {
     "data": {
      "image/png": "[encoded data removed]",
      "text/plain": [
       "<Figure size 432x288 with 1 Axes>"
      ]
     },
     "metadata": {
      "needs_background": "light"
     },
     "output_type": "display_data"
    }
   ],
   "source": [
    "m2dist = m2_powerlaw.plot.kde().get_lines()[0].get_xydata()\n",
    "plt.xlim([0,60])\n",
    "plt.title('Power Law')\n",
    "plt.show()"
   ]
  }
 ],
 "metadata": {
  "kernelspec": {
   "display_name": "Python 3",
   "language": "python",
   "name": "python3"
  },
  "language_info": {
   "codemirror_mode": {
    "name": "ipython",
    "version": 3
   },
   "file_extension": ".py",
   "mimetype": "text/x-python",
   "name": "python",
   "nbconvert_exporter": "python",
   "pygments_lexer": "ipython3",
   "version": "3.9.0"
  }
 },
 "nbformat": 4,
 "nbformat_minor": 5
}
