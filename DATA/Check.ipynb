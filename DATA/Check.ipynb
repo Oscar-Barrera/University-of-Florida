{
 "cells": [
  {
   "cell_type": "code",
   "execution_count": 1,
   "id": "sophisticated-winner",
   "metadata": {},
   "outputs": [],
   "source": [
    "import numpy as np\n",
    "import matplotlib.pyplot as plt\n",
    "import pandas as pd\n",
    "from random import sample, choice\n",
    "%matplotlib inline"
   ]
  },
  {
   "cell_type": "code",
   "execution_count": 71,
   "id": "structured-toner",
   "metadata": {},
   "outputs": [],
   "source": [
    "data = pd.read_excel (r'/Users/Oscar/Documents/Research/GW190521_Mass_Distribution.xlsx' ,sheet_name=\"Distributions\" , engine='openpyxl')\n",
    "df = pd.DataFrame(data)\n"
   ]
  },
  {
   "cell_type": "code",
   "execution_count": 72,
   "id": "given-prevention",
   "metadata": {},
   "outputs": [],
   "source": [
    "M11 = df['M11']\n",
    "M12 = df['M12']\n",
    "\n",
    "M1 = df['M1']\n",
    "M1weight = df['M1_W']"
   ]
  },
  {
   "cell_type": "code",
   "execution_count": 29,
   "id": "wicked-copper",
   "metadata": {},
   "outputs": [],
   "source": [
    "M11Random = []\n",
    "M12Random = []\n",
    "\n",
    "for _ in range(2000):\n",
    "    selection = choice(M11)\n",
    "    M11Random += [selection]\n",
    "    \n",
    "for _ in range(2000):\n",
    "    selection2 = choice(M12)\n",
    "    M12Random += [selection2]"
   ]
  },
  {
   "cell_type": "code",
   "execution_count": 31,
   "id": "forbidden-poker",
   "metadata": {},
   "outputs": [],
   "source": [
    "#Mrem formula\n",
    "def Mrem(mass1,mass2):\n",
    "    M0 = 0.951507\n",
    "    K2d = 1.995246\n",
    "    K4f = 2.980990\n",
    "    MSum3 = mass1 + mass2\n",
    "    n3 = (mass1 * mass2) / MSum3 \n",
    "    dm3 = (mass1 - mass2) / MSum3\n",
    "    Mrem_Mass = ((4*n3) * (4*n3) * ( M0 + K2d*dm3**2 + K4f*dm3**4 ) + (1 + 17 * n3)*dm3**6) / MSum3\n",
    "    return Mrem_Mass"
   ]
  },
  {
   "cell_type": "code",
   "execution_count": 111,
   "id": "bearing-integer",
   "metadata": {},
   "outputs": [],
   "source": [
    "M1_Rebuilt = Mrem(np.array(M11Random),np.array(M12Random))"
   ]
  },
  {
   "cell_type": "code",
   "execution_count": 134,
   "id": "civic-mustang",
   "metadata": {},
   "outputs": [
    {
     "data": {
      "image/png": "[encoded data removed]",
      "text/plain": [
       "<Figure size 432x288 with 1 Axes>"
      ]
     },
     "metadata": {
      "needs_background": "light"
     },
     "output_type": "display_data"
    }
   ],
   "source": [
    "plt.hist(M1, bins = 100, color = 'C0', density = True)\n",
    "plt.hist(M1_Rebuilt, bins = 35, histtype = 'stepfilled', color = 'C1', density = True,alpha = 0.75)\n",
    "plt.legend(labels = ['M1 Rebuilt','M1 Original'])\n",
    "plt.show()"
   ]
  },
  {
   "cell_type": "code",
   "execution_count": 112,
   "id": "waiting-invalid",
   "metadata": {},
   "outputs": [],
   "source": [
    "xy = (M11Random, M12Random, M1_Rebuilt)\n",
    "\n",
    "df = pd.DataFrame(xy).T\n",
    "df.to_excel(excel_writer = \"/Users/Oscar/Documents/Research/xy.xlsx\") "
   ]
  },
  {
   "cell_type": "code",
   "execution_count": 115,
   "id": "pleasant-cooling",
   "metadata": {},
   "outputs": [],
   "source": [
    "data = pd.read_excel (r'/Users/Oscar/Documents/Research/GW190521_Mass_Distribution.xlsx' ,sheet_name=\"Check\" , engine='openpyxl')\n",
    "df = pd.DataFrame(data)\n",
    "\n",
    "M11R = df['M11R']\n",
    "M12R = df['M12R']\n",
    "M1R = df['M1R']\n",
    "M1RWeight = df['M1RWeight']"
   ]
  },
  {
   "cell_type": "code",
   "execution_count": 133,
   "id": "satellite-kansas",
   "metadata": {},
   "outputs": [
    {
     "data": {
      "image/png": "[encoded data removed]",
      "text/plain": [
       "<Figure size 432x288 with 1 Axes>"
      ]
     },
     "metadata": {
      "needs_background": "light"
     },
     "output_type": "display_data"
    }
   ],
   "source": [
    "plt.hist(M1, bins = 100, color = 'C0', density = True, weights = M1weight)\n",
    "plt.hist(M1R, bins = 100, weights = M1RWeight, color = 'C1', density = True, alpha = 0.65, histtype = 'stepfilled')\n",
    "plt.legend(labels = ['M1 rebuilt','M1 original'])\n",
    "plt.show()"
   ]
  },
  {
   "cell_type": "code",
   "execution_count": null,
   "id": "interim-crisis",
   "metadata": {},
   "outputs": [],
   "source": []
  }
 ],
 "metadata": {
  "kernelspec": {
   "display_name": "Python 3",
   "language": "python",
   "name": "python3"
  },
  "language_info": {
   "codemirror_mode": {
    "name": "ipython",
    "version": 3
   },
   "file_extension": ".py",
   "mimetype": "text/x-python",
   "name": "python",
   "nbconvert_exporter": "python",
   "pygments_lexer": "ipython3",
   "version": "3.9.0"
  }
 },
 "nbformat": 4,
 "nbformat_minor": 5
}
