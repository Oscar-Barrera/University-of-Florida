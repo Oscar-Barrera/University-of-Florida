{
 "cells": [
  {
   "cell_type": "markdown",
   "id": "3d99a215-b988-4007-b260-ba5ed62c12c5",
   "metadata": {},
   "source": [
    "# Term Project - Oscar Barrera"
   ]
  },
  {
   "cell_type": "markdown",
   "id": "7b77c905-d9be-44ac-be9d-2e78546472a7",
   "metadata": {},
   "source": [
    "Ligo detects gravitational waves from black hole mergers. Some of these mergers involved a BH of mass > 50 solar masses. It so happens that there is a mass gap in the formation of BH, where we cannot explain masses greater than 50 solar masses through stellar core collapse. We hypothesize that the unusual mass in these mergers is the product of hierarchical mergers; that is, the primary and secondary masses involved in a GW event may themselves be the product of previous mergers.  It is the purpose of this term project to investigate and classify potential hierarchical mergers from the remnant mass of a BH."
   ]
  },
  {
   "cell_type": "code",
   "execution_count": 1,
   "id": "f48138b4-362b-45a6-9251-f25f66623754",
   "metadata": {},
   "outputs": [],
   "source": [
    "import pandas as pd\n",
    "import matplotlib.pyplot as plt\n",
    "from scipy.stats import norm\n",
    "import numpy as np\n",
    "from scipy import interpolate\n",
    "import seaborn as sns\n",
    "%matplotlib inline"
   ]
  },
  {
   "cell_type": "markdown",
   "id": "6ac69f5b-a7cd-4b3b-ba7a-f85eb07b9fab",
   "metadata": {},
   "source": [
    "I compiled all the available GW data from LIGO papers and uploaded it as a CSV"
   ]
  },
  {
   "cell_type": "code",
   "execution_count": 2,
   "id": "c25d32c2-d774-4bcd-b221-82a097fe3d90",
   "metadata": {},
   "outputs": [],
   "source": [
    "GWMergers = pd.read_csv('/blue/ast4930/share/GW_MERGERS.csv')"
   ]
  },
  {
   "cell_type": "code",
   "execution_count": 3,
   "id": "7f36cd8e-38c9-4a1e-a4ba-3146f3c75b4d",
   "metadata": {},
   "outputs": [
    {
     "data": {
      "text/html": [
       "<div>\n",
       "<style scoped>\n",
       "    .dataframe tbody tr th:only-of-type {\n",
       "        vertical-align: middle;\n",
       "    }\n",
       "\n",
       "    .dataframe tbody tr th {\n",
       "        vertical-align: top;\n",
       "    }\n",
       "\n",
       "    .dataframe thead th {\n",
       "        text-align: right;\n",
       "    }\n",
       "</style>\n",
       "<table border=\"1\" class=\"dataframe\">\n",
       "  <thead>\n",
       "    <tr style=\"text-align: right;\">\n",
       "      <th></th>\n",
       "      <th>Name</th>\n",
       "      <th>Mass 1 (M☉)</th>\n",
       "      <th>Mass 2 (M☉)</th>\n",
       "      <th>Total Mass (M☉)</th>\n",
       "      <th>Final Mass (M☉)</th>\n",
       "      <th>Xeff</th>\n",
       "      <th>Xf</th>\n",
       "    </tr>\n",
       "  </thead>\n",
       "  <tbody>\n",
       "    <tr>\n",
       "      <th>0</th>\n",
       "      <td>GW190814</td>\n",
       "      <td>23.2</td>\n",
       "      <td>2.59</td>\n",
       "      <td>25.8</td>\n",
       "      <td>25.6</td>\n",
       "      <td>0.00</td>\n",
       "      <td>0.28</td>\n",
       "    </tr>\n",
       "    <tr>\n",
       "      <th>1</th>\n",
       "      <td>GW190924_021846</td>\n",
       "      <td>8.8</td>\n",
       "      <td>5.00</td>\n",
       "      <td>13.9</td>\n",
       "      <td>13.3</td>\n",
       "      <td>0.03</td>\n",
       "      <td>0.67</td>\n",
       "    </tr>\n",
       "    <tr>\n",
       "      <th>2</th>\n",
       "      <td>GW190930_133541</td>\n",
       "      <td>12.3</td>\n",
       "      <td>7.80</td>\n",
       "      <td>20.3</td>\n",
       "      <td>19.3</td>\n",
       "      <td>0.14</td>\n",
       "      <td>0.72</td>\n",
       "    </tr>\n",
       "    <tr>\n",
       "      <th>3</th>\n",
       "      <td>GW190720_000836</td>\n",
       "      <td>13.3</td>\n",
       "      <td>7.80</td>\n",
       "      <td>21.3</td>\n",
       "      <td>20.3</td>\n",
       "      <td>0.18</td>\n",
       "      <td>0.72</td>\n",
       "    </tr>\n",
       "    <tr>\n",
       "      <th>4</th>\n",
       "      <td>GW190728_064510</td>\n",
       "      <td>12.2</td>\n",
       "      <td>8.10</td>\n",
       "      <td>20.5</td>\n",
       "      <td>19.5</td>\n",
       "      <td>0.12</td>\n",
       "      <td>0.71</td>\n",
       "    </tr>\n",
       "    <tr>\n",
       "      <th>5</th>\n",
       "      <td>GW190412</td>\n",
       "      <td>30.0</td>\n",
       "      <td>8.30</td>\n",
       "      <td>38.4</td>\n",
       "      <td>37.3</td>\n",
       "      <td>0.25</td>\n",
       "      <td>0.67</td>\n",
       "    </tr>\n",
       "    <tr>\n",
       "      <th>6</th>\n",
       "      <td>GW190707_093326</td>\n",
       "      <td>11.5</td>\n",
       "      <td>8.40</td>\n",
       "      <td>20.0</td>\n",
       "      <td>19.2</td>\n",
       "      <td>-0.05</td>\n",
       "      <td>0.66</td>\n",
       "    </tr>\n",
       "    <tr>\n",
       "      <th>7</th>\n",
       "      <td>GW190828_065509</td>\n",
       "      <td>23.8</td>\n",
       "      <td>10.20</td>\n",
       "      <td>34.1</td>\n",
       "      <td>32.9</td>\n",
       "      <td>0.08</td>\n",
       "      <td>0.65</td>\n",
       "    </tr>\n",
       "    <tr>\n",
       "      <th>8</th>\n",
       "      <td>GW190512_180714</td>\n",
       "      <td>23.0</td>\n",
       "      <td>12.50</td>\n",
       "      <td>35.6</td>\n",
       "      <td>34.2</td>\n",
       "      <td>0.03</td>\n",
       "      <td>0.65</td>\n",
       "    </tr>\n",
       "    <tr>\n",
       "      <th>9</th>\n",
       "      <td>GW190708_232457</td>\n",
       "      <td>17.5</td>\n",
       "      <td>13.10</td>\n",
       "      <td>30.8</td>\n",
       "      <td>29.4</td>\n",
       "      <td>0.02</td>\n",
       "      <td>0.69</td>\n",
       "    </tr>\n",
       "    <tr>\n",
       "      <th>10</th>\n",
       "      <td>GW190513_205428</td>\n",
       "      <td>35.3</td>\n",
       "      <td>18.10</td>\n",
       "      <td>53.6</td>\n",
       "      <td>51.3</td>\n",
       "      <td>0.12</td>\n",
       "      <td>0.69</td>\n",
       "    </tr>\n",
       "    <tr>\n",
       "      <th>11</th>\n",
       "      <td>GW190408_181802</td>\n",
       "      <td>24.5</td>\n",
       "      <td>18.30</td>\n",
       "      <td>42.9</td>\n",
       "      <td>41.0</td>\n",
       "      <td>-0.03</td>\n",
       "      <td>0.67</td>\n",
       "    </tr>\n",
       "    <tr>\n",
       "      <th>12</th>\n",
       "      <td>GW190719_215514</td>\n",
       "      <td>35.2</td>\n",
       "      <td>20.20</td>\n",
       "      <td>55.8</td>\n",
       "      <td>52.9</td>\n",
       "      <td>0.35</td>\n",
       "      <td>0.80</td>\n",
       "    </tr>\n",
       "    <tr>\n",
       "      <th>13</th>\n",
       "      <td>GW190527_092055</td>\n",
       "      <td>36.2</td>\n",
       "      <td>22.80</td>\n",
       "      <td>58.5</td>\n",
       "      <td>55.9</td>\n",
       "      <td>0.13</td>\n",
       "      <td>0.73</td>\n",
       "    </tr>\n",
       "    <tr>\n",
       "      <th>14</th>\n",
       "      <td>GW190413_052954</td>\n",
       "      <td>33.4</td>\n",
       "      <td>23.40</td>\n",
       "      <td>56.9</td>\n",
       "      <td>54.3</td>\n",
       "      <td>0.01</td>\n",
       "      <td>0.69</td>\n",
       "    </tr>\n",
       "    <tr>\n",
       "      <th>15</th>\n",
       "      <td>GW190630_185205</td>\n",
       "      <td>35.0</td>\n",
       "      <td>23.60</td>\n",
       "      <td>58.8</td>\n",
       "      <td>56.1</td>\n",
       "      <td>0.10</td>\n",
       "      <td>0.70</td>\n",
       "    </tr>\n",
       "    <tr>\n",
       "      <th>16</th>\n",
       "      <td>GW190915_235702</td>\n",
       "      <td>34.9</td>\n",
       "      <td>24.40</td>\n",
       "      <td>59.5</td>\n",
       "      <td>56.8</td>\n",
       "      <td>0.03</td>\n",
       "      <td>0.71</td>\n",
       "    </tr>\n",
       "    <tr>\n",
       "      <th>17</th>\n",
       "      <td>GW190517_055101</td>\n",
       "      <td>36.4</td>\n",
       "      <td>24.80</td>\n",
       "      <td>61.9</td>\n",
       "      <td>57.8</td>\n",
       "      <td>0.53</td>\n",
       "      <td>0.87</td>\n",
       "    </tr>\n",
       "    <tr>\n",
       "      <th>18</th>\n",
       "      <td>GW190929_012149</td>\n",
       "      <td>64.7</td>\n",
       "      <td>25.70</td>\n",
       "      <td>90.6</td>\n",
       "      <td>87.5</td>\n",
       "      <td>0.03</td>\n",
       "      <td>0.64</td>\n",
       "    </tr>\n",
       "    <tr>\n",
       "      <th>19</th>\n",
       "      <td>GW190828_063405</td>\n",
       "      <td>31.8</td>\n",
       "      <td>25.90</td>\n",
       "      <td>57.5</td>\n",
       "      <td>54.5</td>\n",
       "      <td>0.19</td>\n",
       "      <td>0.76</td>\n",
       "    </tr>\n",
       "    <tr>\n",
       "      <th>20</th>\n",
       "      <td>GW190803_022701</td>\n",
       "      <td>36.1</td>\n",
       "      <td>26.70</td>\n",
       "      <td>62.7</td>\n",
       "      <td>59.9</td>\n",
       "      <td>-0.01</td>\n",
       "      <td>0.69</td>\n",
       "    </tr>\n",
       "    <tr>\n",
       "      <th>21</th>\n",
       "      <td>GW190514_065416</td>\n",
       "      <td>36.9</td>\n",
       "      <td>27.50</td>\n",
       "      <td>64.2</td>\n",
       "      <td>61.6</td>\n",
       "      <td>-0.16</td>\n",
       "      <td>0.64</td>\n",
       "    </tr>\n",
       "    <tr>\n",
       "      <th>22</th>\n",
       "      <td>GW190909_114149</td>\n",
       "      <td>43.2</td>\n",
       "      <td>27.60</td>\n",
       "      <td>71.2</td>\n",
       "      <td>68.3</td>\n",
       "      <td>-0.03</td>\n",
       "      <td>0.68</td>\n",
       "    </tr>\n",
       "    <tr>\n",
       "      <th>23</th>\n",
       "      <td>GW190731_140936</td>\n",
       "      <td>39.3</td>\n",
       "      <td>28.00</td>\n",
       "      <td>67.1</td>\n",
       "      <td>63.9</td>\n",
       "      <td>0.08</td>\n",
       "      <td>0.71</td>\n",
       "    </tr>\n",
       "    <tr>\n",
       "      <th>24</th>\n",
       "      <td>GW190503_185404</td>\n",
       "      <td>42.9</td>\n",
       "      <td>28.50</td>\n",
       "      <td>71.3</td>\n",
       "      <td>68.2</td>\n",
       "      <td>-0.02</td>\n",
       "      <td>0.67</td>\n",
       "    </tr>\n",
       "    <tr>\n",
       "      <th>25</th>\n",
       "      <td>GW190727_060333</td>\n",
       "      <td>37.2</td>\n",
       "      <td>28.80</td>\n",
       "      <td>65.8</td>\n",
       "      <td>62.6</td>\n",
       "      <td>0.12</td>\n",
       "      <td>0.73</td>\n",
       "    </tr>\n",
       "    <tr>\n",
       "      <th>26</th>\n",
       "      <td>GW190413_134308</td>\n",
       "      <td>45.4</td>\n",
       "      <td>30.90</td>\n",
       "      <td>76.1</td>\n",
       "      <td>72.8</td>\n",
       "      <td>-0.01</td>\n",
       "      <td>0.69</td>\n",
       "    </tr>\n",
       "    <tr>\n",
       "      <th>27</th>\n",
       "      <td>GW190424_180648</td>\n",
       "      <td>39.5</td>\n",
       "      <td>31.00</td>\n",
       "      <td>70.7</td>\n",
       "      <td>67.1</td>\n",
       "      <td>0.15</td>\n",
       "      <td>0.75</td>\n",
       "    </tr>\n",
       "    <tr>\n",
       "      <th>28</th>\n",
       "      <td>GW190421_213856</td>\n",
       "      <td>40.6</td>\n",
       "      <td>31.40</td>\n",
       "      <td>71.8</td>\n",
       "      <td>68.6</td>\n",
       "      <td>-0.05</td>\n",
       "      <td>0.68</td>\n",
       "    </tr>\n",
       "    <tr>\n",
       "      <th>29</th>\n",
       "      <td>GW190521_074359</td>\n",
       "      <td>42.1</td>\n",
       "      <td>32.70</td>\n",
       "      <td>74.4</td>\n",
       "      <td>70.7</td>\n",
       "      <td>0.09</td>\n",
       "      <td>0.72</td>\n",
       "    </tr>\n",
       "    <tr>\n",
       "      <th>30</th>\n",
       "      <td>GW190620_030421</td>\n",
       "      <td>55.4</td>\n",
       "      <td>35.00</td>\n",
       "      <td>90.1</td>\n",
       "      <td>85.4</td>\n",
       "      <td>0.34</td>\n",
       "      <td>0.80</td>\n",
       "    </tr>\n",
       "    <tr>\n",
       "      <th>31</th>\n",
       "      <td>GW190910_112807</td>\n",
       "      <td>43.5</td>\n",
       "      <td>35.10</td>\n",
       "      <td>78.7</td>\n",
       "      <td>75.0</td>\n",
       "      <td>0.02</td>\n",
       "      <td>0.70</td>\n",
       "    </tr>\n",
       "    <tr>\n",
       "      <th>32</th>\n",
       "      <td>GW190706_222641</td>\n",
       "      <td>64.0</td>\n",
       "      <td>38.50</td>\n",
       "      <td>101.6</td>\n",
       "      <td>96.3</td>\n",
       "      <td>0.32</td>\n",
       "      <td>0.80</td>\n",
       "    </tr>\n",
       "    <tr>\n",
       "      <th>33</th>\n",
       "      <td>GW190519_153544</td>\n",
       "      <td>64.5</td>\n",
       "      <td>39.90</td>\n",
       "      <td>104.2</td>\n",
       "      <td>98.7</td>\n",
       "      <td>0.33</td>\n",
       "      <td>0.80</td>\n",
       "    </tr>\n",
       "    <tr>\n",
       "      <th>34</th>\n",
       "      <td>GW190701_203306</td>\n",
       "      <td>53.6</td>\n",
       "      <td>40.80</td>\n",
       "      <td>94.1</td>\n",
       "      <td>90.0</td>\n",
       "      <td>-0.06</td>\n",
       "      <td>0.67</td>\n",
       "    </tr>\n",
       "    <tr>\n",
       "      <th>35</th>\n",
       "      <td>GW190602_175927</td>\n",
       "      <td>67.2</td>\n",
       "      <td>47.40</td>\n",
       "      <td>114.1</td>\n",
       "      <td>108.8</td>\n",
       "      <td>0.10</td>\n",
       "      <td>0.71</td>\n",
       "    </tr>\n",
       "    <tr>\n",
       "      <th>36</th>\n",
       "      <td>GW190521</td>\n",
       "      <td>91.4</td>\n",
       "      <td>66.80</td>\n",
       "      <td>157.9</td>\n",
       "      <td>150.3</td>\n",
       "      <td>0.06</td>\n",
       "      <td>0.73</td>\n",
       "    </tr>\n",
       "  </tbody>\n",
       "</table>\n",
       "</div>"
      ],
      "text/plain": [
       "               Name  Mass 1 (M☉)  Mass 2 (M☉)  Total Mass (M☉)  \\\n",
       "0          GW190814         23.2         2.59             25.8   \n",
       "1   GW190924_021846          8.8         5.00             13.9   \n",
       "2   GW190930_133541         12.3         7.80             20.3   \n",
       "3   GW190720_000836         13.3         7.80             21.3   \n",
       "4   GW190728_064510         12.2         8.10             20.5   \n",
       "5          GW190412         30.0         8.30             38.4   \n",
       "6   GW190707_093326         11.5         8.40             20.0   \n",
       "7   GW190828_065509         23.8        10.20             34.1   \n",
       "8   GW190512_180714         23.0        12.50             35.6   \n",
       "9   GW190708_232457         17.5        13.10             30.8   \n",
       "10  GW190513_205428         35.3        18.10             53.6   \n",
       "11  GW190408_181802         24.5        18.30             42.9   \n",
       "12  GW190719_215514         35.2        20.20             55.8   \n",
       "13  GW190527_092055         36.2        22.80             58.5   \n",
       "14  GW190413_052954         33.4        23.40             56.9   \n",
       "15  GW190630_185205         35.0        23.60             58.8   \n",
       "16  GW190915_235702         34.9        24.40             59.5   \n",
       "17  GW190517_055101         36.4        24.80             61.9   \n",
       "18  GW190929_012149         64.7        25.70             90.6   \n",
       "19  GW190828_063405         31.8        25.90             57.5   \n",
       "20  GW190803_022701         36.1        26.70             62.7   \n",
       "21  GW190514_065416         36.9        27.50             64.2   \n",
       "22  GW190909_114149         43.2        27.60             71.2   \n",
       "23  GW190731_140936         39.3        28.00             67.1   \n",
       "24  GW190503_185404         42.9        28.50             71.3   \n",
       "25  GW190727_060333         37.2        28.80             65.8   \n",
       "26  GW190413_134308         45.4        30.90             76.1   \n",
       "27  GW190424_180648         39.5        31.00             70.7   \n",
       "28  GW190421_213856         40.6        31.40             71.8   \n",
       "29  GW190521_074359         42.1        32.70             74.4   \n",
       "30  GW190620_030421         55.4        35.00             90.1   \n",
       "31  GW190910_112807         43.5        35.10             78.7   \n",
       "32  GW190706_222641         64.0        38.50            101.6   \n",
       "33  GW190519_153544         64.5        39.90            104.2   \n",
       "34  GW190701_203306         53.6        40.80             94.1   \n",
       "35  GW190602_175927         67.2        47.40            114.1   \n",
       "36         GW190521         91.4        66.80            157.9   \n",
       "\n",
       "    Final Mass (M☉)  Xeff    Xf  \n",
       "0              25.6  0.00  0.28  \n",
       "1              13.3  0.03  0.67  \n",
       "2              19.3  0.14  0.72  \n",
       "3              20.3  0.18  0.72  \n",
       "4              19.5  0.12  0.71  \n",
       "5              37.3  0.25  0.67  \n",
       "6              19.2 -0.05  0.66  \n",
       "7              32.9  0.08  0.65  \n",
       "8              34.2  0.03  0.65  \n",
       "9              29.4  0.02  0.69  \n",
       "10             51.3  0.12  0.69  \n",
       "11             41.0 -0.03  0.67  \n",
       "12             52.9  0.35  0.80  \n",
       "13             55.9  0.13  0.73  \n",
       "14             54.3  0.01  0.69  \n",
       "15             56.1  0.10  0.70  \n",
       "16             56.8  0.03  0.71  \n",
       "17             57.8  0.53  0.87  \n",
       "18             87.5  0.03  0.64  \n",
       "19             54.5  0.19  0.76  \n",
       "20             59.9 -0.01  0.69  \n",
       "21             61.6 -0.16  0.64  \n",
       "22             68.3 -0.03  0.68  \n",
       "23             63.9  0.08  0.71  \n",
       "24             68.2 -0.02  0.67  \n",
       "25             62.6  0.12  0.73  \n",
       "26             72.8 -0.01  0.69  \n",
       "27             67.1  0.15  0.75  \n",
       "28             68.6 -0.05  0.68  \n",
       "29             70.7  0.09  0.72  \n",
       "30             85.4  0.34  0.80  \n",
       "31             75.0  0.02  0.70  \n",
       "32             96.3  0.32  0.80  \n",
       "33             98.7  0.33  0.80  \n",
       "34             90.0 -0.06  0.67  \n",
       "35            108.8  0.10  0.71  \n",
       "36            150.3  0.06  0.73  "
      ]
     },
     "execution_count": 3,
     "metadata": {},
     "output_type": "execute_result"
    }
   ],
   "source": [
    "GWMergers"
   ]
  },
  {
   "cell_type": "markdown",
   "id": "4de0032a-64a1-478d-8c4d-166ed900f68d",
   "metadata": {},
   "source": [
    "We want to see if there is any correlation between the primary and secondary components of the mass and the remnant mass of the Black Hole."
   ]
  },
  {
   "cell_type": "code",
   "execution_count": 4,
   "id": "0cf027f2-b756-4997-8fff-5deb5791b542",
   "metadata": {},
   "outputs": [],
   "source": [
    "#Call in variables from GWMergers file to use in extrapolation\n",
    "M1 = GWMergers['Mass 1 (M☉)']\n",
    "M2 = GWMergers['Mass 2 (M☉)']\n",
    "MF = GWMergers['Final Mass (M☉)']"
   ]
  },
  {
   "cell_type": "markdown",
   "id": "7218cdca-9961-4f09-bd7e-a8e890bde736",
   "metadata": {},
   "source": [
    "Let's plot the data and see if there is anything that stands out"
   ]
  },
  {
   "cell_type": "code",
   "execution_count": 5,
   "id": "7432aec7-8128-4c9a-bd0a-f67b563d793b",
   "metadata": {},
   "outputs": [
    {
     "data": {
      "image/png": "[encoded data removed]",
      "text/plain": [
       "<Figure size 432x288 with 1 Axes>"
      ]
     },
     "metadata": {
      "needs_background": "light"
     },
     "output_type": "display_data"
    }
   ],
   "source": [
    "GWMergers.plot.scatter(x='Final Mass (M☉)', y = 'Mass 1 (M☉)')\n",
    "plt.title('Primary Mass vs. Remnant Mass')\n",
    "plt.xlabel('Remnant (M☉)')\n",
    "plt.ylabel('Primary (M☉)')\n",
    "plt.show()"
   ]
  },
  {
   "cell_type": "code",
   "execution_count": 6,
   "id": "d2f54e15-3a8d-4950-a31c-ca9ac481bd6d",
   "metadata": {},
   "outputs": [
    {
     "data": {
      "image/png": "[encoded data removed]",
      "text/plain": [
       "<Figure size 432x288 with 1 Axes>"
      ]
     },
     "metadata": {
      "needs_background": "light"
     },
     "output_type": "display_data"
    }
   ],
   "source": [
    "GWMergers.plot.scatter(x='Final Mass (M☉)', y = 'Mass 2 (M☉)')\n",
    "plt.title('Secondary Mass vs. Remnant Mass')\n",
    "plt.xlabel('Remnant (M☉)')\n",
    "plt.ylabel('Secondary (M☉)')\n",
    "plt.show()"
   ]
  },
  {
   "cell_type": "markdown",
   "id": "402a3c51-4162-4d7f-abfc-d07da52ff7e3",
   "metadata": {},
   "source": [
    "Since it appears that there is a linear correlation between the Remnant Mass and the Primary / Secondary Masses, we can try to extrapolate the values for a given Black Hole merger. Lets try GW190521"
   ]
  },
  {
   "cell_type": "code",
   "execution_count": 7,
   "id": "aca64549-4bf6-4dd8-83bb-eb05edcaf598",
   "metadata": {},
   "outputs": [],
   "source": [
    "#Define function to extrapolate primary or secondary value from plot\n",
    "\n",
    "def extrap(mass,aprox):\n",
    "    f = interpolate.interp1d(MF, mass, fill_value = \"extrapolate\")\n",
    "    A = f(aprox)\n",
    "\n",
    "    if mass is M1:\n",
    "        name = 'Primary Mass'\n",
    "    if mass is M2:\n",
    "        name = 'Secondary Mass'\n",
    "    \n",
    "    print('For a Remnant Mass of', aprox, name, 'was ~', np.around(A,2), '(M☉)')"
   ]
  },
  {
   "cell_type": "markdown",
   "id": "bea5731b-f979-481d-bbb8-005f79ed5852",
   "metadata": {},
   "source": [
    "GW190521 -> Final Mass of 150 (M☉)"
   ]
  },
  {
   "cell_type": "code",
   "execution_count": 8,
   "id": "caf862be-d1df-40a2-a2fb-91af7dfa10c8",
   "metadata": {},
   "outputs": [
    {
     "name": "stdout",
     "output_type": "stream",
     "text": [
      "For a Remnant Mass of 150 Primary Mass was ~ 91.23 (M☉)\n",
      "For a Remnant Mass of 150 Secondary Mass was ~ 66.66 (M☉)\n"
     ]
    }
   ],
   "source": [
    "extrap(M1, 150)\n",
    "extrap(M2, 150)"
   ]
  },
  {
   "cell_type": "markdown",
   "id": "c55cbd17-adc1-49d8-a399-66572af41a75",
   "metadata": {},
   "source": [
    "This is very close to our expected values from LIGO, as\n",
    "Mass 1: 85;\n",
    "Mass 2: 66"
   ]
  },
  {
   "cell_type": "markdown",
   "id": "da294ccc-5cd4-4239-a4b1-4abbdd1ddd84",
   "metadata": {},
   "source": [
    "Now we need to classify which primary or secondary masses will result in a remnant mass in the Mass Gap. Lets assign labels"
   ]
  },
  {
   "cell_type": "code",
   "execution_count": 9,
   "id": "9635bec4-ec27-4d94-bc3b-1ff8006cb272",
   "metadata": {},
   "outputs": [],
   "source": [
    "#Label array\n",
    "Label = []\n",
    "#array of masses to classify\n",
    "massvalue = np.arange(5,150,.5)\n",
    "\n",
    "#Define function to extrapolate primary or secondary value from plot\n",
    "def extrapolate(mass,aprox):\n",
    "    f = interpolate.interp1d(MF, mass, fill_value = \"extrapolate\")\n",
    "    A = f(aprox)\n",
    "\n",
    "    if mass is M1:\n",
    "        name = 'Primary Mass'\n",
    "    if mass is M2:\n",
    "        name = 'Secondary Mass'\n",
    "    return A\n",
    "\n",
    "for i in massvalue:\n",
    "    if extrapolate(M1, i) > 50:\n",
    "        Label += [1]\n",
    "    else:\n",
    "        Label += [0]"
   ]
  },
  {
   "cell_type": "markdown",
   "id": "0611f627-48f9-414b-93fa-5f9eb41e3c90",
   "metadata": {},
   "source": [
    "Now we have a Label which predicts if a BH merger resulted from hierarchical mergers. Lets see what it looks like with GW data"
   ]
  },
  {
   "cell_type": "code",
   "execution_count": 10,
   "id": "09f30c43-7926-4433-804a-779f755b4e2c",
   "metadata": {},
   "outputs": [],
   "source": [
    "LabelsGW = []\n",
    "for i in GWMergers['Final Mass (M☉)']:\n",
    "    if extrapolate(M1, i) > 50:\n",
    "        LabelsGW += [1]\n",
    "    else: LabelsGW += [0]"
   ]
  },
  {
   "cell_type": "code",
   "execution_count": 11,
   "id": "d7ec053c-27cf-4f45-9a37-400c8ddff42d",
   "metadata": {},
   "outputs": [
    {
     "data": {
      "image/png": "[encoded data removed]",
      "text/plain": [
       "<Figure size 432x288 with 1 Axes>"
      ]
     },
     "metadata": {
      "needs_background": "light"
     },
     "output_type": "display_data"
    }
   ],
   "source": [
    "import seaborn as sns\n",
    "\n",
    "fig = plt.figure()\n",
    "ax = fig.add_subplot()\n",
    "\n",
    "sns.scatterplot(x = GWMergers['Final Mass (M☉)'], y= GWMergers['Mass 1 (M☉)'], hue = LabelsGW)\n",
    "\n",
    "ax.hlines(50,5,155, linestyles = \"dashed\", colors = 'grey')\n",
    "plt.xlim(5,155)\n",
    "\n",
    "plt.title('Hierarchical Mergers')\n",
    "leg = ax.legend(labels=[\"+1 generation\", \"None\"], loc = \"lower right\")\n",
    "\n",
    "leg.legendHandles[0].set_color('C1')\n",
    "leg.legendHandles[1].set_color('C0')\n",
    "\n",
    "plt.show()\n"
   ]
  },
  {
   "cell_type": "markdown",
   "id": "20ff3190-79f2-407c-9f5d-42daad294167",
   "metadata": {},
   "source": [
    "Now Lets use an actual Black Hole Merger formula https://arxiv.org/pdf/1406.7295.pdf"
   ]
  },
  {
   "cell_type": "code",
   "execution_count": 12,
   "id": "b5cb962b-3d18-4709-a7c4-48456006cc76",
   "metadata": {},
   "outputs": [],
   "source": [
    "#define m1 and m2 merger\n",
    "def MremArray(mass1,mass2):\n",
    "    M0 = 0.951507\n",
    "    K2d = 1.995246\n",
    "    K4f = 2.980990\n",
    "    \n",
    "    sol_set = []\n",
    "    \n",
    "    for i in range(len(mass1)):\n",
    "        MSum3 = mass1.item(i) + mass2.item(i)\n",
    "        n3 = (mass1.item(i) * mass2.item(i)) / MSum3 \n",
    "        dm3 = (mass1.item(i) - mass2.item(i)) / MSum3\n",
    "        \n",
    "        if mass1.item(i) > mass2.item(i):\n",
    "        \n",
    "            if mass2.item(i)/mass1.item(i) > 1/3:\n",
    "                Mrem_Mass = ((4*n3) * (4*n3) * ( M0 + K2d*dm3**2 + K4f*dm3**4 ) + (1 + 17 * n3)*dm3**6) / MSum3\n",
    "            else:\n",
    "                Mrem_Mass = mass1.item(i) + mass2.item(i)\n",
    "        else: \n",
    "            Mrem_Mass = 0\n",
    "            \n",
    "        sol_set += [Mrem_Mass]\n",
    "    return sol_set\n",
    "\n"
   ]
  },
  {
   "cell_type": "markdown",
   "id": "4b4f4c79-61eb-4a8f-86ed-6e34fb7da045",
   "metadata": {},
   "source": [
    "Lets populate a data set from this formula"
   ]
  },
  {
   "cell_type": "code",
   "execution_count": 13,
   "id": "d407799c-05ee-47fa-8dc0-2b30485fcd6b",
   "metadata": {},
   "outputs": [],
   "source": [
    "#set up array of masses\n",
    "m1_array= []\n",
    "for i in np.arange(5,150,.5):\n",
    "    m1_array += [i]\n",
    "    \n",
    "m2_array= []\n",
    "for i in np.arange(5,70,.5):\n",
    "    m2_array += [i]\n",
    "    \n",
    "#create array of solution set\n",
    "xcoor = []\n",
    "ycoor = []\n",
    "for i in m1_array:\n",
    "    for j in m2_array:\n",
    "        if i > j:\n",
    "            xcoor += [i]\n",
    "            ycoor += [j]\n",
    "\n",
    "\n",
    "\n",
    "Mrem_sol = np.around((MremArray(np.array(xcoor),np.array(ycoor))),2)\n",
    "\n",
    "Merger = pd.DataFrame(list(zip(xcoor,ycoor,Mrem_sol)), columns = ['Primary','Secondary','Remnant'])\n",
    "\n"
   ]
  },
  {
   "cell_type": "markdown",
   "id": "b3301134-2b64-4bd3-a2d9-502cc42330dc",
   "metadata": {},
   "source": [
    "This results in a dataframe showing every possible combination of BH mergers and the remnant mass that results from it"
   ]
  },
  {
   "cell_type": "code",
   "execution_count": 14,
   "id": "76451edf-aebf-4db8-a35d-3a373a0a70d7",
   "metadata": {},
   "outputs": [
    {
     "data": {
      "text/html": [
       "<div>\n",
       "<style scoped>\n",
       "    .dataframe tbody tr th:only-of-type {\n",
       "        vertical-align: middle;\n",
       "    }\n",
       "\n",
       "    .dataframe tbody tr th {\n",
       "        vertical-align: top;\n",
       "    }\n",
       "\n",
       "    .dataframe thead th {\n",
       "        text-align: right;\n",
       "    }\n",
       "</style>\n",
       "<table border=\"1\" class=\"dataframe\">\n",
       "  <thead>\n",
       "    <tr style=\"text-align: right;\">\n",
       "      <th></th>\n",
       "      <th>Primary</th>\n",
       "      <th>Secondary</th>\n",
       "      <th>Remnant</th>\n",
       "    </tr>\n",
       "  </thead>\n",
       "  <tbody>\n",
       "    <tr>\n",
       "      <th>0</th>\n",
       "      <td>5.5</td>\n",
       "      <td>5.0</td>\n",
       "      <td>9.99</td>\n",
       "    </tr>\n",
       "    <tr>\n",
       "      <th>1</th>\n",
       "      <td>6.0</td>\n",
       "      <td>5.0</td>\n",
       "      <td>10.47</td>\n",
       "    </tr>\n",
       "    <tr>\n",
       "      <th>2</th>\n",
       "      <td>6.0</td>\n",
       "      <td>5.5</td>\n",
       "      <td>10.94</td>\n",
       "    </tr>\n",
       "    <tr>\n",
       "      <th>3</th>\n",
       "      <td>6.5</td>\n",
       "      <td>5.0</td>\n",
       "      <td>10.96</td>\n",
       "    </tr>\n",
       "    <tr>\n",
       "      <th>4</th>\n",
       "      <td>6.5</td>\n",
       "      <td>5.5</td>\n",
       "      <td>11.43</td>\n",
       "    </tr>\n",
       "    <tr>\n",
       "      <th>...</th>\n",
       "      <td>...</td>\n",
       "      <td>...</td>\n",
       "      <td>...</td>\n",
       "    </tr>\n",
       "    <tr>\n",
       "      <th>29180</th>\n",
       "      <td>149.5</td>\n",
       "      <td>67.5</td>\n",
       "      <td>206.85</td>\n",
       "    </tr>\n",
       "    <tr>\n",
       "      <th>29181</th>\n",
       "      <td>149.5</td>\n",
       "      <td>68.0</td>\n",
       "      <td>207.39</td>\n",
       "    </tr>\n",
       "    <tr>\n",
       "      <th>29182</th>\n",
       "      <td>149.5</td>\n",
       "      <td>68.5</td>\n",
       "      <td>207.93</td>\n",
       "    </tr>\n",
       "    <tr>\n",
       "      <th>29183</th>\n",
       "      <td>149.5</td>\n",
       "      <td>69.0</td>\n",
       "      <td>208.47</td>\n",
       "    </tr>\n",
       "    <tr>\n",
       "      <th>29184</th>\n",
       "      <td>149.5</td>\n",
       "      <td>69.5</td>\n",
       "      <td>209.00</td>\n",
       "    </tr>\n",
       "  </tbody>\n",
       "</table>\n",
       "<p>29185 rows × 3 columns</p>\n",
       "</div>"
      ],
      "text/plain": [
       "       Primary  Secondary  Remnant\n",
       "0          5.5        5.0     9.99\n",
       "1          6.0        5.0    10.47\n",
       "2          6.0        5.5    10.94\n",
       "3          6.5        5.0    10.96\n",
       "4          6.5        5.5    11.43\n",
       "...        ...        ...      ...\n",
       "29180    149.5       67.5   206.85\n",
       "29181    149.5       68.0   207.39\n",
       "29182    149.5       68.5   207.93\n",
       "29183    149.5       69.0   208.47\n",
       "29184    149.5       69.5   209.00\n",
       "\n",
       "[29185 rows x 3 columns]"
      ]
     },
     "execution_count": 14,
     "metadata": {},
     "output_type": "execute_result"
    }
   ],
   "source": [
    "Merger"
   ]
  },
  {
   "cell_type": "markdown",
   "id": "4410c5cb-a438-4da0-9a56-5ea202a4166d",
   "metadata": {},
   "source": [
    "We will assume a gaussian distribution for the probability density of the remnant mass deduced from the observed GW mergers"
   ]
  },
  {
   "cell_type": "code",
   "execution_count": 15,
   "id": "bfaacb3b-a38b-4f29-a061-1392feb1bca2",
   "metadata": {},
   "outputs": [
    {
     "data": {
      "image/png": "[encoded data removed]",
      "text/plain": [
       "<Figure size 432x288 with 1 Axes>"
      ]
     },
     "metadata": {
      "needs_background": "light"
     },
     "output_type": "display_data"
    }
   ],
   "source": [
    "import scipy\n",
    "import statistics\n",
    "mean = statistics.mean(GWMergers['Final Mass (M☉)'])\n",
    "standard_deviation = statistics.stdev(GWMergers['Final Mass (M☉)'])\n",
    "\n",
    "x_values = np.arange(5, 210, 0.01)\n",
    "y_values = scipy.stats.norm(mean, standard_deviation)\n",
    "\n",
    "plt.plot(x_values, y_values.pdf(x_values))\n",
    "plt.xlim(5,150)\n",
    "plt.title('Gaussian Distribution for known GW mergers')\n",
    "plt.xlabel('Remnant Mass (M☉)')\n",
    "plt.ylabel('PDF')\n",
    "plt.show()"
   ]
  },
  {
   "cell_type": "markdown",
   "id": "81dac3c0-e04e-4d22-a607-d25032404caa",
   "metadata": {},
   "source": [
    "Now lets assign this PDF as a weight to our Merger data"
   ]
  },
  {
   "cell_type": "code",
   "execution_count": 16,
   "id": "5011f193-4f6f-4497-a1fe-ec924fc03cf2",
   "metadata": {},
   "outputs": [],
   "source": [
    "PDF = pd.DataFrame(list(zip(np.around(x_values,2), y_values.pdf(x_values))), columns = ['Mass', 'Probability'])\n",
    "PDF.Mass = PDF.Mass.astype(float)"
   ]
  },
  {
   "cell_type": "code",
   "execution_count": 17,
   "id": "fe863851-d7ef-4110-b129-7dad4caf6e92",
   "metadata": {},
   "outputs": [],
   "source": [
    "BlackHoles = PDF.merge(Merger, left_on = 'Mass', right_on = 'Remnant')\n",
    "BlackHoles = BlackHoles.drop(columns = 'Mass')"
   ]
  },
  {
   "cell_type": "markdown",
   "id": "3f212ab9-8542-4648-8c87-46c4b9e8d7b3",
   "metadata": {},
   "source": [
    "Lets add Label (since we know ground truth of was there a BH in the mass gap)"
   ]
  },
  {
   "cell_type": "code",
   "execution_count": 18,
   "id": "151977ed-bfcb-4127-8459-89c9b2b2c9a7",
   "metadata": {},
   "outputs": [
    {
     "data": {
      "text/html": [
       "<div>\n",
       "<style scoped>\n",
       "    .dataframe tbody tr th:only-of-type {\n",
       "        vertical-align: middle;\n",
       "    }\n",
       "\n",
       "    .dataframe tbody tr th {\n",
       "        vertical-align: top;\n",
       "    }\n",
       "\n",
       "    .dataframe thead th {\n",
       "        text-align: right;\n",
       "    }\n",
       "</style>\n",
       "<table border=\"1\" class=\"dataframe\">\n",
       "  <thead>\n",
       "    <tr style=\"text-align: right;\">\n",
       "      <th></th>\n",
       "      <th>Probability</th>\n",
       "      <th>Primary</th>\n",
       "      <th>Secondary</th>\n",
       "      <th>Remnant</th>\n",
       "      <th>Label</th>\n",
       "    </tr>\n",
       "  </thead>\n",
       "  <tbody>\n",
       "    <tr>\n",
       "      <th>0</th>\n",
       "      <td>3.223528e-03</td>\n",
       "      <td>5.5</td>\n",
       "      <td>5.0</td>\n",
       "      <td>9.99</td>\n",
       "      <td>0</td>\n",
       "    </tr>\n",
       "    <tr>\n",
       "      <th>1</th>\n",
       "      <td>3.316334e-03</td>\n",
       "      <td>6.0</td>\n",
       "      <td>5.0</td>\n",
       "      <td>10.47</td>\n",
       "      <td>0</td>\n",
       "    </tr>\n",
       "    <tr>\n",
       "      <th>2</th>\n",
       "      <td>3.408875e-03</td>\n",
       "      <td>6.0</td>\n",
       "      <td>5.5</td>\n",
       "      <td>10.94</td>\n",
       "      <td>0</td>\n",
       "    </tr>\n",
       "    <tr>\n",
       "      <th>3</th>\n",
       "      <td>3.412849e-03</td>\n",
       "      <td>6.5</td>\n",
       "      <td>5.0</td>\n",
       "      <td>10.96</td>\n",
       "      <td>0</td>\n",
       "    </tr>\n",
       "    <tr>\n",
       "      <th>4</th>\n",
       "      <td>3.507105e-03</td>\n",
       "      <td>6.5</td>\n",
       "      <td>5.5</td>\n",
       "      <td>11.43</td>\n",
       "      <td>0</td>\n",
       "    </tr>\n",
       "    <tr>\n",
       "      <th>...</th>\n",
       "      <td>...</td>\n",
       "      <td>...</td>\n",
       "      <td>...</td>\n",
       "      <td>...</td>\n",
       "      <td>...</td>\n",
       "    </tr>\n",
       "    <tr>\n",
       "      <th>29180</th>\n",
       "      <td>2.081912e-08</td>\n",
       "      <td>149.0</td>\n",
       "      <td>69.0</td>\n",
       "      <td>208.02</td>\n",
       "      <td>1</td>\n",
       "    </tr>\n",
       "    <tr>\n",
       "      <th>29181</th>\n",
       "      <td>2.055822e-08</td>\n",
       "      <td>148.5</td>\n",
       "      <td>69.5</td>\n",
       "      <td>208.09</td>\n",
       "      <td>1</td>\n",
       "    </tr>\n",
       "    <tr>\n",
       "      <th>29182</th>\n",
       "      <td>1.919594e-08</td>\n",
       "      <td>149.5</td>\n",
       "      <td>69.0</td>\n",
       "      <td>208.47</td>\n",
       "      <td>1</td>\n",
       "    </tr>\n",
       "    <tr>\n",
       "      <th>29183</th>\n",
       "      <td>1.892043e-08</td>\n",
       "      <td>149.0</td>\n",
       "      <td>69.5</td>\n",
       "      <td>208.55</td>\n",
       "      <td>1</td>\n",
       "    </tr>\n",
       "    <tr>\n",
       "      <th>29184</th>\n",
       "      <td>1.744025e-08</td>\n",
       "      <td>149.5</td>\n",
       "      <td>69.5</td>\n",
       "      <td>209.00</td>\n",
       "      <td>1</td>\n",
       "    </tr>\n",
       "  </tbody>\n",
       "</table>\n",
       "<p>29185 rows × 5 columns</p>\n",
       "</div>"
      ],
      "text/plain": [
       "        Probability  Primary  Secondary  Remnant  Label\n",
       "0      3.223528e-03      5.5        5.0     9.99      0\n",
       "1      3.316334e-03      6.0        5.0    10.47      0\n",
       "2      3.408875e-03      6.0        5.5    10.94      0\n",
       "3      3.412849e-03      6.5        5.0    10.96      0\n",
       "4      3.507105e-03      6.5        5.5    11.43      0\n",
       "...             ...      ...        ...      ...    ...\n",
       "29180  2.081912e-08    149.0       69.0   208.02      1\n",
       "29181  2.055822e-08    148.5       69.5   208.09      1\n",
       "29182  1.919594e-08    149.5       69.0   208.47      1\n",
       "29183  1.892043e-08    149.0       69.5   208.55      1\n",
       "29184  1.744025e-08    149.5       69.5   209.00      1\n",
       "\n",
       "[29185 rows x 5 columns]"
      ]
     },
     "execution_count": 18,
     "metadata": {},
     "output_type": "execute_result"
    }
   ],
   "source": [
    "BlackHoleLabel = []\n",
    "for i in range(len(BlackHoles)):\n",
    "    if BlackHoles['Primary'][i] > 50:\n",
    "        BlackHoleLabel += [1]\n",
    "    else: BlackHoleLabel += [0]\n",
    "BlackHoles['Label'] = BlackHoleLabel\n",
    "BlackHoles"
   ]
  },
  {
   "cell_type": "markdown",
   "id": "23013a58-c145-441c-9909-ea20509bce1e",
   "metadata": {},
   "source": [
    "2D Histogram showing Secondary vs Primary Masses"
   ]
  },
  {
   "cell_type": "code",
   "execution_count": 19,
   "id": "c0fea41c-b963-416f-b966-1a784a711f00",
   "metadata": {},
   "outputs": [
    {
     "data": {
      "image/png": "[encoded data removed]",
      "text/plain": [
       "<Figure size 432x288 with 1 Axes>"
      ]
     },
     "metadata": {
      "needs_background": "light"
     },
     "output_type": "display_data"
    }
   ],
   "source": [
    "fig = plt.figure()\n",
    "ax = fig.add_subplot()\n",
    "\n",
    "sns.kdeplot(\n",
    "    x = BlackHoles['Primary'], y = BlackHoles['Secondary'],\n",
    "    fill=True, thresh=0, levels=100, cmap=\"mako\", weights = BlackHoles['Probability']\n",
    ")\n",
    "\n",
    "ax.grid(False)\n",
    "\n",
    "plt.show()"
   ]
  },
  {
   "cell_type": "markdown",
   "id": "33ccf494-1217-4f75-a04f-a12d965759f0",
   "metadata": {},
   "source": [
    "Did the new data follow the original linear trend?"
   ]
  },
  {
   "cell_type": "code",
   "execution_count": 20,
   "id": "e7e47de9-190d-4afb-bdaa-c621af88927a",
   "metadata": {},
   "outputs": [
    {
     "data": {
      "image/png": "[encoded data removed]",
      "text/plain": [
       "<Figure size 432x288 with 1 Axes>"
      ]
     },
     "metadata": {
      "needs_background": "light"
     },
     "output_type": "display_data"
    }
   ],
   "source": [
    "BlackHoles[::50].plot.scatter('Remnant', 'Primary')\n",
    "plt.title('Primary Mass vs. Remnant Mass (Populated)')\n",
    "plt.xlabel('Remnant (M☉)')\n",
    "plt.ylabel('Primary (M☉)')\n",
    "plt.show()"
   ]
  },
  {
   "cell_type": "markdown",
   "id": "e907dbd3-a43c-490e-9411-fe8279fabce1",
   "metadata": {},
   "source": [
    "Lets use Random Forest on this data"
   ]
  },
  {
   "cell_type": "code",
   "execution_count": 21,
   "id": "0df88273-6cbe-4c06-9ebc-43c4acac5bbe",
   "metadata": {},
   "outputs": [
    {
     "name": "stdout",
     "output_type": "stream",
     "text": [
      "1.0\n",
      "1.0\n"
     ]
    }
   ],
   "source": [
    "from sklearn.ensemble import RandomForestClassifier\n",
    "from sklearn.model_selection import train_test_split\n",
    "import time\n",
    "\n",
    "x = BlackHoles[[('Primary'), ('Secondary'), ('Remnant')]]\n",
    "y = BlackHoles['Label']\n",
    "\n",
    "model = RandomForestClassifier(n_estimators=100, oob_score = True, random_state=0)\n",
    "model.fit(x, y)\n",
    "print(model.score(x,y))\n",
    "print(model.oob_score_)\n"
   ]
  },
  {
   "cell_type": "code",
   "execution_count": 22,
   "id": "be7aa0c8-4dac-4176-bb7e-d769ed4efae5",
   "metadata": {},
   "outputs": [
    {
     "data": {
      "image/png": "[encoded data removed]",
      "text/plain": [
       "<Figure size 432x288 with 1 Axes>"
      ]
     },
     "metadata": {
      "needs_background": "light"
     },
     "output_type": "display_data"
    }
   ],
   "source": [
    "def plot_feature_importances(model):\n",
    "    n_features = x.shape[1]\n",
    "    plt.barh(np.arange(n_features), model.feature_importances_, align='center')\n",
    "    plt.yticks(np.arange(n_features), x.columns)\n",
    "    plt.xlabel(\"Feature importance\")\n",
    "    plt.ylabel(\"Feature\")\n",
    "    plt.ylim(-1, n_features)\n",
    "    \n",
    "plot_feature_importances(model)"
   ]
  },
  {
   "cell_type": "markdown",
   "id": "9aa3dbb1-6b43-4745-bf29-f5cb3174cacf",
   "metadata": {},
   "source": [
    "The Random Forest algorithm shows that the secondary mass is the least important in determining whether or not a BH was the product of mergers. This explains how the linear trend comes about, since the lack of secondar mass importance shows that the 'remnant - primary' relationship can be modeled without taking the secondary mass into account"
   ]
  },
  {
   "cell_type": "markdown",
   "id": "7428fadf-558a-4ed0-98cc-21748a13a96d",
   "metadata": {},
   "source": [
    "The score of 100 indicates that we can draw a clean boundary which seperates hierarchical vs single generational BH mergers. "
   ]
  },
  {
   "cell_type": "code",
   "execution_count": 23,
   "id": "cfda77df-768f-4323-aace-e6d360b4082f",
   "metadata": {},
   "outputs": [
    {
     "data": {
      "image/png": "[encoded data removed]",
      "text/plain": [
       "<Figure size 432x288 with 1 Axes>"
      ]
     },
     "metadata": {
      "needs_background": "light"
     },
     "output_type": "display_data"
    }
   ],
   "source": [
    "fig = plt.figure()\n",
    "ax = fig.add_subplot()\n",
    "\n",
    "sns.scatterplot(x = BlackHoles['Remnant'], y= BlackHoles['Primary'], hue = BlackHoles['Label'])\n",
    "\n",
    "ax.hlines(50,5,155, linestyles = \"dashed\", colors = 'grey')\n",
    "plt.xlim(5,155)\n",
    "\n",
    "plt.title('Hierarchical Mergers')\n",
    "leg = ax.legend(labels=[\"+1 generation\", \"None\"], loc = \"lower right\")\n",
    "\n",
    "leg.legendHandles[0].set_color('C1')\n",
    "leg.legendHandles[1].set_color('C0')\n",
    "\n",
    "plt.show()\n"
   ]
  },
  {
   "cell_type": "markdown",
   "id": "dc557d9c-4e35-4b88-b78a-4ee079128da9",
   "metadata": {},
   "source": [
    "It is clear that below 40 solar masses the probability of a hierarchical scenerio is 0%. For above 100 solar masses the probability is 100% Lets investigate probability as a function of mass between these values."
   ]
  },
  {
   "cell_type": "markdown",
   "id": "ab6bb6b8-422a-4b75-9316-3f680b35b3b3",
   "metadata": {},
   "source": [
    "finding probability of whether a remnant mass is hierarchical or not"
   ]
  },
  {
   "cell_type": "code",
   "execution_count": 24,
   "id": "2a2eb79a-b246-4d3f-82ef-e7192b24d7a3",
   "metadata": {},
   "outputs": [
    {
     "name": "stdout",
     "output_type": "stream",
     "text": [
      "Elapsed time: 65.28 seconds\n"
     ]
    }
   ],
   "source": [
    "numberbh = []\n",
    "labelnone = []\n",
    "labelyes = []\n",
    "sum = 0\n",
    "sumyes = 0\n",
    "sumno = 0\n",
    "\n",
    "import time\n",
    "tstart = time.time()\n",
    "\n",
    "for i in PDF['Mass'][::50]:\n",
    "    for j in range(len(BlackHoles)):\n",
    "        if BlackHoles['Remnant'][j] == i:\n",
    "            sum = sum + 1\n",
    "            if BlackHoles['Label'][j] == 1:\n",
    "                sumyes = sumyes + 1\n",
    "            if BlackHoles['Label'][j] == 0:\n",
    "                sumno = sumno + 1\n",
    "                \n",
    "    numberbh += [sum]\n",
    "    sum = 0\n",
    "    \n",
    "    labelnone += [sumno]\n",
    "    labelyes += [sumyes]\n",
    "    sumyes = 0\n",
    "    sumno = 0\n",
    "    \n",
    "print(\"Elapsed time: {:.2f}\".format(time.time()-tstart)+\" seconds\")\n"
   ]
  },
  {
   "cell_type": "code",
   "execution_count": 25,
   "id": "42cfa462-af23-46ce-bb67-027f0c65be06",
   "metadata": {},
   "outputs": [
    {
     "data": {
      "text/html": [
       "<div>\n",
       "<style scoped>\n",
       "    .dataframe tbody tr th:only-of-type {\n",
       "        vertical-align: middle;\n",
       "    }\n",
       "\n",
       "    .dataframe tbody tr th {\n",
       "        vertical-align: top;\n",
       "    }\n",
       "\n",
       "    .dataframe thead th {\n",
       "        text-align: right;\n",
       "    }\n",
       "</style>\n",
       "<table border=\"1\" class=\"dataframe\">\n",
       "  <thead>\n",
       "    <tr style=\"text-align: right;\">\n",
       "      <th></th>\n",
       "      <th>Number</th>\n",
       "      <th>Yes</th>\n",
       "      <th>No</th>\n",
       "    </tr>\n",
       "  </thead>\n",
       "  <tbody>\n",
       "    <tr>\n",
       "      <th>0</th>\n",
       "      <td>0</td>\n",
       "      <td>0</td>\n",
       "      <td>0</td>\n",
       "    </tr>\n",
       "    <tr>\n",
       "      <th>1</th>\n",
       "      <td>0</td>\n",
       "      <td>0</td>\n",
       "      <td>0</td>\n",
       "    </tr>\n",
       "    <tr>\n",
       "      <th>2</th>\n",
       "      <td>0</td>\n",
       "      <td>0</td>\n",
       "      <td>0</td>\n",
       "    </tr>\n",
       "    <tr>\n",
       "      <th>3</th>\n",
       "      <td>0</td>\n",
       "      <td>0</td>\n",
       "      <td>0</td>\n",
       "    </tr>\n",
       "    <tr>\n",
       "      <th>4</th>\n",
       "      <td>0</td>\n",
       "      <td>0</td>\n",
       "      <td>0</td>\n",
       "    </tr>\n",
       "    <tr>\n",
       "      <th>...</th>\n",
       "      <td>...</td>\n",
       "      <td>...</td>\n",
       "      <td>...</td>\n",
       "    </tr>\n",
       "    <tr>\n",
       "      <th>405</th>\n",
       "      <td>0</td>\n",
       "      <td>0</td>\n",
       "      <td>0</td>\n",
       "    </tr>\n",
       "    <tr>\n",
       "      <th>406</th>\n",
       "      <td>0</td>\n",
       "      <td>0</td>\n",
       "      <td>0</td>\n",
       "    </tr>\n",
       "    <tr>\n",
       "      <th>407</th>\n",
       "      <td>0</td>\n",
       "      <td>0</td>\n",
       "      <td>0</td>\n",
       "    </tr>\n",
       "    <tr>\n",
       "      <th>408</th>\n",
       "      <td>1</td>\n",
       "      <td>1</td>\n",
       "      <td>0</td>\n",
       "    </tr>\n",
       "    <tr>\n",
       "      <th>409</th>\n",
       "      <td>0</td>\n",
       "      <td>0</td>\n",
       "      <td>0</td>\n",
       "    </tr>\n",
       "  </tbody>\n",
       "</table>\n",
       "<p>410 rows × 3 columns</p>\n",
       "</div>"
      ],
      "text/plain": [
       "     Number  Yes  No\n",
       "0         0    0   0\n",
       "1         0    0   0\n",
       "2         0    0   0\n",
       "3         0    0   0\n",
       "4         0    0   0\n",
       "..      ...  ...  ..\n",
       "405       0    0   0\n",
       "406       0    0   0\n",
       "407       0    0   0\n",
       "408       1    1   0\n",
       "409       0    0   0\n",
       "\n",
       "[410 rows x 3 columns]"
      ]
     },
     "execution_count": 25,
     "metadata": {},
     "output_type": "execute_result"
    }
   ],
   "source": [
    "labeldata = pd.DataFrame(list(zip(numberbh, labelyes, labelnone)), columns = ['Number', 'Yes', 'No'])\n",
    "labeldata"
   ]
  },
  {
   "cell_type": "markdown",
   "id": "4b47c6d8-0362-4fe0-8af1-cde6c8436480",
   "metadata": {},
   "source": [
    "Calculate percent by finding total BH at each remnant mass, and how many of those are hierarchical"
   ]
  },
  {
   "cell_type": "code",
   "execution_count": 26,
   "id": "7d65bd82-8f15-4c00-a28d-c6e9184a3c61",
   "metadata": {},
   "outputs": [],
   "source": [
    "Percent_Hierarchical = []\n",
    "\n",
    "\n",
    "for i in range(len(labeldata)):\n",
    "    if labeldata['Yes'][i] == 0 and labeldata['No'][i] != 0:\n",
    "        Percent_Hierarchical += [0]\n",
    "    if labeldata['Yes'][i] != 0 and labeldata['No'][i] == 0:\n",
    "        Percent_Hierarchical += [1]\n",
    "    if labeldata['Yes'][i] != 0 and labeldata['No'][i] != 0:\n",
    "        Percent_Hierarchical += [ labeldata['Yes'][i] / labeldata['Number'][i] ]\n",
    "    if labeldata['Yes'][i] == 0 and labeldata['No'][i] == 0:\n",
    "        Percent_Hierarchical += [0]\n",
    "    "
   ]
  },
  {
   "cell_type": "code",
   "execution_count": 27,
   "id": "6b24d920-8746-40e8-862f-8785d1f1a194",
   "metadata": {},
   "outputs": [
    {
     "data": {
      "text/html": [
       "<div>\n",
       "<style scoped>\n",
       "    .dataframe tbody tr th:only-of-type {\n",
       "        vertical-align: middle;\n",
       "    }\n",
       "\n",
       "    .dataframe tbody tr th {\n",
       "        vertical-align: top;\n",
       "    }\n",
       "\n",
       "    .dataframe thead th {\n",
       "        text-align: right;\n",
       "    }\n",
       "</style>\n",
       "<table border=\"1\" class=\"dataframe\">\n",
       "  <thead>\n",
       "    <tr style=\"text-align: right;\">\n",
       "      <th></th>\n",
       "      <th>Mass</th>\n",
       "      <th>Percent</th>\n",
       "    </tr>\n",
       "  </thead>\n",
       "  <tbody>\n",
       "    <tr>\n",
       "      <th>0</th>\n",
       "      <td>5.0</td>\n",
       "      <td>0.0</td>\n",
       "    </tr>\n",
       "    <tr>\n",
       "      <th>1</th>\n",
       "      <td>5.5</td>\n",
       "      <td>0.0</td>\n",
       "    </tr>\n",
       "    <tr>\n",
       "      <th>2</th>\n",
       "      <td>6.0</td>\n",
       "      <td>0.0</td>\n",
       "    </tr>\n",
       "    <tr>\n",
       "      <th>3</th>\n",
       "      <td>6.5</td>\n",
       "      <td>0.0</td>\n",
       "    </tr>\n",
       "    <tr>\n",
       "      <th>4</th>\n",
       "      <td>7.0</td>\n",
       "      <td>0.0</td>\n",
       "    </tr>\n",
       "    <tr>\n",
       "      <th>...</th>\n",
       "      <td>...</td>\n",
       "      <td>...</td>\n",
       "    </tr>\n",
       "    <tr>\n",
       "      <th>405</th>\n",
       "      <td>207.5</td>\n",
       "      <td>0.0</td>\n",
       "    </tr>\n",
       "    <tr>\n",
       "      <th>406</th>\n",
       "      <td>208.0</td>\n",
       "      <td>0.0</td>\n",
       "    </tr>\n",
       "    <tr>\n",
       "      <th>407</th>\n",
       "      <td>208.5</td>\n",
       "      <td>0.0</td>\n",
       "    </tr>\n",
       "    <tr>\n",
       "      <th>408</th>\n",
       "      <td>209.0</td>\n",
       "      <td>1.0</td>\n",
       "    </tr>\n",
       "    <tr>\n",
       "      <th>409</th>\n",
       "      <td>209.5</td>\n",
       "      <td>0.0</td>\n",
       "    </tr>\n",
       "  </tbody>\n",
       "</table>\n",
       "<p>410 rows × 2 columns</p>\n",
       "</div>"
      ],
      "text/plain": [
       "      Mass  Percent\n",
       "0      5.0      0.0\n",
       "1      5.5      0.0\n",
       "2      6.0      0.0\n",
       "3      6.5      0.0\n",
       "4      7.0      0.0\n",
       "..     ...      ...\n",
       "405  207.5      0.0\n",
       "406  208.0      0.0\n",
       "407  208.5      0.0\n",
       "408  209.0      1.0\n",
       "409  209.5      0.0\n",
       "\n",
       "[410 rows x 2 columns]"
      ]
     },
     "execution_count": 27,
     "metadata": {},
     "output_type": "execute_result"
    }
   ],
   "source": [
    "#Turn into dataframe of same dimension \n",
    "\n",
    "Hierarchical_Mass = PDF['Mass'][::50]\n",
    "\n",
    "Hierarchical_Percentage = pd.DataFrame(list(zip(Hierarchical_Mass, Percent_Hierarchical)), \n",
    "                                       columns = ['Mass', 'Percent'])\n",
    "Hierarchical_Percentage"
   ]
  },
  {
   "cell_type": "code",
   "execution_count": 28,
   "id": "497343d7-a2fe-4d44-8914-036697b06dcc",
   "metadata": {},
   "outputs": [],
   "source": [
    "#Calculate where the probability falls to 0 or to 100%\n",
    "\n",
    "ranges = []\n",
    "for i in range(len(Hierarchical_Percentage)):\n",
    "    if Hierarchical_Percentage['Percent'][i] != 0.0 and Hierarchical_Percentage['Percent'][i] != 1.0:\n",
    "        ranges += [i]\n",
    "minrange = Hierarchical_Percentage['Mass'][min(ranges)]\n",
    "maxrange = Hierarchical_Percentage['Mass'][max(ranges)]"
   ]
  },
  {
   "cell_type": "code",
   "execution_count": 29,
   "id": "d5298310-d15c-4228-84d0-cd15f5296610",
   "metadata": {},
   "outputs": [
    {
     "data": {
      "image/png": "[encoded data removed]",
      "text/plain": [
       "<Figure size 432x288 with 1 Axes>"
      ]
     },
     "metadata": {
      "needs_background": "light"
     },
     "output_type": "display_data"
    }
   ],
   "source": [
    "fig = plt.figure()\n",
    "ax = fig.add_subplot()\n",
    "\n",
    "ax.hlines(.50,5,155, linestyles = \"dashed\", colors = 'grey')\n",
    "\n",
    "plt.plot(Hierarchical_Percentage['Mass'], Hierarchical_Percentage['Percent'])\n",
    "plt.xlim(minrange - 3,maxrange + 3)\n",
    "plt.ylim(0.01,5)\n",
    "\n",
    "ax.set_yscale('log')\n",
    "\n",
    "plt.title('Probability of Hierarchical Merger')\n",
    "plt.xlabel('Mass (M☉)')\n",
    "plt.ylabel('Percent Probability')\n",
    "\n",
    "\n",
    "leg = ax.legend(labels=['50% Probability'], loc = \"lower right\")\n",
    "\n",
    "leg.legendHandles[0].set_color('grey')\n",
    "leg.legendHandles[0].set_linestyle('dashed')\n",
    "\n",
    "plt.show()"
   ]
  },
  {
   "cell_type": "markdown",
   "id": "f178a99c-987b-4a95-af80-cb4ca19cb3da",
   "metadata": {},
   "source": [
    "Lets now remake the blackhole label to count as 1 ony if there is more than 50% change of it being hierarchical"
   ]
  },
  {
   "cell_type": "code",
   "execution_count": 30,
   "id": "4236c5ee-3d1f-4853-b074-fd62b9037ded",
   "metadata": {},
   "outputs": [],
   "source": [
    "labelcutoff = []\n",
    "\n",
    "for i in range(len(Hierarchical_Percentage)):\n",
    "    if Hierarchical_Percentage['Percent'][i] > 0.5:\n",
    "        labelcutoff += [1]\n",
    "    else: labelcutoff += [0]"
   ]
  },
  {
   "cell_type": "code",
   "execution_count": 31,
   "id": "a5512535-3afa-4915-9973-7fbcf20682ce",
   "metadata": {},
   "outputs": [],
   "source": [
    "Hierarchical_Percentage['Label_cutoff'] = labelcutoff\n",
    "\n",
    "#function to round remnant mass to 0.5 (same units as PDF['Mass'])\n",
    "\n",
    "def myround(x, base=0.5):\n",
    "    return base * round(x/base)\n",
    "\n",
    "rounded_remnant = []\n",
    "for i in range(len(BlackHoles)):\n",
    "    rounded_remnant += [myround(BlackHoles['Remnant'][i])]\n",
    "\n",
    "BlackHoles_updated = BlackHoles.copy(deep = True)\n",
    "BlackHoles_updated['Remnant'] = rounded_remnant\n",
    "BlackHoles_updated = BlackHoles_updated.merge(Hierarchical_Percentage, left_on = 'Remnant', right_on = 'Mass')\n",
    "BlackHoles_updated = BlackHoles_updated.drop(columns = ['Mass', 'Percent'])\n",
    "BlackHoles_updated = BlackHoles_updated[:21000]"
   ]
  },
  {
   "cell_type": "markdown",
   "id": "f7e1069d-257f-46e7-98d3-f7a6b075deb0",
   "metadata": {},
   "source": [
    "This results in the label_cutoff column which is 1 if >50% and 0 if <50% probability of hierarchical merger"
   ]
  },
  {
   "cell_type": "code",
   "execution_count": 32,
   "id": "398e30e8-c57c-43b1-bfab-40b2981554e9",
   "metadata": {},
   "outputs": [
    {
     "data": {
      "text/html": [
       "<div>\n",
       "<style scoped>\n",
       "    .dataframe tbody tr th:only-of-type {\n",
       "        vertical-align: middle;\n",
       "    }\n",
       "\n",
       "    .dataframe tbody tr th {\n",
       "        vertical-align: top;\n",
       "    }\n",
       "\n",
       "    .dataframe thead th {\n",
       "        text-align: right;\n",
       "    }\n",
       "</style>\n",
       "<table border=\"1\" class=\"dataframe\">\n",
       "  <thead>\n",
       "    <tr style=\"text-align: right;\">\n",
       "      <th></th>\n",
       "      <th>Probability</th>\n",
       "      <th>Primary</th>\n",
       "      <th>Secondary</th>\n",
       "      <th>Remnant</th>\n",
       "      <th>Label</th>\n",
       "      <th>Label_cutoff</th>\n",
       "    </tr>\n",
       "  </thead>\n",
       "  <tbody>\n",
       "    <tr>\n",
       "      <th>0</th>\n",
       "      <td>0.003224</td>\n",
       "      <td>5.5</td>\n",
       "      <td>5.0</td>\n",
       "      <td>10.0</td>\n",
       "      <td>0</td>\n",
       "      <td>0</td>\n",
       "    </tr>\n",
       "    <tr>\n",
       "      <th>1</th>\n",
       "      <td>0.003316</td>\n",
       "      <td>6.0</td>\n",
       "      <td>5.0</td>\n",
       "      <td>10.5</td>\n",
       "      <td>0</td>\n",
       "      <td>0</td>\n",
       "    </tr>\n",
       "    <tr>\n",
       "      <th>2</th>\n",
       "      <td>0.003409</td>\n",
       "      <td>6.0</td>\n",
       "      <td>5.5</td>\n",
       "      <td>11.0</td>\n",
       "      <td>0</td>\n",
       "      <td>0</td>\n",
       "    </tr>\n",
       "    <tr>\n",
       "      <th>3</th>\n",
       "      <td>0.003413</td>\n",
       "      <td>6.5</td>\n",
       "      <td>5.0</td>\n",
       "      <td>11.0</td>\n",
       "      <td>0</td>\n",
       "      <td>0</td>\n",
       "    </tr>\n",
       "    <tr>\n",
       "      <th>4</th>\n",
       "      <td>0.003507</td>\n",
       "      <td>6.5</td>\n",
       "      <td>5.5</td>\n",
       "      <td>11.5</td>\n",
       "      <td>0</td>\n",
       "      <td>0</td>\n",
       "    </tr>\n",
       "    <tr>\n",
       "      <th>...</th>\n",
       "      <td>...</td>\n",
       "      <td>...</td>\n",
       "      <td>...</td>\n",
       "      <td>...</td>\n",
       "      <td>...</td>\n",
       "      <td>...</td>\n",
       "    </tr>\n",
       "    <tr>\n",
       "      <th>20995</th>\n",
       "      <td>0.000077</td>\n",
       "      <td>113.0</td>\n",
       "      <td>47.0</td>\n",
       "      <td>152.0</td>\n",
       "      <td>1</td>\n",
       "      <td>1</td>\n",
       "    </tr>\n",
       "    <tr>\n",
       "      <th>20996</th>\n",
       "      <td>0.000077</td>\n",
       "      <td>111.0</td>\n",
       "      <td>48.5</td>\n",
       "      <td>152.0</td>\n",
       "      <td>1</td>\n",
       "      <td>1</td>\n",
       "    </tr>\n",
       "    <tr>\n",
       "      <th>20997</th>\n",
       "      <td>0.000077</td>\n",
       "      <td>95.0</td>\n",
       "      <td>64.0</td>\n",
       "      <td>152.0</td>\n",
       "      <td>1</td>\n",
       "      <td>1</td>\n",
       "    </tr>\n",
       "    <tr>\n",
       "      <th>20998</th>\n",
       "      <td>0.000077</td>\n",
       "      <td>114.5</td>\n",
       "      <td>46.0</td>\n",
       "      <td>152.0</td>\n",
       "      <td>1</td>\n",
       "      <td>1</td>\n",
       "    </tr>\n",
       "    <tr>\n",
       "      <th>20999</th>\n",
       "      <td>0.000077</td>\n",
       "      <td>108.0</td>\n",
       "      <td>51.0</td>\n",
       "      <td>152.0</td>\n",
       "      <td>1</td>\n",
       "      <td>1</td>\n",
       "    </tr>\n",
       "  </tbody>\n",
       "</table>\n",
       "<p>21000 rows × 6 columns</p>\n",
       "</div>"
      ],
      "text/plain": [
       "       Probability  Primary  Secondary  Remnant  Label  Label_cutoff\n",
       "0         0.003224      5.5        5.0     10.0      0             0\n",
       "1         0.003316      6.0        5.0     10.5      0             0\n",
       "2         0.003409      6.0        5.5     11.0      0             0\n",
       "3         0.003413      6.5        5.0     11.0      0             0\n",
       "4         0.003507      6.5        5.5     11.5      0             0\n",
       "...            ...      ...        ...      ...    ...           ...\n",
       "20995     0.000077    113.0       47.0    152.0      1             1\n",
       "20996     0.000077    111.0       48.5    152.0      1             1\n",
       "20997     0.000077     95.0       64.0    152.0      1             1\n",
       "20998     0.000077    114.5       46.0    152.0      1             1\n",
       "20999     0.000077    108.0       51.0    152.0      1             1\n",
       "\n",
       "[21000 rows x 6 columns]"
      ]
     },
     "execution_count": 32,
     "metadata": {},
     "output_type": "execute_result"
    }
   ],
   "source": [
    "BlackHoles_updated"
   ]
  },
  {
   "cell_type": "markdown",
   "id": "4748f03b-aa49-447d-8d45-29225947af9e",
   "metadata": {},
   "source": [
    "Lets apply this to our Gravitational Wave detections to see which confirmed detections are >50% likely to be hierarchical mergers."
   ]
  },
  {
   "cell_type": "markdown",
   "id": "7e0b485e-8871-473d-9eb2-c1722f81b982",
   "metadata": {},
   "source": [
    "Lets retrain the Random Forest model with this updated label"
   ]
  },
  {
   "cell_type": "code",
   "execution_count": 33,
   "id": "8b6e1234-2f66-4216-bf3e-5cc23077f5f1",
   "metadata": {},
   "outputs": [
    {
     "name": "stdout",
     "output_type": "stream",
     "text": [
      "1.0\n",
      "1.0\n"
     ]
    },
    {
     "data": {
      "image/png": "[encoded data removed]",
      "text/plain": [
       "<Figure size 432x288 with 1 Axes>"
      ]
     },
     "metadata": {
      "needs_background": "light"
     },
     "output_type": "display_data"
    }
   ],
   "source": [
    "x_50 = BlackHoles_updated[[('Primary'), ('Secondary'), ('Remnant')]]\n",
    "y_50 = BlackHoles_updated['Label_cutoff']\n",
    "\n",
    "model_50 = RandomForestClassifier(n_estimators=100, oob_score = True, random_state=0)\n",
    "model_50.fit(x_50, y_50)\n",
    "print(model_50.score(x_50,y_50))\n",
    "print(model_50.oob_score_)\n",
    "\n",
    "RealGW = pd.DataFrame(list(zip(M1, M2, MF)), columns = ['Primary', 'Secondary', 'Remnant'])\n",
    "labelpredict = model.predict(RealGW)\n",
    "\n",
    "fig = plt.figure()\n",
    "ax = fig.add_subplot()\n",
    "\n",
    "sns.scatterplot(x = RealGW['Remnant'], y= RealGW['Primary'], hue = labelpredict)\n",
    "\n",
    "ax.hlines(50,5,155, linestyles = \"dashed\", colors = 'grey')\n",
    "plt.xlim(5,155)\n",
    "\n",
    "plt.title('Hierarchical Mergers')\n",
    "leg = ax.legend(labels=[\"+1 generation\", \"None\"], loc = \"lower right\")\n",
    "\n",
    "leg.legendHandles[0].set_color('C1')\n",
    "leg.legendHandles[1].set_color('C0')\n",
    "\n",
    "plt.show()\n"
   ]
  },
  {
   "cell_type": "markdown",
   "id": "74ab31d1-0b64-4a8f-9a4e-4d3952c6e82f",
   "metadata": {},
   "source": [
    "We see that the original plot, where we simply extrapolated the value of the primary BH agrees with our random forest model. This confirms that there is basis to assume this extrapolation is correct."
   ]
  },
  {
   "cell_type": "markdown",
   "id": "f50718a5-4920-40bc-b159-79b86bbc2239",
   "metadata": {},
   "source": [
    "Lets plot to find where the remnant mass will be more likely hierarchical than not"
   ]
  },
  {
   "cell_type": "code",
   "execution_count": 34,
   "id": "3cd80993-8343-4f4c-9713-a565af72d461",
   "metadata": {},
   "outputs": [
    {
     "data": {
      "image/png": "[encoded data removed]",
      "text/plain": [
       "<Figure size 432x288 with 1 Axes>"
      ]
     },
     "metadata": {
      "needs_background": "light"
     },
     "output_type": "display_data"
    }
   ],
   "source": [
    "#Find remnant mass for where this 50% probability occurs\n",
    "cutoff = []\n",
    "for i in range(len(BlackHoles_updated)):\n",
    "    if BlackHoles_updated['Label_cutoff'][i] != 0:\n",
    "        cutoff += [i]\n",
    "wherecutoff = BlackHoles_updated['Remnant'][cutoff[0]]\n",
    "\n",
    "fig = plt.figure()\n",
    "ax = fig.add_subplot()\n",
    "\n",
    "sns.scatterplot(data = BlackHoles_updated[::40], x ='Remnant', y= 'Primary', hue = 'Label_cutoff')\n",
    "\n",
    "ax.vlines(wherecutoff,0,155, linestyles = \"dashed\", colors = 'grey')\n",
    "plt.xlim(5,155)\n",
    "\n",
    "plt.title('Hierarchical Mergers (above 50% probability)')\n",
    "leg = ax.legend(labels=[\"+1 generation\", \"None\"], loc = \"lower right\")\n",
    "\n",
    "leg.legendHandles[0].set_color('C1')\n",
    "leg.legendHandles[1].set_color('C0')\n",
    "\n",
    "plt.show()\n"
   ]
  },
  {
   "cell_type": "markdown",
   "id": "7e93cc16-0d65-4a08-bdba-0d0e69c31592",
   "metadata": {},
   "source": [
    "We then see that there is a parameter, which I will call 'Hierarchical Plausibility,' which we can use to classify Gravitational Wave events as possible Hierarchical candidates. In the case where we select 50% probability as the cutoff for Hierarchical Plausibility, we see that for any remnant mass greater than 61 solar masses, we are more likely than not dealing with a hierarchical merger scenerio "
   ]
  }
 ],
 "metadata": {
  "kernelspec": {
   "display_name": "Python 3 (ipykernel)",
   "language": "python",
   "name": "python3"
  },
  "language_info": {
   "codemirror_mode": {
    "name": "ipython",
    "version": 3
   },
   "file_extension": ".py",
   "mimetype": "text/x-python",
   "name": "python",
   "nbconvert_exporter": "python",
   "pygments_lexer": "ipython3",
   "version": "3.8.1"
  }
 },
 "nbformat": 4,
 "nbformat_minor": 5
}
