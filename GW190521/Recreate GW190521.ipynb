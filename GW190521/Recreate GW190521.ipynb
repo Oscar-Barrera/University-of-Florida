{
 "cells": [
  {
   "cell_type": "code",
   "execution_count": 1,
   "id": "short-bargain",
   "metadata": {},
   "outputs": [],
   "source": [
    "import numpy as np\n",
    "import matplotlib.pyplot as plt\n",
    "import pandas as pd\n",
    "from random import sample, choice\n",
    "%matplotlib inline\n",
    "import pesummary\n",
    "from pesummary.io import read\n",
    "import h5py"
   ]
  },
  {
   "cell_type": "code",
   "execution_count": 2,
   "id": "departmental-croatia",
   "metadata": {},
   "outputs": [
    {
     "name": "stdout",
     "output_type": "stream",
     "text": [
      "Found run labels:\n",
      "['C01:IMRPhenomPv3HM', 'C01:NRSur7dq4', 'C01:SEOBNRv4PHM', 'PrecessingSpinIMRHM', 'PublicationSamples']\n"
     ]
    }
   ],
   "source": [
    "file_name = '/Users/Oscar/Documents/Research/GW190521/GW190521.h5'\n",
    "# Using pesummary\n",
    "data = read(file_name)\n",
    "print('Found run labels:')\n",
    "print(data.labels)"
   ]
  },
  {
   "cell_type": "code",
   "execution_count": 3,
   "id": "embedded-energy",
   "metadata": {},
   "outputs": [
    {
     "name": "stdout",
     "output_type": "stream",
     "text": [
      "['H1_matched_filter_abs_snr', 'H1_matched_filter_snr', 'H1_matched_filter_snr_angle', 'H1_optimal_snr', 'H1_spcal_amp_0', 'H1_spcal_amp_1', 'H1_spcal_amp_2', 'H1_spcal_amp_3', 'H1_spcal_amp_4', 'H1_spcal_amp_5', 'H1_spcal_amp_6', 'H1_spcal_amp_7', 'H1_spcal_amp_8', 'H1_spcal_amp_9', 'H1_spcal_phase_0', 'H1_spcal_phase_1', 'H1_spcal_phase_2', 'H1_spcal_phase_3', 'H1_spcal_phase_4', 'H1_spcal_phase_5', 'H1_spcal_phase_6', 'H1_spcal_phase_7', 'H1_spcal_phase_8', 'H1_spcal_phase_9', 'H1_time', 'L1_matched_filter_abs_snr', 'L1_matched_filter_snr', 'L1_matched_filter_snr_angle', 'L1_optimal_snr', 'L1_spcal_amp_0', 'L1_spcal_amp_1', 'L1_spcal_amp_2', 'L1_spcal_amp_3', 'L1_spcal_amp_4', 'L1_spcal_amp_5', 'L1_spcal_amp_6', 'L1_spcal_amp_7', 'L1_spcal_amp_8', 'L1_spcal_amp_9', 'L1_spcal_phase_0', 'L1_spcal_phase_1', 'L1_spcal_phase_2', 'L1_spcal_phase_3', 'L1_spcal_phase_4', 'L1_spcal_phase_5', 'L1_spcal_phase_6', 'L1_spcal_phase_7', 'L1_spcal_phase_8', 'L1_spcal_phase_9', 'L1_time', 'V1_matched_filter_abs_snr', 'V1_matched_filter_snr', 'V1_matched_filter_snr_angle', 'V1_optimal_snr', 'V1_spcal_amp_0', 'V1_spcal_amp_1', 'V1_spcal_amp_2', 'V1_spcal_amp_3', 'V1_spcal_amp_4', 'V1_spcal_amp_5', 'V1_spcal_amp_6', 'V1_spcal_amp_7', 'V1_spcal_amp_8', 'V1_spcal_amp_9', 'V1_spcal_phase_0', 'V1_spcal_phase_1', 'V1_spcal_phase_2', 'V1_spcal_phase_3', 'V1_spcal_phase_4', 'V1_spcal_phase_5', 'V1_spcal_phase_6', 'V1_spcal_phase_7', 'V1_spcal_phase_8', 'V1_spcal_phase_9', 'V1_time', 'a_1', 'a_2', 'azimuth', 'chi_eff', 'chi_p', 'chirp_mass', 'chirp_mass_source', 'comoving_distance', 'cos_iota', 'cos_theta_jn', 'cos_tilt_1', 'cos_tilt_2', 'cosalpha', 'dec', 'deltalogL', 'deltaloglH1', 'deltaloglL1', 'deltaloglV1', 'final_kick', 'final_mass', 'final_mass_source', 'final_spin', 'geocent_time', 'inverted_mass_ratio', 'iota', 'log_likelihood', 'log_prior', 'logw', 'luminosity_distance', 'mass_1', 'mass_1_source', 'mass_2', 'mass_2_source', 'mass_ratio', 'network_matched_filter_snr', 'network_optimal_snr', 'peak_luminosity', 'phase', 'phi_1', 'phi_12', 'phi_2', 'phi_jl', 'psi', 'ra', 'radiated_energy', 'redshift', 'spin_1x', 'spin_1y', 'spin_1z', 'spin_2x', 'spin_2y', 'spin_2z', 'symmetric_mass_ratio', 't0', 'theta_jn', 'tilt_1', 'tilt_2', 'total_mass', 'total_mass_source']\n"
     ]
    }
   ],
   "source": [
    "samples_dict = data.samples_dict\n",
    "posterior_samples = samples_dict['C01:NRSur7dq4']\n",
    "\n",
    "parameters = sorted(list(posterior_samples.keys()))\n",
    "print(parameters)"
   ]
  },
  {
   "cell_type": "code",
   "execution_count": 4,
   "id": "quantitative-clothing",
   "metadata": {
    "scrolled": true
   },
   "outputs": [
    {
     "data": {
      "image/png": "[encoded data removed]",
      "text/plain": [
       "<Figure size 432x288 with 1 Axes>"
      ]
     },
     "metadata": {},
     "output_type": "display_data"
    }
   ],
   "source": [
    "fig = posterior_samples.plot('total_mass_source', type='hist')\n",
    "line = posterior_samples.plot('total_mass_source', type='hist',fig=fig, kde=True)\n",
    "plt.show()"
   ]
  },
  {
   "cell_type": "code",
   "execution_count": 5,
   "id": "fancy-transition",
   "metadata": {
    "scrolled": true
   },
   "outputs": [
    {
     "data": {
      "image/png": "[encoded data removed]",
      "text/plain": [
       "<Figure size 432x288 with 1 Axes>"
      ]
     },
     "metadata": {},
     "output_type": "display_data"
    }
   ],
   "source": [
    "n, bins, _ = plt.hist(posterior_samples['total_mass_source'], bins = 109, density = True)\n",
    "plt.show()"
   ]
  },
  {
   "cell_type": "code",
   "execution_count": 6,
   "id": "generous-truck",
   "metadata": {},
   "outputs": [],
   "source": [
    "#define m1 and m2 merger\n",
    "def Mrem(mass1,mass2):\n",
    "    M0 = 0.951507\n",
    "    K2d = 1.995246\n",
    "    K4f = 2.980990\n",
    "    MSum3 = mass1 + mass2\n",
    "    n3 = (mass1 * mass2) / MSum3 \n",
    "    dm3 = (mass1 - mass2) / MSum3\n",
    "    \n",
    "    if mass1 > mass2:\n",
    "        \n",
    "        if mass2/mass1 > 1/3:\n",
    "            Mrem_Mass = ((4*n3) * (4*n3) * ( M0 + K2d*dm3**2 + K4f*dm3**4 ) + (1 + 17 * n3)*dm3**6) / MSum3\n",
    "        else:\n",
    "            Mrem_Mass = mass1 + mass2\n",
    "    else: \n",
    "        Mrem_Mass = 0\n",
    "            \n",
    "    return Mrem_Mass\n",
    "\n",
    "\n",
    "# P(Mk / m1i, m2j):\n",
    "#Function where m1, m2, and Mk are input.\n",
    "#if m1 and m2 merger result in Mk: 1, else: 0\n",
    "\n",
    "\n",
    "def PMkBinary(mass1, mass2, Massk, binMass):\n",
    "    \n",
    "    Mremnant = (Mrem(mass1, mass2))\n",
    "        \n",
    "    if (Mremnant - binMass) <= Massk <= (Mremnant + binMass): \n",
    "        Pmkbin = 1\n",
    "    else: \n",
    "        Pmkbin = 0\n",
    "        \n",
    "    return Pmkbin\n",
    "\n",
    "def prob_m(piastro, pmk, pimk):\n",
    "    prob = piastro * (pmk / pimk)\n",
    "    return prob\n",
    "    "
   ]
  },
  {
   "cell_type": "code",
   "execution_count": 7,
   "id": "purple-herald",
   "metadata": {},
   "outputs": [],
   "source": [
    "#merger data\n",
    "\n",
    "m1_masses = np.arange(5,200)\n",
    "m2_masses = np.arange(5,200)\n",
    "\n",
    "m1_merge = []\n",
    "m2_merge = [] \n",
    "gw_merged = []\n",
    "\n",
    "gw = np.arange(80,220,1)\n",
    "\n",
    "for k in gw:\n",
    "    for i in m1_masses:\n",
    "        for j in m2_masses:\n",
    "        \n",
    "            if PMkBinary(i, j, k, .5) == 1:\n",
    "                \n",
    "                m1_merge += [i]\n",
    "                m2_merge += [j]\n",
    "                gw_merged += [k]\n",
    "            "
   ]
  },
  {
   "cell_type": "code",
   "execution_count": 8,
   "id": "loose-suicide",
   "metadata": {
    "scrolled": false
   },
   "outputs": [
    {
     "data": {
      "text/html": [
       "<div>\n",
       "<style scoped>\n",
       "    .dataframe tbody tr th:only-of-type {\n",
       "        vertical-align: middle;\n",
       "    }\n",
       "\n",
       "    .dataframe tbody tr th {\n",
       "        vertical-align: top;\n",
       "    }\n",
       "\n",
       "    .dataframe thead th {\n",
       "        text-align: right;\n",
       "    }\n",
       "</style>\n",
       "<table border=\"1\" class=\"dataframe\">\n",
       "  <thead>\n",
       "    <tr style=\"text-align: right;\">\n",
       "      <th></th>\n",
       "      <th>m1</th>\n",
       "      <th>m2</th>\n",
       "      <th>gw</th>\n",
       "      <th>gw_dist</th>\n",
       "    </tr>\n",
       "  </thead>\n",
       "  <tbody>\n",
       "    <tr>\n",
       "      <th>0</th>\n",
       "      <td>59</td>\n",
       "      <td>58</td>\n",
       "      <td>111</td>\n",
       "      <td>0.000015</td>\n",
       "    </tr>\n",
       "    <tr>\n",
       "      <th>1</th>\n",
       "      <td>60</td>\n",
       "      <td>57</td>\n",
       "      <td>111</td>\n",
       "      <td>0.000015</td>\n",
       "    </tr>\n",
       "    <tr>\n",
       "      <th>2</th>\n",
       "      <td>61</td>\n",
       "      <td>56</td>\n",
       "      <td>111</td>\n",
       "      <td>0.000015</td>\n",
       "    </tr>\n",
       "    <tr>\n",
       "      <th>3</th>\n",
       "      <td>62</td>\n",
       "      <td>55</td>\n",
       "      <td>111</td>\n",
       "      <td>0.000015</td>\n",
       "    </tr>\n",
       "    <tr>\n",
       "      <th>4</th>\n",
       "      <td>63</td>\n",
       "      <td>54</td>\n",
       "      <td>111</td>\n",
       "      <td>0.000015</td>\n",
       "    </tr>\n",
       "    <tr>\n",
       "      <th>...</th>\n",
       "      <td>...</td>\n",
       "      <td>...</td>\n",
       "      <td>...</td>\n",
       "      <td>...</td>\n",
       "    </tr>\n",
       "    <tr>\n",
       "      <th>8822</th>\n",
       "      <td>195</td>\n",
       "      <td>24</td>\n",
       "      <td>219</td>\n",
       "      <td>0.000015</td>\n",
       "    </tr>\n",
       "    <tr>\n",
       "      <th>8823</th>\n",
       "      <td>196</td>\n",
       "      <td>23</td>\n",
       "      <td>219</td>\n",
       "      <td>0.000015</td>\n",
       "    </tr>\n",
       "    <tr>\n",
       "      <th>8824</th>\n",
       "      <td>197</td>\n",
       "      <td>22</td>\n",
       "      <td>219</td>\n",
       "      <td>0.000015</td>\n",
       "    </tr>\n",
       "    <tr>\n",
       "      <th>8825</th>\n",
       "      <td>198</td>\n",
       "      <td>21</td>\n",
       "      <td>219</td>\n",
       "      <td>0.000015</td>\n",
       "    </tr>\n",
       "    <tr>\n",
       "      <th>8826</th>\n",
       "      <td>199</td>\n",
       "      <td>20</td>\n",
       "      <td>219</td>\n",
       "      <td>0.000015</td>\n",
       "    </tr>\n",
       "  </tbody>\n",
       "</table>\n",
       "<p>8827 rows × 4 columns</p>\n",
       "</div>"
      ],
      "text/plain": [
       "       m1  m2   gw   gw_dist\n",
       "0      59  58  111  0.000015\n",
       "1      60  57  111  0.000015\n",
       "2      61  56  111  0.000015\n",
       "3      62  55  111  0.000015\n",
       "4      63  54  111  0.000015\n",
       "...   ...  ..  ...       ...\n",
       "8822  195  24  219  0.000015\n",
       "8823  196  23  219  0.000015\n",
       "8824  197  22  219  0.000015\n",
       "8825  198  21  219  0.000015\n",
       "8826  199  20  219  0.000015\n",
       "\n",
       "[8827 rows x 4 columns]"
      ]
     },
     "execution_count": 8,
     "metadata": {},
     "output_type": "execute_result"
    }
   ],
   "source": [
    "gw_distribution = pd.DataFrame(list(zip(m1_merge, m2_merge, gw_merged)), columns = ['m1', 'm2', 'gw'])\n",
    "\n",
    "gw_masses = np.trunc(bins[:-1])\n",
    "gw_dist = n\n",
    "gw_zip = (list(zip(gw_masses, gw_dist)))\n",
    "gw_df = pd.DataFrame(gw_zip, columns = ['gw_mass', 'gw_dist'])\n",
    "gw_df\n",
    "\n",
    "GW = gw_distribution.merge(gw_df, left_on = 'gw', right_on = 'gw_mass')\n",
    "GW = GW.drop(columns = ['gw_mass'])\n",
    "GW"
   ]
  },
  {
   "cell_type": "code",
   "execution_count": 18,
   "id": "amazing-tutorial",
   "metadata": {
    "scrolled": false
   },
   "outputs": [
    {
     "data": {
      "image/png": "[encoded data removed]",
      "text/plain": [
       "<Figure size 432x288 with 1 Axes>"
      ]
     },
     "metadata": {},
     "output_type": "display_data"
    }
   ],
   "source": [
    "import seaborn as sns\n",
    "\n",
    "fig = plt.figure()\n",
    "ax = fig.add_subplot(1,1,1)\n",
    "\n",
    "sns.histplot(x = m1array[0], element = 'poly', weights = m1array[1], stat = 'density', alpha = 0.3,\n",
    "                  linewidth = 2.5, bins = 100, fill = False, common_norm = False, color = 'C3')\n",
    "\n",
    "sns.histplot(x = m2array[0], element = 'poly', weights = m1array[1], stat = 'density',alpha = 0.3,\n",
    "                  linewidth = 2.5, bins = 100, fill = False, common_norm = False, color = 'C3')\n",
    "\n",
    "\n",
    "\n",
    "\n",
    "plt.hist(GW['m1'], bins = 130, weights = GW['gw_dist'],alpha = 0.3,density = True )\n",
    "plt.hist(GW['m2'], bins = 30, weights = GW['gw_dist'] ,alpha = 0.3,density = True)\n",
    "plt.hist(GW['gw'], bins = 130, weights = GW['gw_dist'] ,alpha = 0.3,density = True)\n",
    "plt.show()"
   ]
  },
  {
   "cell_type": "code",
   "execution_count": 19,
   "id": "transparent-series",
   "metadata": {},
   "outputs": [
    {
     "data": {
      "image/png": "[encoded data removed]",
      "text/plain": [
       "<Figure size 432x288 with 1 Axes>"
      ]
     },
     "metadata": {},
     "output_type": "display_data"
    }
   ],
   "source": [
    "#pi(m1i,m2j)\n",
    "#Joint Astrophysical Distribution\n",
    "\n",
    "df1 = pd.read_csv('/Users/Oscar/Documents/Research/GW190521/bbh_pop_samples_z1_more_data_v1.dat', delim_whitespace = True, index_col = None)\n",
    "m1_powerlaw = df1['#']\n",
    "m2_powerlaw = df1['m1']\n",
    "M, xe, ye, img = plt.hist2d(m1_powerlaw, m2_powerlaw, bins = (87,78), cmap = plt.cm.jet, density =True)\n",
    "\n",
    "ydist = []\n",
    "sum = 0\n",
    "for i in np.arange(len(M.T)):\n",
    "    for j in np.arange(len(M.T[i])):\n",
    "        sum = sum + (M.T[i,j])\n",
    "    ydist += [sum]\n",
    "    sum = 0\n",
    "    \n",
    "xdist = []\n",
    "sum = 0\n",
    "for i in np.arange(len(M)):\n",
    "    for j in np.arange(len(M[i])):\n",
    "        sum = sum + (M[i,j])\n",
    "    xdist += [sum]\n",
    "    sum = 0\n",
    "    \n",
    "#x bin length\n",
    "binx = xe[1] - xe[0]\n",
    "#y bin length\n",
    "biny = ye[1] - ye[0]\n",
    "\n",
    "m1_p = np.random.choice(m1_powerlaw,1000)\n",
    "m2_p = np.random.choice(m2_powerlaw,1000)"
   ]
  },
  {
   "cell_type": "code",
   "execution_count": 20,
   "id": "federal-voice",
   "metadata": {},
   "outputs": [],
   "source": [
    "PiMk_ = [0, 0, 0, 0, 10, 1602, 26590, 116499, 257636, 358987, 377518, 357822, 325263, 288021, 255447, 222427, 191704, 159710, 130144, 109248, 93558, 80949, 69952, 63429, 61679, 62859, 65442, 71019, 78420, 82142, 84122, 88451, 91929, 89306, 81277, 76343, 79161, 84602, 88042, 85313, 77016, 70348, 66021, 58791, 48875, 40049, 33548, 29239, 25608, 21889, 18239, 15238, 13851, 13437, 13073, 12008, 10601, 9264, 8143, 7268, 7292, 7630, 7489, 7216, 6457, 5769, 4857, 3659, 2825, 2621, 2630, 2623, 2892, 3200, 3094, 3078, 3666, 3681, 3330, 3209, 2812, 2308, 2214, 2576, 3321, 4074, 4053, 3876, 3506, 2658, 1911, 1373, 1099, 917, 798, 667, 547, 513, 472, 409, 350, 332, 285, 237, 209, 169, 135, 96, 88, 90, 62, 35, 25, 21, 14, 13]"
   ]
  },
  {
   "cell_type": "code",
   "execution_count": 21,
   "id": "popular-island",
   "metadata": {},
   "outputs": [
    {
     "data": {
      "image/png": "[encoded data removed]",
      "text/plain": [
       "<Figure size 432x288 with 1 Axes>"
      ]
     },
     "metadata": {},
     "output_type": "display_data"
    }
   ],
   "source": [
    "#distribution of PiMk \n",
    "Massk = np.arange(5,121,1)\n",
    "npimk, binspimk, _pimk = plt.hist(Massk, weights = PiMk_, bins = len(PiMk_), density = True)\n",
    "\n",
    "#ydist of Pi(m1i, m2j)\n",
    "npiy, binspiy, _piy = plt.hist(xe[:-1], weights = xdist, bins = 87)\n",
    "\n",
    "#xdist of Pi(m1i, m2j)\n",
    "npix, binspix, _pix =plt.hist(ye[:-1], weights = ydist, bins = 78)\n"
   ]
  },
  {
   "cell_type": "code",
   "execution_count": 22,
   "id": "linear-melissa",
   "metadata": {},
   "outputs": [],
   "source": [
    "pimk_masses = np.trunc(binspimk[1:-1])\n",
    "pimk_dist = npimk[1:]\n",
    "pimk_zip = (list(zip(pimk_masses, pimk_dist)))\n",
    "pimk_df = pd.DataFrame(pimk_zip, columns = ['pimk_mass', 'pimk'])\n",
    "\n",
    "#pi(m1i, m2j)\n",
    "piastropri_masses = np.trunc(binspiy[1:-1])\n",
    "piastropri_dist = npiy[1:]\n",
    "piastropri_zip = (list(zip(piastropri_masses, piastropri_dist)))\n",
    "piastropri_df = pd.DataFrame(piastropri_zip, columns = ['piastroprimary_mass', 'astroprimary'])\n",
    "\n",
    "piastrosec_masses = np.trunc(binspix[1:-1])\n",
    "piastrosec_dist = npix[1:]\n",
    "piastrosec_zip = (list(zip(piastrosec_masses, piastrosec_dist)))\n",
    "piastrosec_df = pd.DataFrame(piastrosec_zip, columns = ['piastrosecondary_mass', 'astrosecondary'])"
   ]
  },
  {
   "cell_type": "code",
   "execution_count": 23,
   "id": "supreme-canal",
   "metadata": {},
   "outputs": [],
   "source": [
    "gw_m1 = GW.merge(pimk_df, left_on = 'gw', right_on = 'pimk_mass')\n",
    "gw_m1 = gw_m1.merge(piastropri_df, left_on = 'm1', right_on = 'piastroprimary_mass')\n",
    "gw_m1 = gw_m1.drop(columns = ['pimk_mass', 'piastroprimary_mass'])"
   ]
  },
  {
   "cell_type": "code",
   "execution_count": 24,
   "id": "usual-determination",
   "metadata": {},
   "outputs": [],
   "source": [
    "gw_m2 = GW.merge(pimk_df, left_on = 'gw', right_on = 'pimk_mass')\n",
    "gw_m2 = gw_m2.merge(piastrosec_df, left_on = 'm2', right_on = 'piastrosecondary_mass')\n",
    "gw_m2 = gw_m2.drop(columns = ['pimk_mass', 'piastrosecondary_mass'])"
   ]
  },
  {
   "cell_type": "code",
   "execution_count": 25,
   "id": "urban-metropolitan",
   "metadata": {},
   "outputs": [],
   "source": [
    "probability_m1 = []\n",
    "for i in range(len(gw_m1['m1'])):\n",
    "    probability_m1 += [prob_m(gw_m1['astroprimary'][i], \n",
    "                          gw_m1['gw_dist'][i], gw_m1['pimk'][i])]\n",
    "    \n",
    "probability_m2 = []\n",
    "for i in range(len(gw_m2['m2'])):\n",
    "    probability_m2 += [prob_m(gw_m2['astrosecondary'][i], \n",
    "                          gw_m2['gw_dist'][i], gw_m2['pimk'][i])]\n",
    "    \n",
    "gw_m1['probability'] = probability_m1\n",
    "gw_m2['probability'] = probability_m2"
   ]
  },
  {
   "cell_type": "code",
   "execution_count": 26,
   "id": "hybrid-partner",
   "metadata": {},
   "outputs": [
    {
     "data": {
      "text/html": [
       "<div>\n",
       "<style scoped>\n",
       "    .dataframe tbody tr th:only-of-type {\n",
       "        vertical-align: middle;\n",
       "    }\n",
       "\n",
       "    .dataframe tbody tr th {\n",
       "        vertical-align: top;\n",
       "    }\n",
       "\n",
       "    .dataframe thead th {\n",
       "        text-align: right;\n",
       "    }\n",
       "</style>\n",
       "<table border=\"1\" class=\"dataframe\">\n",
       "  <thead>\n",
       "    <tr style=\"text-align: right;\">\n",
       "      <th></th>\n",
       "      <th>m1</th>\n",
       "      <th>m2</th>\n",
       "      <th>gw</th>\n",
       "      <th>gw_dist</th>\n",
       "      <th>pimk</th>\n",
       "      <th>astroprimary</th>\n",
       "      <th>probability</th>\n",
       "    </tr>\n",
       "  </thead>\n",
       "  <tbody>\n",
       "    <tr>\n",
       "      <th>0</th>\n",
       "      <td>59</td>\n",
       "      <td>58</td>\n",
       "      <td>111</td>\n",
       "      <td>0.000015</td>\n",
       "      <td>0.000018</td>\n",
       "      <td>0.000482</td>\n",
       "      <td>0.000413</td>\n",
       "    </tr>\n",
       "    <tr>\n",
       "      <th>1</th>\n",
       "      <td>60</td>\n",
       "      <td>57</td>\n",
       "      <td>111</td>\n",
       "      <td>0.000015</td>\n",
       "      <td>0.000018</td>\n",
       "      <td>0.000515</td>\n",
       "      <td>0.000441</td>\n",
       "    </tr>\n",
       "    <tr>\n",
       "      <th>2</th>\n",
       "      <td>60</td>\n",
       "      <td>58</td>\n",
       "      <td>112</td>\n",
       "      <td>0.000000</td>\n",
       "      <td>0.000016</td>\n",
       "      <td>0.000515</td>\n",
       "      <td>0.000000</td>\n",
       "    </tr>\n",
       "    <tr>\n",
       "      <th>3</th>\n",
       "      <td>60</td>\n",
       "      <td>59</td>\n",
       "      <td>113</td>\n",
       "      <td>0.000000</td>\n",
       "      <td>0.000017</td>\n",
       "      <td>0.000515</td>\n",
       "      <td>0.000000</td>\n",
       "    </tr>\n",
       "    <tr>\n",
       "      <th>4</th>\n",
       "      <td>61</td>\n",
       "      <td>56</td>\n",
       "      <td>111</td>\n",
       "      <td>0.000015</td>\n",
       "      <td>0.000018</td>\n",
       "      <td>0.000445</td>\n",
       "      <td>0.000381</td>\n",
       "    </tr>\n",
       "    <tr>\n",
       "      <th>...</th>\n",
       "      <td>...</td>\n",
       "      <td>...</td>\n",
       "      <td>...</td>\n",
       "      <td>...</td>\n",
       "      <td>...</td>\n",
       "      <td>...</td>\n",
       "      <td>...</td>\n",
       "    </tr>\n",
       "    <tr>\n",
       "      <th>313</th>\n",
       "      <td>91</td>\n",
       "      <td>26</td>\n",
       "      <td>117</td>\n",
       "      <td>0.000061</td>\n",
       "      <td>0.000004</td>\n",
       "      <td>0.000004</td>\n",
       "      <td>0.000064</td>\n",
       "    </tr>\n",
       "    <tr>\n",
       "      <th>314</th>\n",
       "      <td>91</td>\n",
       "      <td>34</td>\n",
       "      <td>117</td>\n",
       "      <td>0.000061</td>\n",
       "      <td>0.000004</td>\n",
       "      <td>0.000004</td>\n",
       "      <td>0.000064</td>\n",
       "    </tr>\n",
       "    <tr>\n",
       "      <th>315</th>\n",
       "      <td>91</td>\n",
       "      <td>27</td>\n",
       "      <td>118</td>\n",
       "      <td>0.000091</td>\n",
       "      <td>0.000003</td>\n",
       "      <td>0.000004</td>\n",
       "      <td>0.000144</td>\n",
       "    </tr>\n",
       "    <tr>\n",
       "      <th>316</th>\n",
       "      <td>91</td>\n",
       "      <td>28</td>\n",
       "      <td>119</td>\n",
       "      <td>0.000151</td>\n",
       "      <td>0.000002</td>\n",
       "      <td>0.000004</td>\n",
       "      <td>0.000258</td>\n",
       "    </tr>\n",
       "    <tr>\n",
       "      <th>317</th>\n",
       "      <td>91</td>\n",
       "      <td>35</td>\n",
       "      <td>119</td>\n",
       "      <td>0.000151</td>\n",
       "      <td>0.000002</td>\n",
       "      <td>0.000004</td>\n",
       "      <td>0.000258</td>\n",
       "    </tr>\n",
       "  </tbody>\n",
       "</table>\n",
       "<p>318 rows × 7 columns</p>\n",
       "</div>"
      ],
      "text/plain": [
       "     m1  m2   gw   gw_dist      pimk  astroprimary  probability\n",
       "0    59  58  111  0.000015  0.000018      0.000482     0.000413\n",
       "1    60  57  111  0.000015  0.000018      0.000515     0.000441\n",
       "2    60  58  112  0.000000  0.000016      0.000515     0.000000\n",
       "3    60  59  113  0.000000  0.000017      0.000515     0.000000\n",
       "4    61  56  111  0.000015  0.000018      0.000445     0.000381\n",
       "..   ..  ..  ...       ...       ...           ...          ...\n",
       "313  91  26  117  0.000061  0.000004      0.000004     0.000064\n",
       "314  91  34  117  0.000061  0.000004      0.000004     0.000064\n",
       "315  91  27  118  0.000091  0.000003      0.000004     0.000144\n",
       "316  91  28  119  0.000151  0.000002      0.000004     0.000258\n",
       "317  91  35  119  0.000151  0.000002      0.000004     0.000258\n",
       "\n",
       "[318 rows x 7 columns]"
      ]
     },
     "execution_count": 26,
     "metadata": {},
     "output_type": "execute_result"
    }
   ],
   "source": [
    "gw_m1"
   ]
  },
  {
   "cell_type": "code",
   "execution_count": 27,
   "id": "accurate-intermediate",
   "metadata": {
    "scrolled": false
   },
   "outputs": [
    {
     "data": {
      "text/html": [
       "<div>\n",
       "<style scoped>\n",
       "    .dataframe tbody tr th:only-of-type {\n",
       "        vertical-align: middle;\n",
       "    }\n",
       "\n",
       "    .dataframe tbody tr th {\n",
       "        vertical-align: top;\n",
       "    }\n",
       "\n",
       "    .dataframe thead th {\n",
       "        text-align: right;\n",
       "    }\n",
       "</style>\n",
       "<table border=\"1\" class=\"dataframe\">\n",
       "  <thead>\n",
       "    <tr style=\"text-align: right;\">\n",
       "      <th></th>\n",
       "      <th>m1</th>\n",
       "      <th>m2</th>\n",
       "      <th>gw</th>\n",
       "      <th>gw_dist</th>\n",
       "      <th>pimk</th>\n",
       "      <th>astrosecondary</th>\n",
       "      <th>probability</th>\n",
       "    </tr>\n",
       "  </thead>\n",
       "  <tbody>\n",
       "    <tr>\n",
       "      <th>0</th>\n",
       "      <td>59</td>\n",
       "      <td>58</td>\n",
       "      <td>111</td>\n",
       "      <td>0.000015</td>\n",
       "      <td>0.000018</td>\n",
       "      <td>0.000053</td>\n",
       "      <td>0.000045</td>\n",
       "    </tr>\n",
       "    <tr>\n",
       "      <th>1</th>\n",
       "      <td>60</td>\n",
       "      <td>58</td>\n",
       "      <td>112</td>\n",
       "      <td>0.000000</td>\n",
       "      <td>0.000016</td>\n",
       "      <td>0.000053</td>\n",
       "      <td>0.000000</td>\n",
       "    </tr>\n",
       "    <tr>\n",
       "      <th>2</th>\n",
       "      <td>61</td>\n",
       "      <td>58</td>\n",
       "      <td>113</td>\n",
       "      <td>0.000000</td>\n",
       "      <td>0.000017</td>\n",
       "      <td>0.000053</td>\n",
       "      <td>0.000000</td>\n",
       "    </tr>\n",
       "    <tr>\n",
       "      <th>3</th>\n",
       "      <td>62</td>\n",
       "      <td>58</td>\n",
       "      <td>114</td>\n",
       "      <td>0.000000</td>\n",
       "      <td>0.000011</td>\n",
       "      <td>0.000053</td>\n",
       "      <td>0.000000</td>\n",
       "    </tr>\n",
       "    <tr>\n",
       "      <th>4</th>\n",
       "      <td>63</td>\n",
       "      <td>58</td>\n",
       "      <td>115</td>\n",
       "      <td>0.000061</td>\n",
       "      <td>0.000006</td>\n",
       "      <td>0.000053</td>\n",
       "      <td>0.000499</td>\n",
       "    </tr>\n",
       "    <tr>\n",
       "      <th>...</th>\n",
       "      <td>...</td>\n",
       "      <td>...</td>\n",
       "      <td>...</td>\n",
       "      <td>...</td>\n",
       "      <td>...</td>\n",
       "      <td>...</td>\n",
       "      <td>...</td>\n",
       "    </tr>\n",
       "    <tr>\n",
       "      <th>496</th>\n",
       "      <td>90</td>\n",
       "      <td>29</td>\n",
       "      <td>119</td>\n",
       "      <td>0.000151</td>\n",
       "      <td>0.000002</td>\n",
       "      <td>0.003274</td>\n",
       "      <td>0.207018</td>\n",
       "    </tr>\n",
       "    <tr>\n",
       "      <th>497</th>\n",
       "      <td>62</td>\n",
       "      <td>61</td>\n",
       "      <td>117</td>\n",
       "      <td>0.000061</td>\n",
       "      <td>0.000004</td>\n",
       "      <td>0.000057</td>\n",
       "      <td>0.000896</td>\n",
       "    </tr>\n",
       "    <tr>\n",
       "      <th>498</th>\n",
       "      <td>63</td>\n",
       "      <td>61</td>\n",
       "      <td>118</td>\n",
       "      <td>0.000091</td>\n",
       "      <td>0.000003</td>\n",
       "      <td>0.000057</td>\n",
       "      <td>0.002016</td>\n",
       "    </tr>\n",
       "    <tr>\n",
       "      <th>499</th>\n",
       "      <td>64</td>\n",
       "      <td>61</td>\n",
       "      <td>119</td>\n",
       "      <td>0.000151</td>\n",
       "      <td>0.000002</td>\n",
       "      <td>0.000057</td>\n",
       "      <td>0.003618</td>\n",
       "    </tr>\n",
       "    <tr>\n",
       "      <th>500</th>\n",
       "      <td>63</td>\n",
       "      <td>62</td>\n",
       "      <td>119</td>\n",
       "      <td>0.000151</td>\n",
       "      <td>0.000002</td>\n",
       "      <td>0.000045</td>\n",
       "      <td>0.002843</td>\n",
       "    </tr>\n",
       "  </tbody>\n",
       "</table>\n",
       "<p>501 rows × 7 columns</p>\n",
       "</div>"
      ],
      "text/plain": [
       "     m1  m2   gw   gw_dist      pimk  astrosecondary  probability\n",
       "0    59  58  111  0.000015  0.000018        0.000053     0.000045\n",
       "1    60  58  112  0.000000  0.000016        0.000053     0.000000\n",
       "2    61  58  113  0.000000  0.000017        0.000053     0.000000\n",
       "3    62  58  114  0.000000  0.000011        0.000053     0.000000\n",
       "4    63  58  115  0.000061  0.000006        0.000053     0.000499\n",
       "..   ..  ..  ...       ...       ...             ...          ...\n",
       "496  90  29  119  0.000151  0.000002        0.003274     0.207018\n",
       "497  62  61  117  0.000061  0.000004        0.000057     0.000896\n",
       "498  63  61  118  0.000091  0.000003        0.000057     0.002016\n",
       "499  64  61  119  0.000151  0.000002        0.000057     0.003618\n",
       "500  63  62  119  0.000151  0.000002        0.000045     0.002843\n",
       "\n",
       "[501 rows x 7 columns]"
      ]
     },
     "execution_count": 27,
     "metadata": {},
     "output_type": "execute_result"
    }
   ],
   "source": [
    "gw_m2"
   ]
  },
  {
   "cell_type": "code",
   "execution_count": 28,
   "id": "reasonable-permission",
   "metadata": {},
   "outputs": [],
   "source": [
    "#m1 and m2 distributions\n",
    "import h5py\n",
    "\n",
    "fn = '/Users/Oscar/Documents/Research/GW190521/GW190521.h5'\n",
    "data = h5py.File(fn,'r')\n",
    "waveform = 'C01:NRSur7dq4'\n",
    "posterior_samples = data[waveform]['posterior_samples']\n",
    "samples = np.array(posterior_samples).T\n",
    "\n",
    "mass_1=posterior_samples['mass_1_source']\n",
    "hist_mass_1=np.histogram(mass_1,bins=100,density=True)\n",
    "dx=hist_mass_1[1][1]-hist_mass_1[1][0]\n",
    "m1array = (hist_mass_1[1][:-1]+dx,hist_mass_1[0])\n",
    "\n",
    "mass_2=posterior_samples['mass_2_source']\n",
    "hist_mass_2=np.histogram(mass_2,bins=100,density=True)\n",
    "dx=hist_mass_2[1][1]-hist_mass_2[1][0]\n",
    "m2array = (hist_mass_2[1][:-1]+dx,hist_mass_2[0])"
   ]
  },
  {
   "cell_type": "code",
   "execution_count": 29,
   "id": "baking-there",
   "metadata": {
    "scrolled": false
   },
   "outputs": [
    {
     "data": {
      "text/plain": [
       "<AxesSubplot:xlabel='m1', ylabel='Density'>"
      ]
     },
     "execution_count": 29,
     "metadata": {},
     "output_type": "execute_result"
    },
    {
     "data": {
      "image/png": "[encoded data removed]",
      "text/plain": [
       "<Figure size 432x288 with 1 Axes>"
      ]
     },
     "metadata": {},
     "output_type": "display_data"
    }
   ],
   "source": [
    "import seaborn as sns\n",
    "\n",
    "fig = plt.figure()\n",
    "ax = fig.add_subplot(1,1,1)\n",
    "\n",
    "sns.histplot(x = m1array[0], element = 'poly', weights = m1array[1], stat = 'density',\n",
    "                  linewidth = 2.5, bins = 100, fill = False, common_norm = False, color = 'C3')\n",
    "\n",
    "sns.histplot(data =gw_m1, x = 'm1', element = 'poly', \n",
    "                  weights = 'probability', stat = 'density', linewidth = 2.5,\n",
    "                 bins = 33, fill = False, common_norm = False, color = 'C0')"
   ]
  },
  {
   "cell_type": "code",
   "execution_count": 30,
   "id": "nervous-victorian",
   "metadata": {},
   "outputs": [
    {
     "data": {
      "text/plain": [
       "<AxesSubplot:xlabel='m2', ylabel='Density'>"
      ]
     },
     "execution_count": 30,
     "metadata": {},
     "output_type": "execute_result"
    },
    {
     "data": {
      "image/png": "[encoded data removed]",
      "text/plain": [
       "<Figure size 432x288 with 1 Axes>"
      ]
     },
     "metadata": {},
     "output_type": "display_data"
    }
   ],
   "source": [
    "import seaborn as sns\n",
    "\n",
    "fig = plt.figure()\n",
    "ax = fig.add_subplot(1,1,1)\n",
    "\n",
    "sns.histplot(x = m2array[0], element = 'poly', weights = m1array[1], stat = 'density',\n",
    "                  linewidth = 2.5, bins = 100, fill = False, common_norm = False, color = 'C3')\n",
    "\n",
    "sns.histplot(data = gw_m2, x = 'm2', element = 'poly', \n",
    "                  weights = 'probability', stat = 'density', linewidth = 2.5,\n",
    "                 bins = 30, fill = False, common_norm = False, color = 'C0')\n",
    "\n",
    "\n"
   ]
  },
  {
   "cell_type": "code",
   "execution_count": 31,
   "id": "patent-contest",
   "metadata": {},
   "outputs": [],
   "source": [
    "#No Pimk\n",
    "gw_m1 = GW.merge(piastropri_df, left_on = 'm1', right_on = 'piastroprimary_mass')\n",
    "gw_m1 = gw_m1.drop(columns = ['piastroprimary_mass'])\n",
    "\n",
    "gw_m2 = GW.merge(piastrosec_df, left_on = 'm2', right_on = 'piastrosecondary_mass')\n",
    "gw_m2 = gw_m2.drop(columns = ['piastrosecondary_mass'])"
   ]
  },
  {
   "cell_type": "code",
   "execution_count": 32,
   "id": "documentary-mustang",
   "metadata": {},
   "outputs": [],
   "source": [
    "probability_m1 = []\n",
    "for i in range(len(gw_m1['m1'])):\n",
    "    probability_m1 += [gw_m1['astroprimary'][i] * gw_m1['gw_dist'][i]]\n",
    "    \n",
    "gw_m1['probability'] = probability_m1\n",
    "\n",
    "\n",
    "probability_m2 = []\n",
    "for i in range(len(gw_m2['m2'])):\n",
    "    probability_m2 += [gw_m2['astrosecondary'][i] * gw_m2['gw_dist'][i]]\n",
    "    \n",
    "gw_m2['probability'] = probability_m2\n",
    "\n"
   ]
  },
  {
   "cell_type": "code",
   "execution_count": 34,
   "id": "strategic-health",
   "metadata": {},
   "outputs": [
    {
     "data": {
      "text/plain": [
       "<AxesSubplot:xlabel='m1', ylabel='Density'>"
      ]
     },
     "execution_count": 34,
     "metadata": {},
     "output_type": "execute_result"
    },
    {
     "data": {
      "image/png": "[encoded data removed]",
      "text/plain": [
       "<Figure size 432x288 with 1 Axes>"
      ]
     },
     "metadata": {},
     "output_type": "display_data"
    }
   ],
   "source": [
    "import seaborn as sns\n",
    "\n",
    "fig = plt.figure()\n",
    "ax = fig.add_subplot(1,1,1)\n",
    "\n",
    "sns.histplot(x = m1array[0], element = 'poly', weights = m1array[1], stat = 'density',\n",
    "                  linewidth = 2.5, bins = 100, fill = False, common_norm = False, color = 'C3')\n",
    "\n",
    "sns.histplot(data =gw_m1, x = 'm1', element = 'poly', \n",
    "                  weights = 'probability', stat = 'density', linewidth = 2.5,\n",
    "                 bins = 33, fill = False, common_norm = False, color = 'C0')\n",
    "\n",
    "sns.histplot(x = m2array[0], element = 'poly', weights = m1array[1], stat = 'density',\n",
    "                  linewidth = 2.5, bins = 100, fill = False, common_norm = False, color = 'C3')\n",
    "\n",
    "sns.histplot(data = gw_m2, x = 'm2', element = 'poly', \n",
    "                  weights = 'probability', stat = 'density', linewidth = 2.5,\n",
    "                 bins = 30, fill = False, common_norm = False, color = 'C0')\n",
    "\n"
   ]
  },
  {
   "cell_type": "code",
   "execution_count": 113,
   "id": "classified-component",
   "metadata": {
    "scrolled": false
   },
   "outputs": [
    {
     "data": {
      "text/plain": [
       "<AxesSubplot:xlabel='m2', ylabel='Density'>"
      ]
     },
     "execution_count": 113,
     "metadata": {},
     "output_type": "execute_result"
    },
    {
     "data": {
      "image/png": "[encoded data removed]",
      "text/plain": [
       "<Figure size 432x288 with 1 Axes>"
      ]
     },
     "metadata": {},
     "output_type": "display_data"
    }
   ],
   "source": [
    "import seaborn as sns\n",
    "\n",
    "fig = plt.figure()\n",
    "ax = fig.add_subplot(1,1,1)\n",
    "\n",
    "sns.histplot(x = m2array[0], element = 'poly', weights = m1array[1], stat = 'density',\n",
    "                  linewidth = 2.5, bins = 100, fill = False, common_norm = False, color = 'C3')\n",
    "\n",
    "sns.histplot(data = gw_m2, x = 'm2', element = 'poly', \n",
    "                  weights = 'probability', stat = 'density', linewidth = 2.5,\n",
    "                 bins = 30, fill = False, common_norm = False, color = 'C0')\n",
    "\n",
    "\n",
    "\n"
   ]
  },
  {
   "cell_type": "code",
   "execution_count": 114,
   "id": "immune-algeria",
   "metadata": {
    "scrolled": false
   },
   "outputs": [
    {
     "data": {
      "text/html": [
       "<div>\n",
       "<style scoped>\n",
       "    .dataframe tbody tr th:only-of-type {\n",
       "        vertical-align: middle;\n",
       "    }\n",
       "\n",
       "    .dataframe tbody tr th {\n",
       "        vertical-align: top;\n",
       "    }\n",
       "\n",
       "    .dataframe thead th {\n",
       "        text-align: right;\n",
       "    }\n",
       "</style>\n",
       "<table border=\"1\" class=\"dataframe\">\n",
       "  <thead>\n",
       "    <tr style=\"text-align: right;\">\n",
       "      <th></th>\n",
       "      <th>m1</th>\n",
       "      <th>m2</th>\n",
       "      <th>gw</th>\n",
       "      <th>gw_dist</th>\n",
       "    </tr>\n",
       "  </thead>\n",
       "  <tbody>\n",
       "    <tr>\n",
       "      <th>0</th>\n",
       "      <td>59</td>\n",
       "      <td>58</td>\n",
       "      <td>111</td>\n",
       "      <td>0.000015</td>\n",
       "    </tr>\n",
       "    <tr>\n",
       "      <th>1</th>\n",
       "      <td>60</td>\n",
       "      <td>57</td>\n",
       "      <td>111</td>\n",
       "      <td>0.000015</td>\n",
       "    </tr>\n",
       "    <tr>\n",
       "      <th>2</th>\n",
       "      <td>61</td>\n",
       "      <td>56</td>\n",
       "      <td>111</td>\n",
       "      <td>0.000015</td>\n",
       "    </tr>\n",
       "    <tr>\n",
       "      <th>3</th>\n",
       "      <td>62</td>\n",
       "      <td>55</td>\n",
       "      <td>111</td>\n",
       "      <td>0.000015</td>\n",
       "    </tr>\n",
       "    <tr>\n",
       "      <th>4</th>\n",
       "      <td>63</td>\n",
       "      <td>54</td>\n",
       "      <td>111</td>\n",
       "      <td>0.000015</td>\n",
       "    </tr>\n",
       "    <tr>\n",
       "      <th>...</th>\n",
       "      <td>...</td>\n",
       "      <td>...</td>\n",
       "      <td>...</td>\n",
       "      <td>...</td>\n",
       "    </tr>\n",
       "    <tr>\n",
       "      <th>8587</th>\n",
       "      <td>185</td>\n",
       "      <td>34</td>\n",
       "      <td>219</td>\n",
       "      <td>0.000015</td>\n",
       "    </tr>\n",
       "    <tr>\n",
       "      <th>8588</th>\n",
       "      <td>186</td>\n",
       "      <td>33</td>\n",
       "      <td>219</td>\n",
       "      <td>0.000015</td>\n",
       "    </tr>\n",
       "    <tr>\n",
       "      <th>8589</th>\n",
       "      <td>187</td>\n",
       "      <td>32</td>\n",
       "      <td>219</td>\n",
       "      <td>0.000015</td>\n",
       "    </tr>\n",
       "    <tr>\n",
       "      <th>8590</th>\n",
       "      <td>188</td>\n",
       "      <td>31</td>\n",
       "      <td>219</td>\n",
       "      <td>0.000015</td>\n",
       "    </tr>\n",
       "    <tr>\n",
       "      <th>8591</th>\n",
       "      <td>189</td>\n",
       "      <td>30</td>\n",
       "      <td>219</td>\n",
       "      <td>0.000015</td>\n",
       "    </tr>\n",
       "  </tbody>\n",
       "</table>\n",
       "<p>8592 rows × 4 columns</p>\n",
       "</div>"
      ],
      "text/plain": [
       "       m1  m2   gw   gw_dist\n",
       "0      59  58  111  0.000015\n",
       "1      60  57  111  0.000015\n",
       "2      61  56  111  0.000015\n",
       "3      62  55  111  0.000015\n",
       "4      63  54  111  0.000015\n",
       "...   ...  ..  ...       ...\n",
       "8587  185  34  219  0.000015\n",
       "8588  186  33  219  0.000015\n",
       "8589  187  32  219  0.000015\n",
       "8590  188  31  219  0.000015\n",
       "8591  189  30  219  0.000015\n",
       "\n",
       "[8592 rows x 4 columns]"
      ]
     },
     "execution_count": 114,
     "metadata": {},
     "output_type": "execute_result"
    }
   ],
   "source": [
    "GW"
   ]
  },
  {
   "cell_type": "code",
   "execution_count": 167,
   "id": "becoming-armenia",
   "metadata": {},
   "outputs": [],
   "source": [
    "def astrophysical(mass):\n",
    "    if mass != 0:\n",
    "        distr = mass**(-2.3)\n",
    "    else: distr = 0\n",
    "    return distr\n",
    "\n",
    "probability_m1 = []\n",
    "for i in range(len(GW['m1'])):\n",
    "    probability_m1 += [astrophysical(GW['m1'][i]) * (GW['gw_dist'][i])]\n",
    "\n",
    "GW['probability'] = probability_m1\n",
    "\n",
    "\n",
    "probability_m2 = []\n",
    "for i in range(len(GW['m2'])):\n",
    "    probability_m2 += [astrophysical(GW['m2'][i]) * (GW['gw_dist'][i])]\n",
    "    \n",
    "GW['probability'] = probability_m2\n",
    "\n",
    "\n"
   ]
  },
  {
   "cell_type": "code",
   "execution_count": 168,
   "id": "naked-preparation",
   "metadata": {},
   "outputs": [
    {
     "data": {
      "text/plain": [
       "<AxesSubplot:xlabel='m1', ylabel='Density'>"
      ]
     },
     "execution_count": 168,
     "metadata": {},
     "output_type": "execute_result"
    },
    {
     "data": {
      "image/png": "[encoded data removed]",
      "text/plain": [
       "<Figure size 432x288 with 1 Axes>"
      ]
     },
     "metadata": {},
     "output_type": "display_data"
    }
   ],
   "source": [
    "import seaborn as sns\n",
    "\n",
    "fig = plt.figure()\n",
    "ax = fig.add_subplot(1,1,1)\n",
    "\n",
    "sns.histplot(x = m1array[0], element = 'poly', weights = m1array[1], stat = 'density',\n",
    "                  linewidth = 2.5, bins = 100, fill = False, common_norm = False, color = 'C3')\n",
    "\n",
    "sns.histplot(data = GW, x = 'm1', element = 'poly', \n",
    "                  weights = 'probability', stat = 'density', linewidth = 2.5,\n",
    "                 bins = 33, fill = False,  color = 'C0')\n",
    "\n"
   ]
  },
  {
   "cell_type": "code",
   "execution_count": 35,
   "id": "traditional-scott",
   "metadata": {},
   "outputs": [],
   "source": [
    "def astrophysical(mass):\n",
    "    if mass != 0:\n",
    "        distr = mass**(2.3)\n",
    "    else: distr = 0\n",
    "    return distr\n",
    "\n",
    "probability_m1 = []\n",
    "for i in range(len(GW['m1'])):\n",
    "    probability_m1 += [astrophysical(GW['m1'][i]) * (GW['gw_dist'][i])]\n",
    "\n",
    "GW['probability'] = probability_m1\n",
    "\n",
    "\n",
    "probability_m2 = []\n",
    "for i in range(len(GW['m2'])):\n",
    "    probability_m2 += [astrophysical(GW['m2'][i]) * (GW['gw_dist'][i])]\n",
    "    \n",
    "GW['probability'] = probability_m2\n",
    "\n",
    "\n",
    "\n"
   ]
  },
  {
   "cell_type": "code",
   "execution_count": 36,
   "id": "dedicated-serve",
   "metadata": {
    "scrolled": true
   },
   "outputs": [
    {
     "data": {
      "text/plain": [
       "<AxesSubplot:xlabel='m1', ylabel='Density'>"
      ]
     },
     "execution_count": 36,
     "metadata": {},
     "output_type": "execute_result"
    },
    {
     "data": {
      "image/png": "[encoded data removed]",
      "text/plain": [
       "<Figure size 432x288 with 1 Axes>"
      ]
     },
     "metadata": {},
     "output_type": "display_data"
    }
   ],
   "source": [
    "import seaborn as sns\n",
    "\n",
    "fig = plt.figure()\n",
    "ax = fig.add_subplot(1,1,1)\n",
    "\n",
    "sns.histplot(x = m1array[0], element = 'poly', weights = m1array[1], stat = 'density',\n",
    "                  linewidth = 2.5, bins = 100, fill = False, common_norm = False, color = 'C3')\n",
    "\n",
    "sns.histplot(data = GW, x = 'm1', element = 'poly', \n",
    "                  weights = 'probability', stat = 'density', linewidth = 2.5,\n",
    "                 bins = 33, fill = False,  color = 'C0')\n",
    "\n",
    "\n"
   ]
  },
  {
   "cell_type": "code",
   "execution_count": 37,
   "id": "detailed-assurance",
   "metadata": {},
   "outputs": [
    {
     "data": {
      "text/plain": [
       "<AxesSubplot:xlabel='m2', ylabel='Density'>"
      ]
     },
     "execution_count": 37,
     "metadata": {},
     "output_type": "execute_result"
    },
    {
     "data": {
      "image/png": "[encoded data removed]",
      "text/plain": [
       "<Figure size 432x288 with 1 Axes>"
      ]
     },
     "metadata": {},
     "output_type": "display_data"
    }
   ],
   "source": [
    "import seaborn as sns\n",
    "\n",
    "fig = plt.figure()\n",
    "ax = fig.add_subplot(1,1,1)\n",
    "\n",
    "sns.histplot(x = m2array[0], element = 'poly', weights = m1array[1], stat = 'density',\n",
    "                  linewidth = 2.5, bins = 100, fill = False, common_norm = False, color = 'C3')\n",
    "\n",
    "sns.histplot(data = GW, x = 'm2', element = 'poly', \n",
    "                  weights = 'probability', stat = 'density', linewidth = 2.5,\n",
    "                 bins = 33, fill = False,  color = 'C0')\n",
    "\n",
    "\n",
    "\n"
   ]
  },
  {
   "cell_type": "code",
   "execution_count": 212,
   "id": "several-absorption",
   "metadata": {},
   "outputs": [],
   "source": [
    "def astrophysical(mass):\n",
    "    if mass != 0:\n",
    "        distr = mass**(5)\n",
    "    else: distr = 0\n",
    "    return distr\n",
    "\n",
    "probability_m1 = []\n",
    "for i in range(len(GW['m1'])):\n",
    "    probability_m1 += [astrophysical(GW['m1'][i]) * (GW['gw_dist'][i])]\n",
    "\n",
    "GW['probability'] = probability_m1\n",
    "\n",
    "\n",
    "probability_m2 = []\n",
    "for i in range(len(GW['m2'])):\n",
    "    probability_m2 += [astrophysical(GW['m2'][i]) * (GW['gw_dist'][i])]\n",
    "    \n",
    "GW['probability'] = probability_m2\n",
    "\n",
    "\n",
    "\n",
    "\n"
   ]
  },
  {
   "cell_type": "code",
   "execution_count": 213,
   "id": "quiet-colony",
   "metadata": {},
   "outputs": [
    {
     "data": {
      "text/plain": [
       "<AxesSubplot:xlabel='m1', ylabel='Density'>"
      ]
     },
     "execution_count": 213,
     "metadata": {},
     "output_type": "execute_result"
    },
    {
     "data": {
      "image/png": "[encoded data removed]",
      "text/plain": [
       "<Figure size 432x288 with 1 Axes>"
      ]
     },
     "metadata": {},
     "output_type": "display_data"
    }
   ],
   "source": [
    "import seaborn as sns\n",
    "\n",
    "fig = plt.figure()\n",
    "ax = fig.add_subplot(1,1,1)\n",
    "\n",
    "sns.histplot(x = m1array[0], element = 'poly', weights = m1array[1], stat = 'density',\n",
    "                  linewidth = 2.5, bins = 100, fill = False, common_norm = False, color = 'C3')\n",
    "\n",
    "sns.histplot(data = GW, x = 'm1', element = 'poly', \n",
    "                  weights = 'probability', stat = 'density', linewidth = 2.5,\n",
    "                 bins = 33, fill = False,  color = 'C0')\n",
    "\n",
    "\n"
   ]
  },
  {
   "cell_type": "code",
   "execution_count": null,
   "id": "increasing-delaware",
   "metadata": {},
   "outputs": [],
   "source": []
  }
 ],
 "metadata": {
  "kernelspec": {
   "display_name": "Python 3",
   "language": "python",
   "name": "python3"
  },
  "language_info": {
   "codemirror_mode": {
    "name": "ipython",
    "version": 3
   },
   "file_extension": ".py",
   "mimetype": "text/x-python",
   "name": "python",
   "nbconvert_exporter": "python",
   "pygments_lexer": "ipython3",
   "version": "3.9.0"
  }
 },
 "nbformat": 4,
 "nbformat_minor": 5
}
