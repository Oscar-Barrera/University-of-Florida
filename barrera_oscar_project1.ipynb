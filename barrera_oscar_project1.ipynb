{
 "cells": [
  {
   "cell_type": "code",
   "execution_count": 1,
   "id": "aad25abe-eedd-43e8-a1b3-0e539b0e6a42",
   "metadata": {},
   "outputs": [],
   "source": [
    "import pandas as pd\n",
    "import numpy as np\n",
    "data = np.load('wp.npz')\n",
    "textwp = str(data['text'])"
   ]
  },
  {
   "cell_type": "code",
   "execution_count": 2,
   "id": "e67accac-7f01-4292-b0c3-c7d10f5302d8",
   "metadata": {},
   "outputs": [
    {
     "data": {
      "text/plain": [
       "{' ': 0.18021439137694942,\n",
       " 'a': 0.06293188850329143,\n",
       " 'b': 0.010718958080628553,\n",
       " 'c': 0.018966448134290527,\n",
       " 'd': 0.036980405378168504,\n",
       " 'e': 0.09673813860254103,\n",
       " 'f': 0.017126513022159843,\n",
       " 'g': 0.01571075548193779,\n",
       " 'h': 0.051310827796731906,\n",
       " 'i': 0.053498594625496096,\n",
       " 'j': 0.0007866676927549616,\n",
       " 'k': 0.006391369620212962,\n",
       " 'l': 0.029706477670975017,\n",
       " 'm': 0.018913922185861236,\n",
       " 'n': 0.05678116101890568,\n",
       " 'o': 0.05869530430236379,\n",
       " 'p': 0.013996027572458325,\n",
       " 'q': 0.0007158187390596389,\n",
       " 'r': 0.04566795294163634,\n",
       " 's': 0.05020350751182139,\n",
       " 't': 0.06940662779746483,\n",
       " 'u': 0.019933902812337003,\n",
       " 'v': 0.008343991214729741,\n",
       " 'w': 0.018255820913389596,\n",
       " 'x': 0.001257874311513077,\n",
       " 'y': 0.014164904604326917,\n",
       " 'z': 0.0007472732314329933}"
      ]
     },
     "execution_count": 2,
     "metadata": {},
     "output_type": "execute_result"
    }
   ],
   "source": [
    "#Create Uni-gram dict of probability of each letter occuring\n",
    "\n",
    "#include space at the start\n",
    "list_of_letters = \" abcdefghijklmnopqrstuvwxyz\"\n",
    "\n",
    "unigram_dict = {}\n",
    "\n",
    "for i in list_of_letters:\n",
    "    count = 0\n",
    "    for j in textwp:\n",
    "        if i == j:\n",
    "            count += 1\n",
    "    \n",
    "    unigram_dict[i] = count / len(textwp)\n",
    "    \n",
    "unigram_dict"
   ]
  },
  {
   "cell_type": "markdown",
   "id": "e84233f8-3734-415b-b625-01f730735efc",
   "metadata": {},
   "source": [
    "## When trying to use dataframe:"
   ]
  },
  {
   "cell_type": "code",
   "execution_count": 3,
   "id": "f3174ef4-a729-461c-8ed7-49fd2a5fbdd1",
   "metadata": {},
   "outputs": [],
   "source": [
    "# #Create bi-gram dataframe of every possible combination of letters (27 x 27)\n",
    "\n",
    "# #2D array to hold counts for each letter\n",
    "# bigram_array = []\n",
    "\n",
    "# #loop through every letter twice (to get every combination)\n",
    "# for i in list_of_letters:\n",
    "#     #declare empty counter for current letter\n",
    "#     current_letter_count = []\n",
    "    \n",
    "#     for j in list_of_letters:\n",
    "#         #append how many times letter1 + letter2 appears in text together\n",
    "#         current_letter_count.append(textwp.count(i+j) + 1)\n",
    "        \n",
    "#     #append array of length 27 to 2D array\n",
    "#     bigram_array.append(current_letter_count)\n",
    "            \n",
    "\n",
    "# #create bi-gram dict\n",
    "# d = {element: bigram_array[index] for index, element in enumerate(list_of_letters)}\n",
    "# #convert to DataFrame\n",
    "# bigram_df = pd.DataFrame(data = d)\n",
    "# bigram_df = bigram_df.rename(index={i: list_of_letters[i] for i in range(len(list_of_letters))})\n",
    "\n",
    "# bigram_df"
   ]
  },
  {
   "cell_type": "markdown",
   "id": "8e564f99-e523-45dc-8998-176aeb93ed26",
   "metadata": {},
   "source": [
    "### Bigram dictionary"
   ]
  },
  {
   "cell_type": "code",
   "execution_count": 4,
   "id": "ccfb7712-aac1-4ad3-bf82-3fcdef33f556",
   "metadata": {},
   "outputs": [
    {
     "data": {
      "text/plain": [
       "729"
      ]
     },
     "execution_count": 4,
     "metadata": {},
     "output_type": "execute_result"
    }
   ],
   "source": [
    "#create bi-gram dict for every combination of letters\n",
    "\n",
    "bigram_dict = {}\n",
    "\n",
    "for i in list_of_letters:\n",
    "    for j in list_of_letters:\n",
    "        current_letter_count = (textwp.count(i+j) + 1)\n",
    "        bigram_dict[i+j] = current_letter_count\n",
    "        \n",
    "len(bigram_dict)"
   ]
  },
  {
   "cell_type": "markdown",
   "id": "4912066f-c5b9-465b-a51c-be95fdd4479a",
   "metadata": {},
   "source": [
    "### setting up functions to decipher a phrase"
   ]
  },
  {
   "cell_type": "code",
   "execution_count": 5,
   "id": "3be34a6d-b291-419d-8a7c-90be0982ae71",
   "metadata": {},
   "outputs": [
    {
     "name": "stdout",
     "output_type": "stream",
     "text": [
      "solution_key:  don rugbtijkcmqpaxwfyzvhels\n"
     ]
    }
   ],
   "source": [
    "#generate a random solution key where every letter maps to another randomly generated letter\n",
    "import random\n",
    "\n",
    "sol_key = list(list_of_letters)\n",
    "random.shuffle(sol_key)\n",
    "sol_key = ''.join(sol_key)\n",
    "print('solution_key: ', sol_key)"
   ]
  },
  {
   "cell_type": "code",
   "execution_count": 6,
   "id": "b071057a-6883-4cc1-9fbd-7f8c21a16868",
   "metadata": {},
   "outputs": [
    {
     "name": "stdout",
     "output_type": "stream",
     "text": [
      "current jumbled phrase:  caum asw ciee rost fl tno niee td hotun a laie dh ratog\n",
      "current solution key:   oeympwhbnfvgisrdklxjzqutac\n"
     ]
    }
   ],
   "source": [
    "#jumbled phrase\n",
    "\n",
    "jumbled = \"zywd ynf zmbb oanx jr xia imbb xp gaxwi y rymb pg oyxal\"\n",
    "\n",
    "#first, convert with Uni-gram decoding\n",
    "\n",
    "def unigram_decode(jumbled_phrase, unigram_probability_dictionary):\n",
    "    \n",
    "    #get probabilities of current letters in phrase\n",
    "    phrase_unigram_dict = {}\n",
    "\n",
    "    for i in list_of_letters:\n",
    "        count = 0\n",
    "        for j in jumbled_phrase:\n",
    "            if i == j:\n",
    "                count += 1\n",
    "\n",
    "        phrase_unigram_dict[i] = count / len(jumbled_phrase)\n",
    "\n",
    "    #now, replace letters according to their probabilities\n",
    "    \n",
    "    #sort dictionaries by probability & convert back to dict\n",
    "    \n",
    "    unigram_probability_dictionary = dict(sorted(unigram_probability_dictionary.items(), \n",
    "                                            key=lambda x:x[1], reverse = True))\n",
    "    \n",
    "    phrase_unigram_dict = dict(sorted(phrase_unigram_dict.items(), \n",
    "                                            key=lambda x:x[1], reverse = True))\n",
    "    \n",
    "    #find the letters that correspond with one another\n",
    "    \n",
    "    wnp_sorted_dict_probability = list(unigram_probability_dictionary.keys())\n",
    "    phrase_sorted_dict_probability = list(phrase_unigram_dict.keys())\n",
    "    \n",
    "    unigram_replacement = {phrase_sorted_dict_probability[i]: wnp_sorted_dict_probability[i]\n",
    "                          for i in range(len(wnp_sorted_dict_probability))}\n",
    "    \n",
    "    #replace letters\n",
    "    \n",
    "    unigram_decoded = \"\"\n",
    "    \n",
    "    for i in jumbled_phrase:\n",
    "        unigram_decoded += unigram_replacement[i]\n",
    "        \n",
    "        \n",
    "    #return decryption key\n",
    "    \n",
    "    #sort dict by alphabetical order\n",
    "    unigram_replacement = dict(sorted(unigram_replacement.items(), \n",
    "                                            key=lambda x:x[0]))\n",
    "    \n",
    "    sol_key = []\n",
    "    for i in unigram_replacement:\n",
    "        sol_key.append(unigram_replacement[i])\n",
    "        \n",
    "    sol_key = ''.join(sol_key)\n",
    "    \n",
    "    #return current phrase + current solution key\n",
    "    \n",
    "    return unigram_decoded, sol_key\n",
    "    \n",
    "current_jumbled, unigram_sol_key = unigram_decode(jumbled, unigram_dict)\n",
    "\n",
    "print('current jumbled phrase: ', current_jumbled)\n",
    "print('current solution key: ', unigram_sol_key)"
   ]
  },
  {
   "cell_type": "markdown",
   "id": "3028f1ee-42a1-406a-ae4b-e53595304631",
   "metadata": {},
   "source": [
    "Now the spaces are properly mapped to eachother. While this is a better starting point (e.g., the a is properly mapped), we still need bi-gram decoding"
   ]
  },
  {
   "cell_type": "code",
   "execution_count": 7,
   "id": "30a8d0bb-1953-4816-b098-21d80ddd83c9",
   "metadata": {},
   "outputs": [
    {
     "data": {
      "text/plain": [
       "'caum asw ciee rost fl tno niee td hotun a laie dh ratog'"
      ]
     },
     "execution_count": 7,
     "metadata": {},
     "output_type": "execute_result"
    }
   ],
   "source": [
    "#define function to 'un-jumble' phrase given a solution key:\n",
    "\n",
    "def unJumble(jumbled_phrase, solution_key):\n",
    "    \n",
    "    decrypt_dict = {list_of_letters[i]: solution_key[i]\n",
    "                          for i in range(len(solution_key))}\n",
    "    unjumbled = []\n",
    "    \n",
    "    for i in jumbled_phrase:\n",
    "        unjumbled.append(decrypt_dict[i])\n",
    "        \n",
    "    unjumbled = ''.join(unjumbled)\n",
    "    \n",
    "    return unjumbled\n",
    "\n",
    "unJumble(jumbled, unigram_sol_key)"
   ]
  },
  {
   "cell_type": "markdown",
   "id": "9052c978-75cd-484e-b554-a27ad29dab07",
   "metadata": {},
   "source": [
    "### When trying to use dataframe and scoring function from Equation 2"
   ]
  },
  {
   "cell_type": "code",
   "execution_count": 8,
   "id": "8859bf20-08ae-42ac-ab76-56d1d5f61651",
   "metadata": {},
   "outputs": [],
   "source": [
    "# #define function to score a given un-jumbled phrase\n",
    "\n",
    "# def score_sol_key(jumbled_phrase, solution_key):\n",
    "    \n",
    "#     #first, unjumble phrase given key\n",
    "#     unjumbled_phrase = unJumble(jumbled_phrase, solution_key)\n",
    "    \n",
    "#     #use equation 2 from http://probability.ca/jeff/ftpdir/decipherart.pdf\n",
    "    \n",
    "#     pi = []\n",
    "    \n",
    "#     #added epsilon << 1 to avoid divide by 0 error\n",
    "#     epsilon = 0.001\n",
    "    \n",
    "#     for i in list_of_letters:\n",
    "#         for j in list_of_letters:\n",
    "            \n",
    "#             f_beta = unjumbled_phrase.count(i+j) + epsilon\n",
    "#             r_beta = bigram_df[i][j] + epsilon\n",
    "            \n",
    "#             pi.append(r_beta**f_beta)\n",
    "                \n",
    "   \n",
    "#     score = np.prod(pi) \n",
    "            \n",
    "#     return score, unjumbled_phrase\n",
    "    "
   ]
  },
  {
   "cell_type": "code",
   "execution_count": 9,
   "id": "f636c61d-aeb0-4a4b-bf8f-a43d784ce3b4",
   "metadata": {},
   "outputs": [],
   "source": [
    "#function to return dict of letters in any given text\n",
    "\n",
    "def turn_to_dict(text):\n",
    "    turn_dict = {}\n",
    "    for i in range(len(text)-1):\n",
    "        key = text[i] + text[i+1]\n",
    "        if key in turn_dict:\n",
    "            turn_dict[key] += 1\n",
    "        else:\n",
    "            turn_dict[key] = 1\n",
    "        \n",
    "    return turn_dict"
   ]
  },
  {
   "cell_type": "code",
   "execution_count": 10,
   "id": "49540438-102c-475f-b874-e739cb80a293",
   "metadata": {},
   "outputs": [],
   "source": [
    "def score_sol_key(jumbled_phrase, solution_key):\n",
    "    \n",
    "    #first, unjumble phrase given key\n",
    "    unjumbled_phrase = unJumble(jumbled_phrase, solution_key)\n",
    "\n",
    "    unjumbled_dict = turn_to_dict(unjumbled_phrase)\n",
    "    score = 0\n",
    "    \n",
    "    for key, value in unjumbled_dict.items():\n",
    "        score += value * math.log(bigram_dict[key])\n",
    "        \n",
    "    return score, unjumbled_phrase"
   ]
  },
  {
   "cell_type": "code",
   "execution_count": 11,
   "id": "36118b0a-d50a-431e-86cc-50c3af5a905d",
   "metadata": {},
   "outputs": [],
   "source": [
    "#swap indices at random in sol key\n",
    "import random\n",
    "\n",
    "def swap_indices(sol_key, first_index, second_index):\n",
    "    #convert to list so we can support item assignment\n",
    "    sol_key = list(sol_key)\n",
    "    \n",
    "    l1_temp = sol_key[first_index]\n",
    "    \n",
    "    sol_key[first_index] = sol_key[second_index]\n",
    "    sol_key[second_index] = l1_temp\n",
    "    \n",
    "    #return back to string\n",
    "    sol_key = ''.join(sol_key)\n",
    "    \n",
    "    return sol_key"
   ]
  },
  {
   "cell_type": "code",
   "execution_count": 12,
   "id": "eb75182e-ba64-4e69-bcda-fabccddaa48c",
   "metadata": {},
   "outputs": [],
   "source": [
    "#function to test whether or not to swap solutions\n",
    "import math\n",
    "\n",
    "def should_swap(current_score, proposed_score):\n",
    "    #define acceptance probability\n",
    "    \n",
    "#     acceptance_probability = min(1, proposed_score/current_score)\n",
    "    acceptance_probability = min(1,math.exp(proposed_score-(current_score)))\n",
    "    U = random.uniform(0,1)\n",
    "    \n",
    "    if U < acceptance_probability:\n",
    "        return True\n",
    "    else:\n",
    "        return False\n"
   ]
  },
  {
   "cell_type": "markdown",
   "id": "a40ce950-0b81-47e2-855e-08153396f834",
   "metadata": {},
   "source": [
    "### First Decipher attempt"
   ]
  },
  {
   "cell_type": "code",
   "execution_count": 13,
   "id": "c6cd8adf-2bf9-437c-aa75-21311b4c2175",
   "metadata": {},
   "outputs": [],
   "source": [
    "#define code breaking function\n",
    "\n",
    "def decipher(jumbled_phrase, solution_key, n_iterations):\n",
    "    \n",
    "    current_sol_key = solution_key\n",
    "    \n",
    "    #keep array of scores and phrases\n",
    "    score_array = []\n",
    "    phrase_array = []\n",
    "    \n",
    "    #evaluate current score\n",
    "    current_score, current_phrase = score_sol_key(jumbled_phrase, current_sol_key)\n",
    "    \n",
    "    #loop through number of iterations\n",
    "    for i in range(n_iterations):\n",
    "        \n",
    "         #do not swap index 0 (space) as it will almost always be correctly mapped\n",
    "        first_index =  random.randint(1, len(solution_key)-1)\n",
    "        second_index =  random.randint(1, len(solution_key)-1)\n",
    "        \n",
    "        #propose new solution key\n",
    "        proposed_sol = swap_indices(current_sol_key, first_index, second_index)\n",
    "        #calculate score with proposed solution\n",
    "        proposed_score, proposed_phrase = score_sol_key(jumbled_phrase, proposed_sol)\n",
    "            \n",
    "        #check acceptance probability\n",
    "        if should_swap(current_score, proposed_score):\n",
    "            #save variables before they are overwritten\n",
    "            score_array.append(current_score)\n",
    "            phrase_array.append(current_phrase)\n",
    "            \n",
    "            #swap to proposed phrase and score\n",
    "            current_score = proposed_score\n",
    "            current_sol_key = proposed_sol\n",
    "            current_phrase = proposed_phrase\n",
    "        \n",
    "        #print out a log of the phrases as the iterations progress\n",
    "        if i%10000 == 0:\n",
    "            print(i, current_phrase, current_score, proposed_score)\n",
    "        \n",
    "\n",
    "    return score_array, phrase_array"
   ]
  },
  {
   "cell_type": "code",
   "execution_count": 14,
   "id": "763e1836-20bf-428c-883e-a9ae390b3026",
   "metadata": {},
   "outputs": [
    {
     "name": "stdout",
     "output_type": "stream",
     "text": [
      "0 caum asw ciee rost fl tno niee td hotun a laie dh ratog 500.0537722820202 477.85281725752753\n",
      "10000 pard afy piss beft un the hiss to metrh a nais om batel 518.835779013305 516.7457563163629\n",
      "20000 wary and wiss ment ch tle liss to fetrl a hais of matev 533.3015098431638 533.3015098431638\n",
      "30000 pacy ang piss mont lw tho hiss te dotch a wais ed matou 527.1198052386588 504.8006479054069\n",
      "40000 wacy and wiss ment lp the hiss to retch a pais or matex 530.0924796494428 457.69776137336993\n",
      "50000 waly ang wiss hent up tre riss to detlr a pais od hatev 530.7962214807012 524.5899936372657\n",
      "60000 laug and liss hent my tre riss to fetur a yais of hatew 530.8102400861566 520.0060147316465\n",
      "70000 waud asm winn hest gl tre rinn to fetur a lain of hateq 522.5859525935507 473.0102545961271\n",
      "80000 waug and wiss cent br the hiss to fetuh a rais of catev 530.2953844268748 519.4939173723385\n",
      "90000 palf and pree mont by tio iree th sotli a yare hs matov 526.4674762664318 519.77553029886\n",
      "100000 wacu ang wiss bont ld tho hiss te potch a dais ep bator 525.3283607548723 525.3283607548723\n",
      "110000 haup ang hiss fent lm tre riss to wetur a mais ow fated 525.7779365295595 507.10553195329766\n",
      "120000 ialy aug iree cout wh tdo dree ts potld a hare sp caton 524.3609527106219 494.9095501929612\n",
      "130000 paug ano pree wins md sli lree st hisul a dare th wasic 522.4722839511887 513.984017494613\n",
      "140000 woul ong whee cans br sta thee si fasut o rohe if cosay 526.8441290242464 523.6425748525861\n",
      "150000 uand aly uree poli wh ito tree is moint a hare sm paiov 528.9536673943084 528.9536673943084\n",
      "160000 pack aug pree houn is nto tree nd yonct a sare dy hanof 529.4719061947491 503.95974737148816\n",
      "170000 waly auf whee coun pr nto thee nd sonlt a rahe ds canom 528.645815087978 517.5126365186298\n",
      "180000 pang aly pree woli th ido dree im soind a hare ms waiou 532.2485017002507 516.1559279331836\n",
      "190000 maly aif mree coin wh ndo dree ng tonld a hare gt canou 524.3069391035845 506.5532426390719\n"
     ]
    }
   ],
   "source": [
    "score_a, phrase_a = decipher(jumbled, unigram_sol_key, 200000)"
   ]
  },
  {
   "cell_type": "code",
   "execution_count": 15,
   "id": "6926ce9b-61a3-4bc3-b51a-848bcf1d2977",
   "metadata": {},
   "outputs": [
    {
     "data": {
      "image/png": "[encoded data removed]",
      "text/plain": [
       "<Figure size 432x288 with 1 Axes>"
      ]
     },
     "metadata": {
      "needs_background": "light"
     },
     "output_type": "display_data"
    }
   ],
   "source": [
    "import matplotlib.pyplot as plt\n",
    "plt.axhline(528,0,100, linestyle = '--', c = 'k')\n",
    "plt.plot(score_a[::500])\n",
    "plt.xlabel('iteration (* 500)')\n",
    "plt.ylabel('Score')\n",
    "plt.title('acceptance_probability = \\nmin(1,math.exp(proposed_score-(current_score)))')\n",
    "\n",
    "plt.show()"
   ]
  },
  {
   "cell_type": "code",
   "execution_count": 16,
   "id": "52da4f1e-5d6f-4866-9716-6803e216f157",
   "metadata": {},
   "outputs": [],
   "source": [
    "#return best score\n",
    "def best_score(phrase_array):\n",
    "    original = 'jack and jill went up the hill to fetch a pail of water'\n",
    "    \n",
    "    correct_percentages = []\n",
    "    best_percentage = 0\n",
    "\n",
    "    for i in phrase_array:\n",
    "\n",
    "        letters_correct = sum(x == y for x, y in zip(original, i))\n",
    "\n",
    "        percent_correct = letters_correct / len(i)\n",
    "\n",
    "        correct_percentages.append(percent_correct)\n",
    "\n",
    "        #find best phrase\n",
    "\n",
    "        if percent_correct > best_percentage:\n",
    "            best_percentage = percent_correct\n",
    "            best_phrase = i\n",
    "\n",
    "    print(best_phrase, round(best_percentage,2), '%')"
   ]
  },
  {
   "cell_type": "code",
   "execution_count": 17,
   "id": "e3038c7d-9ebc-4f6d-9273-2719356c370a",
   "metadata": {},
   "outputs": [
    {
     "name": "stdout",
     "output_type": "stream",
     "text": [
      "rack and riss went up the hiss to fetch a pais of watem 0.85 %\n"
     ]
    }
   ],
   "source": [
    "best_score(phrase_a)"
   ]
  },
  {
   "cell_type": "markdown",
   "id": "bfd869ec-b298-4494-a2bd-5744ca5d96d0",
   "metadata": {},
   "source": [
    "### Decipher using only positive proposals"
   ]
  },
  {
   "cell_type": "code",
   "execution_count": 18,
   "id": "aed37202-a75d-4c0c-beec-75c011a2972a",
   "metadata": {
    "tags": []
   },
   "outputs": [],
   "source": [
    "# what if we accept only positive proposals?\n",
    "\n",
    "\n",
    "def decipher_only_pos(jumbled_phrase, solution_key, n_iterations):\n",
    "    \n",
    "    current_sol_key = solution_key\n",
    "    \n",
    "    #keep array of scores and phrases\n",
    "    score_array = []\n",
    "    phrase_array = []\n",
    "    \n",
    "    #evaluate current score\n",
    "    current_score, current_phrase = score_sol_key(jumbled_phrase, current_sol_key)\n",
    "    \n",
    "    #loop through number of iterations\n",
    "    for i in range(n_iterations):\n",
    "        \n",
    "         #do not swap index 0 (space) as it will almost always be correctly mapped\n",
    "        first_index =  random.randint(1, len(solution_key)-1)\n",
    "        second_index =  random.randint(1, len(solution_key)-1)\n",
    "        \n",
    "        #propose new solution key\n",
    "        proposed_sol = swap_indices(current_sol_key, first_index, second_index)\n",
    "        #calculate score with proposed solution\n",
    "        proposed_score, proposed_phrase = score_sol_key(jumbled_phrase, proposed_sol)\n",
    "            \n",
    "        #check acceptance probability\n",
    "        if proposed_score > current_score:\n",
    "            #save variables before they are overwritten\n",
    "            score_array.append(current_score)\n",
    "            phrase_array.append(current_phrase)\n",
    "            \n",
    "            #swap to proposed phrase and score\n",
    "            current_score = proposed_score\n",
    "            current_sol_key = proposed_sol\n",
    "            current_phrase = proposed_phrase\n",
    "        \n",
    "        #print out a log of the phrases as the iterations progress\n",
    "        if i%10000 == 0:\n",
    "            print(i, current_phrase, current_score, proposed_score)\n",
    "        \n",
    "\n",
    "    return score_array, phrase_array "
   ]
  },
  {
   "cell_type": "code",
   "execution_count": 19,
   "id": "c7d0f80d-8af5-42d9-8ed4-24c9a2910ee4",
   "metadata": {},
   "outputs": [
    {
     "name": "stdout",
     "output_type": "stream",
     "text": [
      "0 caum asw ciee rost fl tno niee td hotun a laie dh ratog 500.0537722820202 466.9922872409625\n",
      "10000 laug any ldee wint sh tri rdee to fitur a hade of watim 528.0567085221538 521.8875529934088\n",
      "20000 laug any ldee wint sh tri rdee to fitur a hade of watim 528.0567085221538 524.5479927616117\n",
      "30000 laug any ldee wint sh tri rdee to fitur a hade of watim 528.0567085221538 516.3926916695692\n",
      "40000 laug any ldee wint sh tri rdee to fitur a hade of watim 528.0567085221538 528.0567085221538\n",
      "50000 laug any ldee wint sh tri rdee to fitur a hade of watim 528.0567085221538 525.9076204013791\n",
      "60000 laug any ldee wint sh tri rdee to fitur a hade of watim 528.0567085221538 498.7370575639818\n",
      "70000 laug any ldee wint sh tri rdee to fitur a hade of watim 528.0567085221538 528.0567085221538\n",
      "80000 laug any ldee wint sh tri rdee to fitur a hade of watim 528.0567085221538 509.1707716883694\n",
      "90000 laug any ldee wint sh tri rdee to fitur a hade of watim 528.0567085221538 505.62058496611917\n",
      "100000 laug any ldee wint sh tri rdee to fitur a hade of watim 528.0567085221538 528.0567085221538\n",
      "110000 laug any ldee wint sh tri rdee to fitur a hade of watim 528.0567085221538 528.0567085221538\n",
      "120000 laug any ldee wint sh tri rdee to fitur a hade of watim 528.0567085221538 512.5372981709233\n",
      "130000 laug any ldee wint sh tri rdee to fitur a hade of watim 528.0567085221538 504.5553352707032\n",
      "140000 laug any ldee wint sh tri rdee to fitur a hade of watim 528.0567085221538 528.0567085221538\n",
      "150000 laug any ldee wint sh tri rdee to fitur a hade of watim 528.0567085221538 521.8875529934088\n",
      "160000 laug any ldee wint sh tri rdee to fitur a hade of watim 528.0567085221538 497.609332382472\n",
      "170000 laug any ldee wint sh tri rdee to fitur a hade of watim 528.0567085221538 504.2180254363878\n",
      "180000 laug any ldee wint sh tri rdee to fitur a hade of watim 528.0567085221538 513.9092703085739\n",
      "190000 laug any ldee wint sh tri rdee to fitur a hade of watim 528.0567085221538 519.1680367340882\n"
     ]
    }
   ],
   "source": [
    "score_a, phrase_a = decipher_only_pos(jumbled, unigram_sol_key, 200000)"
   ]
  },
  {
   "cell_type": "code",
   "execution_count": 20,
   "id": "4a6e8588-34b7-4940-9e22-1e7e8a6cf819",
   "metadata": {},
   "outputs": [
    {
     "name": "stdout",
     "output_type": "stream",
     "text": [
      "caum asw ciee rost fl tho hiee td notuh a laie dn ratog 0.51 %\n"
     ]
    }
   ],
   "source": [
    "best_score(phrase_a)"
   ]
  },
  {
   "cell_type": "code",
   "execution_count": 21,
   "id": "ae197559-3f65-4b9b-bca8-9b94f710d5b4",
   "metadata": {},
   "outputs": [
    {
     "data": {
      "image/png": "[encoded data removed]",
      "text/plain": [
       "<Figure size 432x288 with 1 Axes>"
      ]
     },
     "metadata": {
      "needs_background": "light"
     },
     "output_type": "display_data"
    }
   ],
   "source": [
    "import matplotlib.pyplot as plt\n",
    "plt.plot(score_a)\n",
    "plt.xlabel('iteration')\n",
    "plt.ylabel('Score')\n",
    "plt.title('only positive swaps, 200000 iterations')\n",
    "\n",
    "plt.show()"
   ]
  },
  {
   "cell_type": "markdown",
   "id": "28b41015-3527-46b4-910a-4a201747b2a7",
   "metadata": {},
   "source": [
    "### Decipher with iteration dependant swap"
   ]
  },
  {
   "cell_type": "code",
   "execution_count": 22,
   "id": "8ea939b1-57d8-499e-801a-67860ef68af0",
   "metadata": {},
   "outputs": [],
   "source": [
    "#what if we reduce the probability of swapping sol_keys as the iterations increase?\n",
    "\n",
    "def should_swap_iteration_dep(current_score, proposed_score, n_iterations, current_iteration):\n",
    "    #define acceptance probability\n",
    "    acceptance_probability = min(1,math.exp(proposed_score-(current_score)))\n",
    "    U = random.uniform(0,1)\n",
    "    \n",
    "    #percent of iterations completed\n",
    "    percent_iter = current_iteration/n_iterations\n",
    "    \n",
    "    if (U + (percent_iter/4)) < acceptance_probability:\n",
    "        return True\n",
    "    else:\n",
    "        return False\n",
    "\n",
    "\n",
    "\n",
    "def decipher_diminishing_iterations(jumbled_phrase, solution_key, n_iterations):\n",
    "    \n",
    "    current_sol_key = solution_key\n",
    "    \n",
    "    #keep array of scores and phrases\n",
    "    score_array = []\n",
    "    phrase_array = []\n",
    "    \n",
    "    #evaluate current score\n",
    "    current_score, current_phrase = score_sol_key(jumbled_phrase, current_sol_key)\n",
    "    \n",
    "    #loop through number of iterations\n",
    "    for i in range(n_iterations):\n",
    "        \n",
    "         #do not swap index 0 (space) as it will almost always be correctly mapped\n",
    "        first_index =  random.randint(1, len(solution_key)-1)\n",
    "        second_index =  random.randint(1, len(solution_key)-1)\n",
    "        \n",
    "        #propose new solution key\n",
    "        proposed_sol = swap_indices(current_sol_key, first_index, second_index)\n",
    "        #calculate score with proposed solution\n",
    "        proposed_score, proposed_phrase = score_sol_key(jumbled_phrase, proposed_sol)\n",
    "            \n",
    "        #check acceptance probability\n",
    "        if should_swap_iteration_dep(current_score, proposed_score, n_iterations, i):\n",
    "            #save variables before they are overwritten\n",
    "            score_array.append(current_score)\n",
    "            phrase_array.append(current_phrase)\n",
    "            \n",
    "            #swap to proposed phrase and score\n",
    "            current_score = proposed_score\n",
    "            current_sol_key = proposed_sol\n",
    "            current_phrase = proposed_phrase\n",
    "        \n",
    "        #print out a log of the phrases as the iterations progress\n",
    "        if i%30000 == 0:\n",
    "            print(i, current_phrase, current_score, proposed_score)\n",
    "        \n",
    "            \n",
    "    return score_array, phrase_array "
   ]
  },
  {
   "cell_type": "code",
   "execution_count": 23,
   "id": "ed11dddc-ef4f-4b3e-9f46-4567e97cd0bf",
   "metadata": {},
   "outputs": [
    {
     "name": "stdout",
     "output_type": "stream",
     "text": [
      "0 caum ask ciee rost fl tno niee td hotun a laie dh ratog 500.7909243777664 500.7909243777664\n",
      "30000 paly ang pree wint ch toi oree td sitlo a hare ds watim 535.3747752717047 499.5381846348688\n",
      "60000 waug and wiss hent pl tre riss to fetur a lais of hatev 535.2430066134064 523.3083604995197\n",
      "90000 pacy and piss went lf the hiss to metch a fais om water 532.7141988695495 517.5174406842224\n",
      "120000 wacu ang wiss pent ld the hiss to retch a dais or patem 533.0593856338486 533.0593856338486\n",
      "150000 wacu and wiss rent pl the hiss to fetch a lais of ratex 532.1203927417564 510.4217557038313\n",
      "180000 waly ang wiss bent ch tde diss to metld a hais om bater 534.5555213909629 529.4572935167012\n",
      "210000 wacu and wiss ment bl the hiss to retch a lais or matex 534.1956704829665 530.8210509504158\n",
      "240000 wack and wiss ment pl the hiss to retch a lais or matef 534.8372694616604 532.0205854195555\n",
      "270000 wacy ang wiss ment pl the hiss to retch a lais or mated 535.1264836326486 535.1264836326486\n",
      "300000 wack and wiss ment pl the hiss to retch a lais or matev 535.4228751006162 523.8435505354873\n",
      "330000 wacr and wiss pent bl the hiss to metch a lais om patey 533.168615906207 517.3883980923189\n",
      "360000 wack ang wiss ment ld the hiss to retch a dais or matey 534.4901268528429 525.3982820550333\n",
      "390000 wack and wiss ment pl the hiss to retch a lais or matex 534.8681599486797 520.9683208124363\n"
     ]
    }
   ],
   "source": [
    "score_a, phrase_a = decipher_diminishing_iterations(jumbled, unigram_sol_key, 400000)"
   ]
  },
  {
   "cell_type": "code",
   "execution_count": 24,
   "id": "1869f2b9-e951-4975-af7d-224ba2284593",
   "metadata": {},
   "outputs": [
    {
     "name": "stdout",
     "output_type": "stream",
     "text": [
      "mack and miss went up the hiss to letch a pais ol water 0.84 %\n"
     ]
    }
   ],
   "source": [
    "best_score(phrase_a)"
   ]
  },
  {
   "cell_type": "code",
   "execution_count": 25,
   "id": "b2d3ae44-98d9-425a-858a-136e9ccc373c",
   "metadata": {},
   "outputs": [
    {
     "data": {
      "image/png": "[encoded data removed]",
      "text/plain": [
       "<Figure size 432x288 with 1 Axes>"
      ]
     },
     "metadata": {
      "needs_background": "light"
     },
     "output_type": "display_data"
    }
   ],
   "source": [
    "import matplotlib.pyplot as plt\n",
    "plt.axhline(533,0,100, linestyle = '--', c = 'k', alpha = 0.8)\n",
    "plt.plot(score_a[::500])\n",
    "plt.xlabel('iteration (* 500)')\n",
    "plt.ylabel('Score')\n",
    "plt.title('iteration dependant swapping function')\n",
    "\n",
    "plt.show()"
   ]
  },
  {
   "cell_type": "markdown",
   "id": "27e0fc6f-04d0-4bfd-b8dc-e4ed0052e2d1",
   "metadata": {},
   "source": [
    "### Decipher by comparing to english dictionary + all other methods"
   ]
  },
  {
   "cell_type": "code",
   "execution_count": 26,
   "id": "91cb23f3-bf1e-4aba-8591-79e6f7499f1a",
   "metadata": {},
   "outputs": [],
   "source": [
    "#what if we try comparing the words in the unjumbled phrase to words in the dictionary?\n",
    "\n",
    "#import list of 10,000 words\n",
    "with open('10000_words.txt') as f:\n",
    "    word_list = []\n",
    "    for row in f:\n",
    "        word_list.append(row.rstrip('\\n'))\n",
    "\n",
    "#seperate by space\n",
    "\n",
    "def sep_words(phrase):\n",
    "    words = phrase.split()\n",
    "    return words\n",
    "\n",
    "#calculate score, weighted by how many words are in English Language\n",
    "\n",
    "def word_score(phrase):\n",
    "    words = sep_words(phrase)\n",
    "    \n",
    "    #return how many times a word appears in dictionary\n",
    "    intersection = list(set(words).intersection(word_list))\n",
    "    times_appears = len(intersection)\n",
    "    \n",
    "    return times_appears\n",
    "\n",
    "\n",
    "def score_sol_key_with_dictionary(jumbled_phrase, solution_key):\n",
    "    \n",
    "    #first, unjumble phrase given key\n",
    "    unjumbled_phrase = unJumble(jumbled_phrase, solution_key)\n",
    "\n",
    "    unjumbled_dict = turn_to_dict(unjumbled_phrase)\n",
    "    score = 0\n",
    "    \n",
    "    for key, value in unjumbled_dict.items():\n",
    "        score += value * math.log(bigram_dict[key])\n",
    "        \n",
    "    #multiply by # of words that appear in dictionary\n",
    "    score *= (word_score(unjumbled_phrase) / len(unjumbled_phrase))\n",
    "        \n",
    "    return score, unjumbled_phrase\n",
    "\n",
    "#define code breaking function\n",
    "\n",
    "def decipher_with_dict(jumbled_phrase, solution_key, n_iterations):\n",
    "    \n",
    "    current_sol_key = solution_key\n",
    "    \n",
    "    #keep array of scores and phrases\n",
    "    score_array = []\n",
    "    phrase_array = []\n",
    "    \n",
    "    #evaluate current score\n",
    "    current_score, current_phrase = score_sol_key_with_dictionary(jumbled_phrase, current_sol_key)\n",
    "    \n",
    "    #loop through number of iterations\n",
    "    for i in range(n_iterations):\n",
    "        \n",
    "         #do not swap index 0 (space) as it will almost always be correctly mapped\n",
    "        first_index =  random.randint(1, len(solution_key)-1)\n",
    "        second_index =  random.randint(1, len(solution_key)-1)\n",
    "        \n",
    "        #propose new solution key\n",
    "        proposed_sol = swap_indices(current_sol_key, first_index, second_index)\n",
    "        #calculate score with proposed solution\n",
    "        proposed_score, proposed_phrase = score_sol_key_with_dictionary(jumbled_phrase, proposed_sol)\n",
    "            \n",
    "        #check acceptance probability\n",
    "        if should_swap_iteration_dep(current_score, proposed_score, n_iterations, i):\n",
    "            #save variables before they are overwritten\n",
    "            score_array.append(current_score)\n",
    "            phrase_array.append(current_phrase)\n",
    "            \n",
    "            #swap to proposed phrase and score\n",
    "            current_score = proposed_score\n",
    "            current_sol_key = proposed_sol\n",
    "            current_phrase = proposed_phrase\n",
    "        \n",
    "#         #print out a log of the phrases as the iterations progress\n",
    "#         if i%10000 == 0:\n",
    "#             print(i, current_phrase, current_score)\n",
    "        \n",
    "    return score_array, phrase_array\n"
   ]
  },
  {
   "cell_type": "code",
   "execution_count": 27,
   "id": "e727f7a5-5f19-4235-862c-a5950732972a",
   "metadata": {},
   "outputs": [],
   "source": [
    "score_vary = []\n",
    "phrase_vary = []\n",
    "iteration_vary = []\n",
    "\n",
    "for i in np.linspace(100000,400000, 10):\n",
    "    \n",
    "    score, phrase = decipher_with_dict(jumbled, unigram_sol_key, int(i))\n",
    "    \n",
    "    score_vary.append(score)\n",
    "    phrase_vary.append(phrase)\n",
    "    iteration_vary.append(int(i))\n"
   ]
  },
  {
   "cell_type": "code",
   "execution_count": 28,
   "id": "2779541c-79bf-4259-91f2-811dc31b92e8",
   "metadata": {},
   "outputs": [],
   "source": [
    "#return best score for 2D array\n",
    "def best_score_2d(phrase_array):\n",
    "    original = 'jack and jill went up the hill to fetch a pail of water'\n",
    "    \n",
    "    correct_percentages = []\n",
    "    best_percentage = 0\n",
    "\n",
    "    for i in phrase_array:\n",
    "        for j in i:\n",
    "\n",
    "            letters_correct = sum(x == y for x, y in zip(original, j))\n",
    "\n",
    "            percent_correct = letters_correct / len(j)\n",
    "\n",
    "            correct_percentages.append(percent_correct)\n",
    "\n",
    "            #find best phrase\n",
    "\n",
    "            if percent_correct > best_percentage:\n",
    "                best_percentage = percent_correct\n",
    "                best_phrase = j\n",
    "\n",
    "    print(best_phrase, round(best_percentage,2), '%')"
   ]
  },
  {
   "cell_type": "markdown",
   "id": "449666c2-056e-4f19-880a-38087a48da66",
   "metadata": {},
   "source": [
    "### In the end, the closest I was able to get was:"
   ]
  },
  {
   "cell_type": "code",
   "execution_count": 29,
   "id": "cf09b6f3-3c9d-479f-8482-6e8ae3116ed2",
   "metadata": {},
   "outputs": [
    {
     "name": "stdout",
     "output_type": "stream",
     "text": [
      "jack and jill rent um the hill to fetch a mail of rates 0.91 %\n"
     ]
    }
   ],
   "source": [
    "best_score_2d(phrase_vary)"
   ]
  },
  {
   "cell_type": "code",
   "execution_count": 58,
   "id": "d82f0a7c-181e-421e-bf90-dd6e6afc73d9",
   "metadata": {},
   "outputs": [
    {
     "data": {
      "image/png": "[encoded data removed]",
      "text/plain": [
       "<Figure size 720x432 with 1 Axes>"
      ]
     },
     "metadata": {
      "needs_background": "light"
     },
     "output_type": "display_data"
    }
   ],
   "source": [
    "plt.rcParams['figure.figsize'] = (10,6)\n",
    "\n",
    "for i in range(len(phrase_vary)):\n",
    "    plt.plot(score_vary[i][::500])\n",
    "\n",
    "plt.xlabel('Iterations (*500)')\n",
    "plt.ylabel('Score')\n",
    "plt.title('Score convergence by iteration')\n",
    "plt.show()"
   ]
  },
  {
   "cell_type": "code",
   "execution_count": 53,
   "id": "4aea1b2b-aba1-461e-9a42-c38f55791f23",
   "metadata": {},
   "outputs": [
    {
     "data": {
      "image/png": "[encoded data removed]",
      "text/plain": [
       "<Figure size 432x360 with 1 Axes>"
      ]
     },
     "metadata": {
      "needs_background": "light"
     },
     "output_type": "display_data"
    }
   ],
   "source": [
    "#MAX score by iteration\n",
    "plt.rcParams['figure.figsize'] = (6,5)\n",
    "max_scores = []\n",
    "for i in range(len(score_vary)):\n",
    "    max_scores.append(max(score_vary[i]))\n",
    "    \n",
    "plt.plot(iteration_vary, max_scores)\n",
    "plt.xlabel('Iterations')\n",
    "plt.ylabel('Max Score')\n",
    "plt.title('max score as a function of iterations')\n",
    "plt.show()"
   ]
  },
  {
   "cell_type": "markdown",
   "id": "2754b6d3-9eb5-4d9a-b13d-d556618462dc",
   "metadata": {},
   "source": [
    "calculate the percentage of correct letters in your solution phrase (at the right position) compared to the true phrase. How does this compare to if you were to randomly draw a\n",
    "letter for each position?"
   ]
  },
  {
   "cell_type": "code",
   "execution_count": 34,
   "id": "0191dd67-fc31-4cd5-85f3-5b0733316496",
   "metadata": {},
   "outputs": [
    {
     "name": "stdout",
     "output_type": "stream",
     "text": [
      "\n",
      "percentage solved IF RANDOM:  0.05 %\n"
     ]
    }
   ],
   "source": [
    "\n",
    "#if randomly drawing a letter for each position,\n",
    "\n",
    "random_solution = []\n",
    "original = 'jack and jill went up the hill to fetch a pail of water'\n",
    "for i in range(len(original)):\n",
    "    random_index = random.randint(0, len(list_of_letters)-1)\n",
    "    random_solution.append(list_of_letters[random_index])\n",
    "    \n",
    "random_solution = ''.join(random_solution)\n",
    "\n",
    "letters_correct_random = sum(x == y for x, y in zip(random_solution, original))\n",
    "\n",
    "percent_correct_random = letters_correct_random / len(original)\n",
    "\n",
    "print('\\npercentage solved IF RANDOM: ', round(percent_correct_random,2), '%')"
   ]
  },
  {
   "cell_type": "code",
   "execution_count": null,
   "id": "1bbf8a23-834c-43cb-9b57-777bead0ab62",
   "metadata": {},
   "outputs": [],
   "source": []
  }
 ],
 "metadata": {
  "kernelspec": {
   "display_name": "Python 3 (ipykernel)",
   "language": "python",
   "name": "python3"
  },
  "language_info": {
   "codemirror_mode": {
    "name": "ipython",
    "version": 3
   },
   "file_extension": ".py",
   "mimetype": "text/x-python",
   "name": "python",
   "nbconvert_exporter": "python",
   "pygments_lexer": "ipython3",
   "version": "3.8.1"
  }
 },
 "nbformat": 4,
 "nbformat_minor": 5
}
