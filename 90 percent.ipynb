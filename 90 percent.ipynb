{
 "cells": [
  {
   "cell_type": "code",
   "execution_count": 1,
   "id": "supported-moscow",
   "metadata": {},
   "outputs": [],
   "source": [
    "import pandas as pd\n",
    "import numpy as np\n",
    "import matplotlib.pyplot as plt\n",
    "import seaborn as sns\n",
    "from scipy.stats import norm\n",
    "import scipy.stats as st\n",
    "%matplotlib inline"
   ]
  },
  {
   "cell_type": "code",
   "execution_count": 2,
   "id": "yellow-bikini",
   "metadata": {},
   "outputs": [],
   "source": [
    "m11 = pd.read_csv(\"/Users/Oscar/Documents/Research/GW190521/Overleaf Distributions/m11distribution.csv\")"
   ]
  },
  {
   "cell_type": "code",
   "execution_count": 3,
   "id": "electrical-gathering",
   "metadata": {
    "scrolled": true
   },
   "outputs": [
    {
     "data": {
      "text/html": [
       "<div>\n",
       "<style scoped>\n",
       "    .dataframe tbody tr th:only-of-type {\n",
       "        vertical-align: middle;\n",
       "    }\n",
       "\n",
       "    .dataframe tbody tr th {\n",
       "        vertical-align: top;\n",
       "    }\n",
       "\n",
       "    .dataframe thead th {\n",
       "        text-align: right;\n",
       "    }\n",
       "</style>\n",
       "<table border=\"1\" class=\"dataframe\">\n",
       "  <thead>\n",
       "    <tr style=\"text-align: right;\">\n",
       "      <th></th>\n",
       "      <th>m11_mass</th>\n",
       "      <th>m12_mass</th>\n",
       "      <th>m1_merged</th>\n",
       "      <th>pm1_dist</th>\n",
       "      <th>pimk</th>\n",
       "      <th>astroprimary</th>\n",
       "      <th>probabilitym11</th>\n",
       "    </tr>\n",
       "  </thead>\n",
       "  <tbody>\n",
       "    <tr>\n",
       "      <th>0</th>\n",
       "      <td>31</td>\n",
       "      <td>30</td>\n",
       "      <td>58</td>\n",
       "      <td>0.000015</td>\n",
       "      <td>0.002407</td>\n",
       "      <td>0.013810</td>\n",
       "      <td>0.000088</td>\n",
       "    </tr>\n",
       "    <tr>\n",
       "      <th>1</th>\n",
       "      <td>32</td>\n",
       "      <td>29</td>\n",
       "      <td>58</td>\n",
       "      <td>0.000015</td>\n",
       "      <td>0.002407</td>\n",
       "      <td>0.013704</td>\n",
       "      <td>0.000087</td>\n",
       "    </tr>\n",
       "    <tr>\n",
       "      <th>2</th>\n",
       "      <td>32</td>\n",
       "      <td>30</td>\n",
       "      <td>59</td>\n",
       "      <td>0.000015</td>\n",
       "      <td>0.002211</td>\n",
       "      <td>0.013704</td>\n",
       "      <td>0.000095</td>\n",
       "    </tr>\n",
       "    <tr>\n",
       "      <th>3</th>\n",
       "      <td>32</td>\n",
       "      <td>31</td>\n",
       "      <td>60</td>\n",
       "      <td>0.000046</td>\n",
       "      <td>0.001952</td>\n",
       "      <td>0.013704</td>\n",
       "      <td>0.000323</td>\n",
       "    </tr>\n",
       "    <tr>\n",
       "      <th>4</th>\n",
       "      <td>33</td>\n",
       "      <td>28</td>\n",
       "      <td>58</td>\n",
       "      <td>0.000015</td>\n",
       "      <td>0.002407</td>\n",
       "      <td>0.012923</td>\n",
       "      <td>0.000082</td>\n",
       "    </tr>\n",
       "    <tr>\n",
       "      <th>...</th>\n",
       "      <td>...</td>\n",
       "      <td>...</td>\n",
       "      <td>...</td>\n",
       "      <td>...</td>\n",
       "      <td>...</td>\n",
       "      <td>...</td>\n",
       "      <td>...</td>\n",
       "    </tr>\n",
       "    <tr>\n",
       "      <th>2296</th>\n",
       "      <td>91</td>\n",
       "      <td>26</td>\n",
       "      <td>117</td>\n",
       "      <td>0.001396</td>\n",
       "      <td>0.000004</td>\n",
       "      <td>0.000004</td>\n",
       "      <td>0.001476</td>\n",
       "    </tr>\n",
       "    <tr>\n",
       "      <th>2297</th>\n",
       "      <td>91</td>\n",
       "      <td>34</td>\n",
       "      <td>117</td>\n",
       "      <td>0.001396</td>\n",
       "      <td>0.000004</td>\n",
       "      <td>0.000004</td>\n",
       "      <td>0.001476</td>\n",
       "    </tr>\n",
       "    <tr>\n",
       "      <th>2298</th>\n",
       "      <td>91</td>\n",
       "      <td>27</td>\n",
       "      <td>118</td>\n",
       "      <td>0.001182</td>\n",
       "      <td>0.000003</td>\n",
       "      <td>0.000004</td>\n",
       "      <td>0.001873</td>\n",
       "    </tr>\n",
       "    <tr>\n",
       "      <th>2299</th>\n",
       "      <td>91</td>\n",
       "      <td>28</td>\n",
       "      <td>119</td>\n",
       "      <td>0.001197</td>\n",
       "      <td>0.000002</td>\n",
       "      <td>0.000004</td>\n",
       "      <td>0.002044</td>\n",
       "    </tr>\n",
       "    <tr>\n",
       "      <th>2300</th>\n",
       "      <td>91</td>\n",
       "      <td>35</td>\n",
       "      <td>119</td>\n",
       "      <td>0.001197</td>\n",
       "      <td>0.000002</td>\n",
       "      <td>0.000004</td>\n",
       "      <td>0.002044</td>\n",
       "    </tr>\n",
       "  </tbody>\n",
       "</table>\n",
       "<p>2301 rows × 7 columns</p>\n",
       "</div>"
      ],
      "text/plain": [
       "      m11_mass  m12_mass  m1_merged  pm1_dist      pimk  astroprimary  \\\n",
       "0           31        30         58  0.000015  0.002407      0.013810   \n",
       "1           32        29         58  0.000015  0.002407      0.013704   \n",
       "2           32        30         59  0.000015  0.002211      0.013704   \n",
       "3           32        31         60  0.000046  0.001952      0.013704   \n",
       "4           33        28         58  0.000015  0.002407      0.012923   \n",
       "...        ...       ...        ...       ...       ...           ...   \n",
       "2296        91        26        117  0.001396  0.000004      0.000004   \n",
       "2297        91        34        117  0.001396  0.000004      0.000004   \n",
       "2298        91        27        118  0.001182  0.000003      0.000004   \n",
       "2299        91        28        119  0.001197  0.000002      0.000004   \n",
       "2300        91        35        119  0.001197  0.000002      0.000004   \n",
       "\n",
       "      probabilitym11  \n",
       "0           0.000088  \n",
       "1           0.000087  \n",
       "2           0.000095  \n",
       "3           0.000323  \n",
       "4           0.000082  \n",
       "...              ...  \n",
       "2296        0.001476  \n",
       "2297        0.001476  \n",
       "2298        0.001873  \n",
       "2299        0.002044  \n",
       "2300        0.002044  \n",
       "\n",
       "[2301 rows x 7 columns]"
      ]
     },
     "execution_count": 3,
     "metadata": {},
     "output_type": "execute_result"
    }
   ],
   "source": [
    "m11"
   ]
  },
  {
   "cell_type": "code",
   "execution_count": 8,
   "id": "white-reference",
   "metadata": {},
   "outputs": [
    {
     "data": {
      "image/png": "[encoded data removed]",
      "text/plain": [
       "<Figure size 432x288 with 1 Axes>"
      ]
     },
     "metadata": {
      "needs_background": "light"
     },
     "output_type": "display_data"
    }
   ],
   "source": [
    "m11length = max(m11['m11_mass']) - min(m11['m11_mass'])\n",
    "nm11, binsm11, _ = plt.hist(m11['m11_mass'], weights = m11['probabilitym11'], bins = m11length, density = True)\n",
    "plt.title('GWTC - 2 Distribution')\n",
    "plt.show()"
   ]
  },
  {
   "cell_type": "code",
   "execution_count": 11,
   "id": "wrong-eleven",
   "metadata": {},
   "outputs": [
    {
     "data": {
      "image/png": "[encoded data removed]",
      "text/plain": [
       "<Figure size 432x288 with 1 Axes>"
      ]
     },
     "metadata": {
      "needs_background": "light"
     },
     "output_type": "display_data"
    }
   ],
   "source": [
    "m1uniform = pd.read_csv(\"/Users/Oscar/Documents/Research/GW190521/Overleaf Distributions/m1uniform.csv\")\n",
    "nm11u, binsm11u, _ = plt.hist(m1uniform['m11_mergen'], weights = m1uniform['pm1_dist'], bins = 78, density = True)\n",
    "plt.title('Uniform Distribution')\n",
    "plt.show()"
   ]
  },
  {
   "cell_type": "code",
   "execution_count": 14,
   "id": "living-senior",
   "metadata": {},
   "outputs": [],
   "source": [
    "counts_gwtc = (nm11 * 10000000)\n",
    "counts_gwtc = counts_gwtc.astype(int)\n",
    "array_m11_gwtc = np.repeat(binsm11[:-1], counts_gwtc)"
   ]
  },
  {
   "cell_type": "code",
   "execution_count": 16,
   "id": "opposite-thompson",
   "metadata": {},
   "outputs": [],
   "source": [
    "counts_uniform = (nm11u * 10000000)\n",
    "counts_uniform = counts_uniform.astype(int)\n",
    "array_m11_uniform = np.repeat(binsm11u[:-1], counts_uniform)"
   ]
  },
  {
   "cell_type": "code",
   "execution_count": 19,
   "id": "accomplished-eagle",
   "metadata": {},
   "outputs": [
    {
     "data": {
      "text/plain": [
       "(40.849196332993735, 81.52380422330798)"
      ]
     },
     "execution_count": 19,
     "metadata": {},
     "output_type": "execute_result"
    }
   ],
   "source": [
    "ci_gwtc = norm(*norm.fit(array_m11_gwtc)).interval(0.90)\n",
    "ci_gwtc"
   ]
  },
  {
   "cell_type": "code",
   "execution_count": 20,
   "id": "thrown-equilibrium",
   "metadata": {},
   "outputs": [
    {
     "data": {
      "text/plain": [
       "(42.846844405873625, 85.46845245531381)"
      ]
     },
     "execution_count": 20,
     "metadata": {},
     "output_type": "execute_result"
    }
   ],
   "source": [
    "ci_uniform = norm(*norm.fit(array_m11_uniform)).interval(0.90)\n",
    "ci_uniform"
   ]
  },
  {
   "cell_type": "code",
   "execution_count": 22,
   "id": "concerned-possible",
   "metadata": {},
   "outputs": [],
   "source": [
    "#cutoff distriution to within CI\n",
    "\n",
    "#m11_ci_uniform = [x for x in array_m11_uniform if x < ci_uniform[1] and x > ci_uniform[0]]\n",
    "#m11_ci_gwtc = [x for x in array_m11_gwtc if x < ci_gwtc[1] and x > ci_gwtc[0]]"
   ]
  },
  {
   "cell_type": "code",
   "execution_count": 115,
   "id": "engaged-breast",
   "metadata": {},
   "outputs": [
    {
     "data": {
      "text/plain": [
       "63.0"
      ]
     },
     "execution_count": 115,
     "metadata": {},
     "output_type": "execute_result"
    }
   ],
   "source": [
    "m11_median_uniform = np.median(array_m11_uniform)\n",
    "m11_median_uniform"
   ]
  },
  {
   "cell_type": "code",
   "execution_count": 116,
   "id": "compressed-invite",
   "metadata": {},
   "outputs": [
    {
     "data": {
      "text/plain": [
       "62.0"
      ]
     },
     "execution_count": 116,
     "metadata": {},
     "output_type": "execute_result"
    }
   ],
   "source": [
    "m11_median_gwtc = np.median(array_m11_gwtc)\n",
    "m11_median_gwtc"
   ]
  },
  {
   "cell_type": "code",
   "execution_count": 120,
   "id": "visible-freight",
   "metadata": {
    "scrolled": true
   },
   "outputs": [
    {
     "data": {
      "image/png": "[encoded data removed]",
      "text/plain": [
       "<Figure size 432x288 with 1 Axes>"
      ]
     },
     "metadata": {
      "needs_background": "light"
     },
     "output_type": "display_data"
    }
   ],
   "source": [
    "fig, axs = plt.subplots()\n",
    "\n",
    "height, bins, patches = plt.hist(array_m11_gwtc[::3000], bins = m11length, density = True)\n",
    "axs.vlines(ci_gwtc[0], 0, height.max() + 0.005, linestyles = 'dashed', colors = 'black', linewidth = 2)\n",
    "axs.vlines(ci_gwtc[1], 0, height.max() + 0.005, linestyles = 'dashed', colors = 'black', linewidth = 2)\n",
    "plt.ylim(0,height.max()+0.003)\n",
    "axs.vlines(m11_median_gwtc ,0,height.max() + 0.005, linestyles = 'dashed', colors = 'red', linewidth = 2)\n",
    "\n",
    "axs.set_title('GWTC - 2 GW190521 Mass 1.1', fontsize = 14)\n",
    "axs.set_xlabel('Mass [$M_\\odot$]', fontsize = 14)\n",
    "axs.set_ylabel('PDF', fontsize = 14)\n",
    "\n",
    "axs.annotate(round(ci_gwtc[0],2), xy=(ci_gwtc[0]+1, 0.0362))\n",
    "axs.annotate(round(ci_gwtc[1],2), xy=(ci_gwtc[1]+1, 0.0362))\n",
    "axs.annotate(m11_median_gwtc, xy=(m11_median_gwtc+1, 0.0362), color = 'red')\n",
    "\n",
    "plt.rc('legend', fontsize=10, loc = 'right') \n",
    "leg = axs.legend(labels=[\"90% CI\", \"Median\"],\n",
    "                 fancybox=True, shadow = True, bbox_to_anchor = (1,.7))\n",
    "leg.legendHandles[0].set_color('black')\n",
    "leg.legendHandles[1].set_color('red')\n",
    "\n",
    "plt.show()"
   ]
  },
  {
   "cell_type": "code",
   "execution_count": 121,
   "id": "weird-valuation",
   "metadata": {},
   "outputs": [
    {
     "data": {
      "image/png": "[encoded data removed]",
      "text/plain": [
       "<Figure size 432x288 with 1 Axes>"
      ]
     },
     "metadata": {
      "needs_background": "light"
     },
     "output_type": "display_data"
    }
   ],
   "source": [
    "fig, axs = plt.subplots()\n",
    "\n",
    "height, bins, patches = plt.hist(array_m11_uniform[::3000], bins = 78, density = True)\n",
    "axs.vlines(ci_uniform[0], 0, height.max() + 0.005, linestyles = 'dashed', colors = 'black', linewidth = 2)\n",
    "axs.vlines(ci_uniform[1], 0, height.max() + 0.005, linestyles = 'dashed', colors = 'black', linewidth = 2)\n",
    "plt.ylim(0,height.max()+0.003)\n",
    "axs.vlines(m11_median_uniform ,0,height.max() + 0.005, linestyles = 'dashed', colors = 'red', linewidth = 2)\n",
    "\n",
    "axs.set_title('Uniform GW190521 Mass 1.1', fontsize = 14)\n",
    "axs.set_xlabel('Mass [$M_\\odot$]', fontsize = 14)\n",
    "axs.set_ylabel('PDF', fontsize = 14)\n",
    "\n",
    "axs.annotate(round(ci_uniform[0],2), xy=(ci_uniform[0]+1, 0.03))\n",
    "axs.annotate(round(ci_uniform[1],2), xy=(ci_uniform[1]+1, 0.03))\n",
    "axs.annotate(m11_median_uniform, xy=(m11_median_uniform+1, 0.03), color = 'red')\n",
    "\n",
    "plt.rc('legend', fontsize=10, loc = 'right') \n",
    "leg = axs.legend(labels=[\"90% CI\", \"Median\"],\n",
    "                 fancybox=True, shadow = True)\n",
    "leg.legendHandles[0].set_color('black')\n",
    "leg.legendHandles[1].set_color('red')\n",
    "\n",
    "plt.show()"
   ]
  },
  {
   "cell_type": "code",
   "execution_count": 122,
   "id": "threaded-frank",
   "metadata": {},
   "outputs": [],
   "source": [
    "#Symmetric\n",
    "#find 5% from either side\n",
    "\n",
    "bin_width_m11_gwtc = binsm11[1] - binsm11[0]\n",
    "percent_gwtc = []\n",
    "for i in range(len(binsm11)):\n",
    "    percent_gwtc += [round(bin_width_m11_gwtc * sum(nm11[i:]),4)* 100]\n",
    "\n",
    "lower5_gwtc_loc = min(enumerate(percent_gwtc), key=lambda x: abs(x[1]-95))\n",
    "upper5_gwtc_loc = min(enumerate(percent_gwtc), key=lambda x: abs(x[1]-5))\n",
    "\n",
    "#uniform\n",
    "\n",
    "bin_width_m11_uniform = binsm11u[1] - binsm11u[0]\n",
    "percent_uniform = []\n",
    "for i in range(len(binsm11u)):\n",
    "    percent_uniform += [round(bin_width_m11_uniform * sum(nm11u[i:]),4)* 100]\n",
    "\n",
    "lower5_uniform_loc = min(enumerate(percent_uniform), key=lambda x: abs(x[1]-95))\n",
    "upper5_uniform_loc = min(enumerate(percent_uniform), key=lambda x: abs(x[1]-5))"
   ]
  },
  {
   "cell_type": "code",
   "execution_count": 123,
   "id": "comparative-anxiety",
   "metadata": {},
   "outputs": [],
   "source": [
    "lower5_gwtc = binsm11[lower5_gwtc_loc[0]]\n",
    "upper5_gwtc = binsm11[upper5_gwtc_loc[0]]\n",
    "\n",
    "lower5_uniform = binsm11u[lower5_uniform_loc[0]]\n",
    "upper5_uniform = binsm11u[upper5_uniform_loc[0]]"
   ]
  },
  {
   "cell_type": "code",
   "execution_count": 124,
   "id": "greenhouse-perspective",
   "metadata": {},
   "outputs": [
    {
     "data": {
      "image/png": "[encoded data removed]",
      "text/plain": [
       "<Figure size 432x288 with 1 Axes>"
      ]
     },
     "metadata": {
      "needs_background": "light"
     },
     "output_type": "display_data"
    }
   ],
   "source": [
    "fig, axs = plt.subplots()\n",
    "\n",
    "height, bins, patches = plt.hist(array_m11_gwtc[::3000], bins = m11length, density = True)\n",
    "axs.vlines(lower5_gwtc, 0, height.max() + 0.005, linestyles = 'dashed', colors = 'black', linewidth = 2)\n",
    "axs.vlines(upper5_gwtc, 0, height.max() + 0.005, linestyles = 'dashed', colors = 'black', linewidth = 2)\n",
    "plt.ylim(0,height.max()+0.003)\n",
    "axs.vlines(m11_median_gwtc ,0,height.max() + 0.005, linestyles = 'dashed', colors = 'red', linewidth = 2)\n",
    "\n",
    "axs.set_title('GWTC - 2 GW190521 Mass 1.1 (Symmetric)', fontsize = 14)\n",
    "axs.set_xlabel('Mass [$M_\\odot$]', fontsize = 14)\n",
    "axs.set_ylabel('PDF', fontsize = 14)\n",
    "\n",
    "axs.annotate(lower5_gwtc, xy=(lower5_gwtc+1, 0.0362))\n",
    "axs.annotate(upper5_gwtc, xy=(upper5_gwtc+1, 0.0362))\n",
    "axs.annotate(m11_median_gwtc, xy=(m11_median_gwtc+1, 0.0362), color = 'red')\n",
    "\n",
    "plt.rc('legend', fontsize=10, loc = 'right') \n",
    "leg = axs.legend(labels=[\"90% CI\", \"Median\"],\n",
    "                 fancybox=True, shadow = True, bbox_to_anchor = (1,.7))\n",
    "leg.legendHandles[0].set_color('black')\n",
    "leg.legendHandles[1].set_color('red')\n",
    "\n",
    "plt.show()"
   ]
  },
  {
   "cell_type": "code",
   "execution_count": 125,
   "id": "iraqi-sunday",
   "metadata": {},
   "outputs": [
    {
     "data": {
      "image/png": "[encoded data removed]",
      "text/plain": [
       "<Figure size 432x288 with 1 Axes>"
      ]
     },
     "metadata": {
      "needs_background": "light"
     },
     "output_type": "display_data"
    }
   ],
   "source": [
    "fig, axs = plt.subplots()\n",
    "\n",
    "height, bins, patches = plt.hist(array_m11_uniform[::3000], bins = 78, density = True)\n",
    "axs.vlines(lower5_uniform, 0, height.max() + 0.005, linestyles = 'dashed', colors = 'black', linewidth = 2)\n",
    "axs.vlines(upper5_uniform, 0, height.max() + 0.005, linestyles = 'dashed', colors = 'black', linewidth = 2)\n",
    "plt.ylim(0,height.max()+0.003)\n",
    "axs.vlines(m11_median_uniform ,0,height.max() + 0.005, linestyles = 'dashed', colors = 'red', linewidth = 2)\n",
    "\n",
    "axs.set_title('Uniform GW190521 Mass 1.1 (Symmetric)', fontsize = 14)\n",
    "axs.set_xlabel('Mass [$M_\\odot$]', fontsize = 14)\n",
    "axs.set_ylabel('PDF', fontsize = 14)\n",
    "\n",
    "axs.annotate(lower5_uniform, xy=(lower5_uniform+1, 0.03))\n",
    "axs.annotate(upper5_uniform, xy=(upper5_uniform+1, 0.03))\n",
    "axs.annotate(m11_median_uniform, xy=(m11_median_uniform+1, 0.03), color = 'red')\n",
    "\n",
    "plt.rc('legend', fontsize=10, loc = 'right') \n",
    "leg = axs.legend(labels=[\"90% CI\", \"Median\"],\n",
    "                 fancybox=True, shadow = True)\n",
    "leg.legendHandles[0].set_color('black')\n",
    "leg.legendHandles[1].set_color('red')\n",
    "\n",
    "plt.show()"
   ]
  }
 ],
 "metadata": {
  "kernelspec": {
   "display_name": "Python 3",
   "language": "python",
   "name": "python3"
  },
  "language_info": {
   "codemirror_mode": {
    "name": "ipython",
    "version": 3
   },
   "file_extension": ".py",
   "mimetype": "text/x-python",
   "name": "python",
   "nbconvert_exporter": "python",
   "pygments_lexer": "ipython3",
   "version": "3.9.0"
  }
 },
 "nbformat": 4,
 "nbformat_minor": 5
}
